{
 "cells": [
  {
   "attachments": {},
   "cell_type": "markdown",
   "metadata": {},
   "source": [
    "# <span style='font-family:palatino'><span style='color:#3A4079'> **Bells Hells ~ Critical Role Campaign Three**\n",
    "***\n",
    "\n",
    "<span style='font-family:palatino'>The campaign follows the Bells Hells, a group of adventurers, as they travel across the continent of Marquet. Their journey begins a few months before the Apogee Solstice, a significant celestial event that affects magic in Exandria. The party becomes entangled in the mystery surrounding Exandria's second moon, Ruidus, and the superstitions surrounding those born under its spontaneous flares. They uncover that the gods created Ruidus as a prison for an ancient evil, and the Ruby Vanguard, led by Martinet Ludinus Da'leth, aims to release this entity during the Apogee Solstice. To prevent this, the Bells Hells target the Malleus Keys, magical devices constructed by the Ruby Vanguard to assist in their ritual.\n",
    "***\n",
    "\n",
    "<span style='font-family:palatino'>The <span style='color:#76CA84'>main characters</span> are:\n",
    "\n",
    "* <span style='font-family:palatino'><span style='color:#76CA84'>**Ashton Greymoore**\n",
    "   ><span style='font-family:palatino'>Ashton Greymoore is an earth genasi barbarian who was part of a group called the Nobodies. They were involved in an attack on Jiana Hexum's home in Jrusar but were severely wounded and subsequently abandoned by their companions. Since then, Ashton has been working to repay their debt to Hexum. During a job, they encountered an automaton named Fresh Cut Grass and assisted in burying their fallen comrades. \n",
    "\n",
    "* <span style='font-family:palatino'><span style='color:#76CA84'>**Bertrand Bell** \n",
    "   > <span style='font-family:palatino'>Sir Bertrand Bell is a human fighter who joined Vox Machina on a journey to the plane of Pandemonium. Over the years, he embellished his achievements. During their time in Jrusar, Bertrand introduced the group to Lord Ariks Eshteross after a peculiar encounter with animated furniture. Tragically, Bertrand was ambushed and killed by the dwarf Dugger when he became separated from the party one evening. In honor of their fallen comrade, the group later named themselves the Bells Hells and sought vengeance for his death.\n",
    "\n",
    "* <span style='font-family:palatino'><span style='color:#76CA84'>**Chetney Pock O'Pea**\n",
    "   > <span style='font-family:palatino'>Chetney Pock O'Pea is a gnome blood hunter/rogue and a skilled woodworking artisan. He departed from Uthodurn in search of assistance with his lycanthropy condition. Chetney reaches out to the Bells Hells to seek their aid in locating a specific individual. After this initial encounter, he becomes a full member of the group, joining them on their adventures.\n",
    "\n",
    "* <span style='font-family:palatino'><span style='color:#76CA84'>**F.C.G.**\n",
    "   > <span style='font-family:palatino'>Fresh Cut Grass (FCG),is an automaton cleric with ancient Aeorian design who was reassembled by the tinkerer Dancer in 838 PD. They are the surviving member of the party known as the Division of Public Benefit. They are keen to support the endeavors of the other members of the group which would become known as the Bells Hells. They initially believed that they were built by Dancer but the party learns FCG was a pre-Divergence Harmonious Aeormaton. While they don't have memories of this time period, FCG fears that they are one of the secret assassin Aeormatons after learning that they repressed memories of killing the other members of the Division of Public Benefit after going berserk.\n",
    "\n",
    "* <span style='font-family:palatino'><span style='color:#76CA84'>**Fearne Calloway** \n",
    "   > <span style='font-family:palatino'>Fearne Calloway is a Ruidusborn faun druid who ventured from the Feywild to the Material Plane with the purpose of exploring and locating her parents. She possesses the ability to summon a wildfire spirit, manifesting as a fiery monkey named Little Mister. In Emon, Fearne encountered Orym and Dorian, along with other adventurers, leading them to form a group known as the Crown Keepers.\n",
    "\n",
    "* <span style='font-family:palatino'><span style='color:#76CA84'>**Imogen Temult** \n",
    "   > <span style='font-family:palatino'>Imogen Temult is a Ruidusborn human sorcerer with psionic magic. She frequently experiences dreams featuring a red storm, which holds significance for her. Imogen's close companion, Laudna, accompanies her on a journey to Jrusar, driven by their shared curiosity about Imogen's psionic abilities and Laudna's necromantic talents.Imogen's mother, Liliana Temult, departed when Imogen was a child. Their exploration of Ruidius leads them to a startling revelation: Liliana is an Exaltant Ruidusborn and holds a high-ranking position as a general in the Ruby Vanguard.\n",
    "\n",
    "* <span style='font-family:palatino'><span style='color:#76CA84'>**Laudna**\n",
    "   > <span style='font-family:palatino'>Laudna is a human warlock/sorcerer, specifically a Hollow One. She met her demise shortly before the Whitestone Rebellion in 810 PD but was brought back to life through the use of necromantic magic. Since her resurrection, Laudna has occasionally experienced hearing the voice of the deceased Delilah Briarwood, adding an eerie element to her existence.After her resurrection, Laudna spent many decades wandering before her path intersected with Imogen's in the Taloned Highlands. The two formed a connection and eventually embarked on a journey together, which led them to Jrusar in 843 PD.\n",
    "    \n",
    "* <span style='font-family:palatino'><span style='color:#76CA84'>**Orym**\n",
    "   > <span style='font-family:palatino'>Orym of the Air Ashari is a halfling fighter entrusted with a mission by Keyleth of the Air Ashari. The task involves investigating an attack that occurred in Marquet, which bears resemblance to a previous assault on Keyleth herself in 837 PD. Unfortunately, Orym's husband, Will, lost his life during the previous attack.\n",
    "\n",
    "***\n",
    "\n",
    "<span style='font-family:palatino'>The <span style='color:#A782D7'>side/guest characters</span> are:\n",
    "\n",
    "* <span style='font-family:palatino'><span style='color:#A782D7'>**Bor'Dor**\n",
    "   ><span style='font-family:palatino'>\n",
    "\n",
    "* <span style='font-family:palatino'><span style='color:#A782D7'>**Deanna Leimert**\n",
    "   ><span style='font-family:palatino'>Deanna Leimert is a gnome cleric devoted to the Dawnfather. She shares a romantic history with Chetney, but they eventually separated. Following their breakup, Deanna got married, started a family, and eventually passed away. However, her story takes an unexpected turn when her husband embarks on a quest and encounters a cleric capable of resurrecting the deceased. Two hundred years later, Deanna is brought back to life, resuming her journey and experiences with renewed purpose.\n",
    "\n",
    "* <span style='font-family:palatino'><span style='color:#A782D7'>**Denise** \n",
    "   > <span style='font-family:palatino'>\n",
    "\n",
    "* <span style='font-family:palatino'><span style='color:#A782D7'>**Dorian Storm**\n",
    "   ><span style='font-family:palatino'>Dorian Storm is an air genasi bard who accompanied Orym and Fearne on their journey to Jrusar, playing a significant role in the creation of the Bells Hells. However, Dorian's path diverges from the group when he decides to temporarily depart to assist in smuggling his brother out of Marquet.\n",
    "\n",
    "* <span style='font-family:palatino'><span style='color:#A782D7'>**F.R.I.D.A.**\n",
    "   ><span style='font-family:palatino'>F.R.I.D.A. (Far Ranging Integrated Defense Aeormaton) is an automaton built with ancient Aeorian design. This versatile construct combines the skills of a fighter, rogue, and cleric. F.R.I.D.A. serves as a companion to Deanna, forming a bond and accompanying her on their shared adventures.Like FCG, F.R.I.D.A. experienced a resurrection orchestrated by a mysterious individual known as \"D.\"\n",
    "\n",
    "* <span style='font-family:palatino'><span style='color:#A782D7'>**Prism**\n",
    "   ><span style='font-family:palatino'>\n",
    "\n",
    "* <span style='font-family:palatino'><span style='color:#A782D7'>**Yu Sauffiad**\n",
    "   ><span style='font-family:palatino'>Yu Suffiad is a changeling who possesses the abilities of both a warlock and a paladin. They serve under Sorrowlord Zathuda, the Grove Captain of the Unseelie Court. Yu Suffiad's primary assignment is to track down the parents of Fearne, the Ruidusborn faun druid, as they are responsible for stealing a particular item. Their mission involves both apprehending Fearne's parents and recovering the stolen object. As a loyal servant of the Unseelie Court, Yu Suffiad is determined to carry out their task and fulfill the orders bestowed upon them by Sorrowlord Zathuda."
   ]
  },
  {
   "attachments": {},
   "cell_type": "markdown",
   "metadata": {},
   "source": [
    "***\n",
    "#### <span style='font-family:palatino'>**Damage Types** \n",
    "\n",
    "* <span style='font-family:palatino'><span style='color:#9B9494'>**Slashing, Piercing, Bludgeoning**\n",
    "* <span style='font-family:palatino'><span style='color:#52B35C'>**Acid**\n",
    "* <span style='font-family:palatino'><span style='color:#A7C5AA'>**Poison**\n",
    "* <span style='font-family:palatino'><span style='color:#EA791A'>**Fire**\n",
    "* <span style='font-family:palatino'><span style='color:#A0DAF7'>**Cold**\n",
    "* <span style='font-family:palatino'><span style='color:#FFC300'>**Radiant**\n",
    "* <span style='font-family:palatino'><span style='color:#E6EFE4'>**Necrotic**\n",
    "* <span style='font-family:palatino'><span style='color:#EEE052'>**Thunder & Lightning**\n",
    "* <span style='font-family:palatino'><span style='color:#B082EA'>**Force**\n",
    "* <span style='font-family:palatino'><span style='color:#F1ADED'>**Psychic**\n",
    "\n",
    "***"
   ]
  },
  {
   "attachments": {},
   "cell_type": "markdown",
   "metadata": {},
   "source": [
    "## <span style='font-family:palatino'>Adding the Characters\n",
    "* <span style='font-family:palatino'>Adds the characters for all player characters\n",
    "***"
   ]
  },
  {
   "cell_type": "code",
   "execution_count": 1,
   "metadata": {},
   "outputs": [],
   "source": [
    "from campaign_stats import add_character_stats\n",
    "\n",
    "add_character_stats('Ashton')\n",
    "add_character_stats('Bertrand')\n",
    "add_character_stats('Chetney')\n",
    "add_character_stats('FCG')\n",
    "add_character_stats('Fearne')\n",
    "add_character_stats('Imogen')\n",
    "add_character_stats('Laudna')\n",
    "add_character_stats('Orym')\n",
    "add_character_stats('NPCs')\n",
    "add_character_stats('Deanna')\n",
    "add_character_stats('Dorian')\n",
    "add_character_stats('FRIDA')\n",
    "add_character_stats('Yu')\n",
    "add_character_stats('Deni$e')\n",
    "add_character_stats(\"Bor'Dor\")\n",
    "add_character_stats('Prism')"
   ]
  },
  {
   "attachments": {},
   "cell_type": "markdown",
   "metadata": {},
   "source": [
    "***\n",
    "## <span style='font-family:palatino'><span style='color:#3A4079'>**Arc One: Jrusar**\n",
    "\n",
    "#### <span style='font-family:palatino'>**Episodes 1 - 23**\n",
    "\n",
    "<span style='font-family:palatino'>In the five-spired city of Jrusar, three groups of adventurers, consisting of both familiar faces and new companions, come together and forge an alliance. Initially driven by convenience, a thirst for knowledge, and the pursuit of wealth, their bond grows stronger as they delve into the enigmatic secrets that shroud the city and navigate the rising tensions within its borders. As the adventurers unite, they find themselves drawn deeper into Jrusar's shadowy mysteries, uncovering hidden truths and confronting the escalating conflicts that permeate the city. What began as a partnership of convenience transforms into a shared quest to unravel the secrets and navigate the complex dynamics that threaten to tear Jrusar apart. Amidst the challenges they face and the dangers they encounter, the adventurers rely on their collective skills, wisdom, and bravery to navigate the intricate web of intrigue. Bound by a common purpose and a shared thirst for understanding, they push forward, determined to uncover the truth and confront the ever-growing perils that await them in Jrusar.\n",
    "\n",
    "***"
   ]
  },
  {
   "attachments": {},
   "cell_type": "markdown",
   "metadata": {},
   "source": [
    "##### <span style='font-family:palatino'> **Animated Objects** ~ Episode 1\n",
    "* <span style='font-family:palatino'>**Fight MVP:"
   ]
  },
  {
   "cell_type": "code",
   "execution_count": 2,
   "metadata": {},
   "outputs": [
    {
     "name": "stdout",
     "output_type": "stream",
     "text": [
      "Initiative Order:\n"
     ]
    }
   ],
   "source": [
    "from campaign_stats import add_damage, update_healing, update_damage_taken, update_times_killed, update_times_knocked_unconscious, add_enemy_damage, get_enemy_stats\n",
    "\n",
    "order = []\n",
    "print('Initiative Order:')\n",
    "print('--------------------')\n",
    "for i in order:\n",
    "    print(i)\n",
    "print('--------------------')"
   ]
  },
  {
   "attachments": {},
   "cell_type": "markdown",
   "metadata": {},
   "source": [
    "##### <span style='font-family:palatino'> **Mutated Shade Creepers** ~ Episode 3\n",
    "* <span style='font-family:palatino'>**Fight MVP:"
   ]
  },
  {
   "cell_type": "code",
   "execution_count": 3,
   "metadata": {},
   "outputs": [
    {
     "name": "stdout",
     "output_type": "stream",
     "text": [
      "Initiative Order:\n"
     ]
    }
   ],
   "source": [
    "from campaign_stats import add_damage, update_healing, update_damage_taken, update_times_killed, update_times_knocked_unconscious, add_enemy_damage, get_enemy_stats\n",
    "\n",
    "order = []\n",
    "print('Initiative Order:')\n",
    "print('--------------------')\n",
    "for i in order:\n",
    "    print(i)\n",
    "print('--------------------')"
   ]
  },
  {
   "attachments": {},
   "cell_type": "markdown",
   "metadata": {},
   "source": [
    "##### <span style='font-family:palatino'> **Dugger** ~ Episode 3 \n",
    "* <span style='font-family:palatino'>**Fight MVP:"
   ]
  },
  {
   "cell_type": "code",
   "execution_count": 4,
   "metadata": {},
   "outputs": [
    {
     "name": "stdout",
     "output_type": "stream",
     "text": [
      "Initiative Order:\n"
     ]
    }
   ],
   "source": [
    "from campaign_stats import add_damage, update_healing, update_damage_taken, update_times_killed, update_times_knocked_unconscious, add_enemy_damage, get_enemy_stats\n",
    "\n",
    "order = []\n",
    "print('Initiative Order:')\n",
    "print('--------------------')\n",
    "for i in order:\n",
    "    print(i)\n",
    "print('--------------------')"
   ]
  },
  {
   "attachments": {},
   "cell_type": "markdown",
   "metadata": {},
   "source": [
    "##### <span style='font-family:palatino'> **Spitting Mimic** ~ Episode 7\n",
    "* <span style='font-family:palatino'>**Fight MVP:"
   ]
  },
  {
   "cell_type": "code",
   "execution_count": 5,
   "metadata": {},
   "outputs": [
    {
     "name": "stdout",
     "output_type": "stream",
     "text": [
      "Initiative Order:\n"
     ]
    }
   ],
   "source": [
    "from campaign_stats import add_damage, update_healing, update_damage_taken, update_times_killed, update_times_knocked_unconscious, add_enemy_damage, get_enemy_stats\n",
    "\n",
    "order = []\n",
    "print('Initiative Order:')\n",
    "print('--------------------')\n",
    "for i in order:\n",
    "    print(i)\n",
    "print('--------------------')"
   ]
  },
  {
   "attachments": {},
   "cell_type": "markdown",
   "metadata": {},
   "source": [
    "##### <span style='font-family:palatino'> **Ira, The Nightmare King** ~ Episode 11\n",
    "* <span style='font-family:palatino'>**Fight MVP:"
   ]
  },
  {
   "cell_type": "code",
   "execution_count": 6,
   "metadata": {},
   "outputs": [
    {
     "name": "stdout",
     "output_type": "stream",
     "text": [
      "Initiative Order:\n"
     ]
    }
   ],
   "source": [
    "from campaign_stats import add_damage, update_healing, update_damage_taken, update_times_killed, update_times_knocked_unconscious, add_enemy_damage, get_enemy_stats\n",
    "\n",
    "order = []\n",
    "print('Initiative Order:')\n",
    "print('--------------------')\n",
    "for i in order:\n",
    "    print(i)\n",
    "print('--------------------')"
   ]
  },
  {
   "attachments": {},
   "cell_type": "markdown",
   "metadata": {},
   "source": [
    "##### <span style='font-family:palatino'> **General Ratanish** ~ Episode 14\n",
    "* <span style='font-family:palatino'>**Fight MVP:"
   ]
  },
  {
   "cell_type": "code",
   "execution_count": 7,
   "metadata": {},
   "outputs": [
    {
     "name": "stdout",
     "output_type": "stream",
     "text": [
      "Initiative Order:\n"
     ]
    }
   ],
   "source": [
    "from campaign_stats import add_damage, update_healing, update_damage_taken, update_times_killed, update_times_knocked_unconscious, add_enemy_damage, get_enemy_stats\n",
    "\n",
    "order = []\n",
    "print('Initiative Order:')\n",
    "print('--------------------')\n",
    "for i in order:\n",
    "    print(i)\n",
    "print('--------------------')"
   ]
  },
  {
   "attachments": {},
   "cell_type": "markdown",
   "metadata": {},
   "source": [
    "##### <span style='font-family:palatino'> **Lady Emoth Kade** ~ Episode 14\n",
    "* <span style='font-family:palatino'>**Fight MVP:"
   ]
  },
  {
   "cell_type": "code",
   "execution_count": 8,
   "metadata": {},
   "outputs": [
    {
     "name": "stdout",
     "output_type": "stream",
     "text": [
      "Initiative Order:\n"
     ]
    }
   ],
   "source": [
    "from campaign_stats import add_damage, update_healing, update_damage_taken, update_times_killed, update_times_knocked_unconscious, add_enemy_damage, get_enemy_stats\n",
    "\n",
    "order = []\n",
    "print('Initiative Order:')\n",
    "print('--------------------')\n",
    "for i in order:\n",
    "    print(i)\n",
    "print('--------------------')"
   ]
  },
  {
   "attachments": {},
   "cell_type": "markdown",
   "metadata": {},
   "source": [
    "##### <span style='font-family:palatino'> **Shade Mother** ~ Episode 16\n",
    "* <span style='font-family:palatino'>**Fight MVP:"
   ]
  },
  {
   "cell_type": "code",
   "execution_count": 9,
   "metadata": {},
   "outputs": [
    {
     "name": "stdout",
     "output_type": "stream",
     "text": [
      "Initiative Order:\n"
     ]
    }
   ],
   "source": [
    "from campaign_stats import add_damage, update_healing, update_damage_taken, update_times_killed, update_times_knocked_unconscious, add_enemy_damage, get_enemy_stats\n",
    "\n",
    "order = []\n",
    "print('Initiative Order:')\n",
    "print('--------------------')\n",
    "for i in order:\n",
    "    print(i)\n",
    "print('--------------------')"
   ]
  },
  {
   "attachments": {},
   "cell_type": "markdown",
   "metadata": {},
   "source": [
    "##### <span style='font-family:palatino'> **Oderan Fairy-Lure Mantrap** ~ Episode 18\n",
    "* <span style='font-family:palatino'>**Fight MVP:"
   ]
  },
  {
   "cell_type": "code",
   "execution_count": 10,
   "metadata": {},
   "outputs": [
    {
     "name": "stdout",
     "output_type": "stream",
     "text": [
      "Initiative Order:\n"
     ]
    }
   ],
   "source": [
    "from campaign_stats import add_damage, update_healing, update_damage_taken, update_times_killed, update_times_knocked_unconscious, add_enemy_damage, get_enemy_stats\n",
    "\n",
    "order = []\n",
    "print('Initiative Order:')\n",
    "print('--------------------')\n",
    "for i in order:\n",
    "    print(i)\n",
    "print('--------------------')"
   ]
  },
  {
   "attachments": {},
   "cell_type": "markdown",
   "metadata": {},
   "source": [
    "##### <span style='font-family:palatino'> **Animated Marionettes** ~ Episode 20\n",
    "* <span style='font-family:palatino'>**Fight MVP:"
   ]
  },
  {
   "cell_type": "code",
   "execution_count": 11,
   "metadata": {},
   "outputs": [
    {
     "name": "stdout",
     "output_type": "stream",
     "text": [
      "Initiative Order:\n"
     ]
    }
   ],
   "source": [
    "from campaign_stats import add_damage, update_healing, update_damage_taken, update_times_killed, update_times_knocked_unconscious, add_enemy_damage, get_enemy_stats\n",
    "\n",
    "order = []\n",
    "print('Initiative Order:')\n",
    "print('--------------------')\n",
    "for i in order:\n",
    "    print(i)\n",
    "print('--------------------')"
   ]
  },
  {
   "attachments": {},
   "cell_type": "markdown",
   "metadata": {},
   "source": [
    "##### <span style='font-family:palatino'> **Clay Wardens in the Twilight Mirror Museum** ~ Episode 21\n",
    "* <span style='font-family:palatino'>**Fight MVP:"
   ]
  },
  {
   "cell_type": "code",
   "execution_count": 12,
   "metadata": {},
   "outputs": [
    {
     "name": "stdout",
     "output_type": "stream",
     "text": [
      "Initiative Order:\n"
     ]
    }
   ],
   "source": [
    "from campaign_stats import add_damage, update_healing, update_damage_taken, update_times_killed, update_times_knocked_unconscious, add_enemy_damage, get_enemy_stats\n",
    "\n",
    "order = []\n",
    "print('Initiative Order:')\n",
    "print('--------------------')\n",
    "for i in order:\n",
    "    print(i)\n",
    "print('--------------------')"
   ]
  },
  {
   "attachments": {},
   "cell_type": "markdown",
   "metadata": {},
   "source": [
    "##### <span style='font-family:palatino'> **Skirath Hunters** ~ Episode 23\n",
    "* <span style='font-family:palatino'>**Fight MVP:"
   ]
  },
  {
   "cell_type": "code",
   "execution_count": 13,
   "metadata": {},
   "outputs": [
    {
     "name": "stdout",
     "output_type": "stream",
     "text": [
      "Initiative Order:\n"
     ]
    }
   ],
   "source": [
    "from campaign_stats import add_damage, update_healing, update_damage_taken, update_times_killed, update_times_knocked_unconscious, add_enemy_damage, get_enemy_stats\n",
    "\n",
    "order = []\n",
    "print('Initiative Order:')\n",
    "print('--------------------')\n",
    "for i in order:\n",
    "    print(i)\n",
    "print('--------------------')"
   ]
  },
  {
   "attachments": {},
   "cell_type": "markdown",
   "metadata": {},
   "source": [
    "##### <span style='font-family:palatino'> **Arc One Non-Fighting Damages**"
   ]
  },
  {
   "cell_type": "code",
   "execution_count": 14,
   "metadata": {},
   "outputs": [
    {
     "name": "stdout",
     "output_type": "stream",
     "text": [
      "Initiative Order:\n"
     ]
    }
   ],
   "source": [
    "from campaign_stats import add_damage, update_healing, update_damage_taken, update_times_killed, update_times_knocked_unconscious, add_enemy_damage, get_enemy_stats\n",
    "\n",
    "order = []\n",
    "print('Initiative Order:')\n",
    "print('--------------------')\n",
    "for i in order:\n",
    "    print(i)\n",
    "print('--------------------')"
   ]
  },
  {
   "attachments": {},
   "cell_type": "markdown",
   "metadata": {},
   "source": [
    "***"
   ]
  },
  {
   "attachments": {},
   "cell_type": "markdown",
   "metadata": {},
   "source": [
    "### <span style='font-family:palatino'><span style='color:#89aee2'> **Total Stats after Arc One: Jrusar**\n",
    "\n",
    "#### <span style='font-family:palatino'><span style='color:#89aee2'> **Total Enemies:**\n",
    "#### <span style='font-family:palatino'><span style='color:#89aee2'> **Total Bosses:**\n"
   ]
  },
  {
   "cell_type": "code",
   "execution_count": 15,
   "metadata": {},
   "outputs": [],
   "source": [
    "from campaign_stats import get_combined_stats, get_total_enemy_damage\n",
    "\n",
    "# get_combined_stats()\n",
    "# get_total_enemy_damage()"
   ]
  },
  {
   "attachments": {},
   "cell_type": "markdown",
   "metadata": {},
   "source": [
    "***"
   ]
  },
  {
   "attachments": {},
   "cell_type": "markdown",
   "metadata": {},
   "source": [
    "## <span style='font-family:palatino'><span style='color:#3A4079'>**Arc Two: Ruidus Rising**\n",
    "\n",
    "#### <span style='font-family:palatino'>**Episodes 24 - 51**\n",
    "\n",
    "<span style='font-family:palatino'>The Bells Hells, bidding farewell to the city of Jrusar and the cherished memories of their departed companions, embark on a new journey into the uncharted territories of Marquet. As they venture deeper into the unknown, they encounter new individuals who have the potential to become both trusted allies and formidable adversaries. Meanwhile, the looming Apogee Solstice draws near, casting its shadow over the land. Alongside the anticipation of this celestial event, the Bells Hells face fresh dangers and challenges that test their mettle and resolve. As the solstice approaches, ancient plans that have been set in motion throughout the ages finally reach their climax, bringing both unforeseen threats and the potential for great revelations. With their hearts filled with determination and their minds prepared for the unknown, the Bells Hells press forward. They navigate a treacherous landscape, where friendships are forged, enemies emerge, and the weight of destiny rests upon their shoulders. In this time of anticipation and uncertainty, they must remain vigilant and united, ready to face whatever trials await them and fulfill their fated role in the unfolding events of Marquet.\n",
    "\n",
    "***"
   ]
  },
  {
   "attachments": {},
   "cell_type": "markdown",
   "metadata": {},
   "source": [
    "##### <span style='font-family:palatino'> **Skirmish Crawlers** ~ Episode 28\n",
    "* <span style='font-family:palatino'>**Fight MVP:"
   ]
  },
  {
   "cell_type": "code",
   "execution_count": 16,
   "metadata": {},
   "outputs": [
    {
     "name": "stdout",
     "output_type": "stream",
     "text": [
      "Initiative Order:\n"
     ]
    }
   ],
   "source": [
    "from campaign_stats import add_damage, update_healing, update_damage_taken, update_times_killed, update_times_knocked_unconscious, add_enemy_damage, get_enemy_stats\n",
    "\n",
    "order = []\n",
    "print('Initiative Order:')\n",
    "print('--------------------')\n",
    "for i in order:\n",
    "    print(i)\n",
    "print('--------------------')"
   ]
  },
  {
   "attachments": {},
   "cell_type": "markdown",
   "metadata": {},
   "source": [
    "##### <span style='font-family:palatino'> **Kagaronk** ~ Episode 28\n",
    "* <span style='font-family:palatino'>**Fight MVP:"
   ]
  },
  {
   "cell_type": "code",
   "execution_count": 17,
   "metadata": {},
   "outputs": [
    {
     "name": "stdout",
     "output_type": "stream",
     "text": [
      "Initiative Order:\n"
     ]
    }
   ],
   "source": [
    "from campaign_stats import add_damage, update_healing, update_damage_taken, update_times_killed, update_times_knocked_unconscious, add_enemy_damage, get_enemy_stats\n",
    "\n",
    "order = []\n",
    "print('Initiative Order:')\n",
    "print('--------------------')\n",
    "for i in order:\n",
    "    print(i)\n",
    "print('--------------------')"
   ]
  },
  {
   "attachments": {},
   "cell_type": "markdown",
   "metadata": {},
   "source": [
    "##### <span style='font-family:palatino'> **The Deathwish Run** ~ Episode 28\n",
    "* <span style='font-family:palatino'>**Fight MVP:"
   ]
  },
  {
   "cell_type": "code",
   "execution_count": 18,
   "metadata": {},
   "outputs": [
    {
     "name": "stdout",
     "output_type": "stream",
     "text": [
      "Initiative Order:\n"
     ]
    }
   ],
   "source": [
    "from campaign_stats import add_damage, update_healing, update_damage_taken, update_times_killed, update_times_knocked_unconscious, add_enemy_damage, get_enemy_stats\n",
    "\n",
    "order = []\n",
    "print('Initiative Order:')\n",
    "print('--------------------')\n",
    "for i in order:\n",
    "    print(i)\n",
    "print('--------------------')"
   ]
  },
  {
   "attachments": {},
   "cell_type": "markdown",
   "metadata": {},
   "source": [
    "##### <span style='font-family:palatino'> **Fists of the Ruiner Ruin Crawler** ~ Episode 30\n",
    "* <span style='font-family:palatino'>**Fight MVP:"
   ]
  },
  {
   "cell_type": "code",
   "execution_count": 19,
   "metadata": {},
   "outputs": [
    {
     "name": "stdout",
     "output_type": "stream",
     "text": [
      "Initiative Order:\n"
     ]
    }
   ],
   "source": [
    "from campaign_stats import add_damage, update_healing, update_damage_taken, update_times_killed, update_times_knocked_unconscious, add_enemy_damage, get_enemy_stats\n",
    "\n",
    "order = []\n",
    "print('Initiative Order:')\n",
    "print('--------------------')\n",
    "for i in order:\n",
    "    print(i)\n",
    "print('--------------------')"
   ]
  },
  {
   "attachments": {},
   "cell_type": "markdown",
   "metadata": {},
   "source": [
    "##### <span style='font-family:palatino'> **Otohan Thull in the Streets of Bassuras** ~ Episode 33\n",
    "* <span style='font-family:palatino'>**Fight MVP:"
   ]
  },
  {
   "cell_type": "code",
   "execution_count": 20,
   "metadata": {},
   "outputs": [
    {
     "name": "stdout",
     "output_type": "stream",
     "text": [
      "Initiative Order:\n"
     ]
    }
   ],
   "source": [
    "from campaign_stats import add_damage, update_healing, update_damage_taken, update_times_killed, update_times_knocked_unconscious, add_enemy_damage, get_enemy_stats\n",
    "\n",
    "order = []\n",
    "print('Initiative Order:')\n",
    "print('--------------------')\n",
    "for i in order:\n",
    "    print(i)\n",
    "print('--------------------')"
   ]
  },
  {
   "attachments": {},
   "cell_type": "markdown",
   "metadata": {},
   "source": [
    "##### <span style='font-family:palatino'> **Lingering Horrors** ~ Episode 36\n",
    "* <span style='font-family:palatino'>**Fight MVP:"
   ]
  },
  {
   "cell_type": "code",
   "execution_count": 21,
   "metadata": {},
   "outputs": [
    {
     "name": "stdout",
     "output_type": "stream",
     "text": [
      "Initiative Order:\n"
     ]
    }
   ],
   "source": [
    "from campaign_stats import add_damage, update_healing, update_damage_taken, update_times_killed, update_times_knocked_unconscious, add_enemy_damage, get_enemy_stats\n",
    "\n",
    "order = []\n",
    "print('Initiative Order:')\n",
    "print('--------------------')\n",
    "for i in order:\n",
    "    print(i)\n",
    "print('--------------------')"
   ]
  },
  {
   "attachments": {},
   "cell_type": "markdown",
   "metadata": {},
   "source": [
    "##### <span style='font-family:palatino'> **Shade of Delilah Briarwood** ~ Episode 37\n",
    "* <span style='font-family:palatino'>**Fight MVP:"
   ]
  },
  {
   "cell_type": "code",
   "execution_count": 22,
   "metadata": {},
   "outputs": [
    {
     "name": "stdout",
     "output_type": "stream",
     "text": [
      "Initiative Order:\n"
     ]
    }
   ],
   "source": [
    "from campaign_stats import add_damage, update_healing, update_damage_taken, update_times_killed, update_times_knocked_unconscious, add_enemy_damage, get_enemy_stats\n",
    "\n",
    "order = []\n",
    "print('Initiative Order:')\n",
    "print('--------------------')\n",
    "for i in order:\n",
    "    print(i)\n",
    "print('--------------------')"
   ]
  },
  {
   "attachments": {},
   "cell_type": "markdown",
   "metadata": {},
   "source": [
    "##### <span style='font-family:palatino'> **A Chimera and Cockatrices** ~ Episode 40\n",
    "* <span style='font-family:palatino'>**Fight MVP:"
   ]
  },
  {
   "cell_type": "code",
   "execution_count": 23,
   "metadata": {},
   "outputs": [
    {
     "name": "stdout",
     "output_type": "stream",
     "text": [
      "Initiative Order:\n"
     ]
    }
   ],
   "source": [
    "from campaign_stats import add_damage, update_healing, update_damage_taken, update_times_killed, update_times_knocked_unconscious, add_enemy_damage, get_enemy_stats\n",
    "\n",
    "order = []\n",
    "print('Initiative Order:')\n",
    "print('--------------------')\n",
    "for i in order:\n",
    "    print(i)\n",
    "print('--------------------')"
   ]
  },
  {
   "attachments": {},
   "cell_type": "markdown",
   "metadata": {},
   "source": [
    "##### <span style='font-family:palatino'> **Chetney Unleashed** ~ Episode 41\n",
    "* <span style='font-family:palatino'>**Fight MVP:"
   ]
  },
  {
   "cell_type": "code",
   "execution_count": 24,
   "metadata": {},
   "outputs": [
    {
     "name": "stdout",
     "output_type": "stream",
     "text": [
      "Initiative Order:\n"
     ]
    }
   ],
   "source": [
    "from campaign_stats import add_damage, update_healing, update_damage_taken, update_times_killed, update_times_knocked_unconscious, add_enemy_damage, get_enemy_stats\n",
    "\n",
    "order = []\n",
    "print('Initiative Order:')\n",
    "print('--------------------')\n",
    "for i in order:\n",
    "    print(i)\n",
    "print('--------------------')"
   ]
  },
  {
   "attachments": {},
   "cell_type": "markdown",
   "metadata": {},
   "source": [
    "##### <span style='font-family:palatino'> **Halting the Solstice, The Warder** ~ Episode 50\n",
    "* <span style='font-family:palatino'>**Fight MVP:"
   ]
  },
  {
   "cell_type": "code",
   "execution_count": 25,
   "metadata": {},
   "outputs": [
    {
     "name": "stdout",
     "output_type": "stream",
     "text": [
      "Initiative Order:\n"
     ]
    }
   ],
   "source": [
    "from campaign_stats import add_damage, update_healing, update_damage_taken, update_times_killed, update_times_knocked_unconscious, add_enemy_damage, get_enemy_stats\n",
    "\n",
    "order = []\n",
    "print('Initiative Order:')\n",
    "print('--------------------')\n",
    "for i in order:\n",
    "    print(i)\n",
    "print('--------------------')"
   ]
  },
  {
   "attachments": {},
   "cell_type": "markdown",
   "metadata": {},
   "source": [
    "##### <span style='font-family:palatino'> **Halting Ludinus** ~ Episode 51\n",
    "* <span style='font-family:palatino'>**Fight MVP:"
   ]
  },
  {
   "cell_type": "code",
   "execution_count": 26,
   "metadata": {},
   "outputs": [
    {
     "name": "stdout",
     "output_type": "stream",
     "text": [
      "Initiative Order:\n"
     ]
    }
   ],
   "source": [
    "from campaign_stats import add_damage, update_healing, update_damage_taken, update_times_killed, update_times_knocked_unconscious, add_enemy_damage, get_enemy_stats\n",
    "\n",
    "order = []\n",
    "print('Initiative Order:')\n",
    "print('--------------------')\n",
    "for i in order:\n",
    "    print(i)\n",
    "print('--------------------')"
   ]
  },
  {
   "attachments": {},
   "cell_type": "markdown",
   "metadata": {},
   "source": [
    "##### <span style='font-family:palatino'> **Arc Two Non-Fighting Damages**"
   ]
  },
  {
   "cell_type": "code",
   "execution_count": 27,
   "metadata": {},
   "outputs": [
    {
     "name": "stdout",
     "output_type": "stream",
     "text": [
      "Initiative Order:\n"
     ]
    }
   ],
   "source": [
    "from campaign_stats import add_damage, update_healing, update_damage_taken, update_times_killed, update_times_knocked_unconscious, add_enemy_damage, get_enemy_stats\n",
    "\n",
    "order = []\n",
    "print('Initiative Order:')\n",
    "print('--------------------')\n",
    "for i in order:\n",
    "    print(i)\n",
    "print('--------------------')"
   ]
  },
  {
   "attachments": {},
   "cell_type": "markdown",
   "metadata": {},
   "source": [
    "***"
   ]
  },
  {
   "attachments": {},
   "cell_type": "markdown",
   "metadata": {},
   "source": [
    "### <span style='font-family:palatino'><span style='color:#89aee2'> **Total Stats after Arc Two: Ruidus Rising**\n",
    "\n",
    "#### <span style='font-family:palatino'><span style='color:#89aee2'> **Total Enemies:**\n",
    "#### <span style='font-family:palatino'><span style='color:#89aee2'> **Total Bosses:**"
   ]
  },
  {
   "cell_type": "code",
   "execution_count": 28,
   "metadata": {},
   "outputs": [],
   "source": [
    "from campaign_stats import get_combined_stats, get_total_enemy_damage\n",
    "\n",
    "# get_combined_stats()\n",
    "# get_total_enemy_damage()"
   ]
  },
  {
   "attachments": {},
   "cell_type": "markdown",
   "metadata": {},
   "source": [
    "***"
   ]
  },
  {
   "attachments": {},
   "cell_type": "markdown",
   "metadata": {},
   "source": [
    "## <span style='font-family:palatino'><span style='color:#3A4079'>**Arc Three: XXX**\n",
    "\n",
    "#### <span style='font-family:palatino'>**Episodes 52 - Ongoing**\n",
    "\n",
    "<span style='font-family:palatino'>As the long-awaited Apogee Solstice finally arrives, it heralds the realization of a plan that has been in motion for thousands of years. However, this momentous event brings forth new trials and separations for the Bells Hells. Fearne, F.C.G., Chetney, and Imogen find themselves transported to Wildemount, where they encounter two new companions, F.R.I.D.A. and Deanna. Meanwhile, the whereabouts and condition of Imogen, Ashton, and Orym, who remain in Marquet, are unknown. The group faces a significant challenge as communication channels seem to be severed, and the fate of the gods hangs in uncertainty. In this time of crisis, the Bells Hells must overcome the obstacles that lie before them and find a way to reunite. Their bond and determination will be tested as they strive to regroup and discover the truth about the situation they find themselves in. With each member navigating their own path and facing unique circumstances, the Bells Hells must find a way to bridge the physical and metaphysical distances that separate them. The fate of their mission and the future of their world depend on their ability to come together once again, unlock the mysteries that surround them, and restore communication to uncover the truth about the gods and their own destiny.\n",
    "\n",
    "***"
   ]
  },
  {
   "attachments": {},
   "cell_type": "markdown",
   "metadata": {},
   "source": [
    "##### <span style='font-family:palatino'> **Ice Salamander** ~ Episode 52\n",
    "* <span style='font-family:palatino'>**Fight MVP:"
   ]
  },
  {
   "cell_type": "code",
   "execution_count": 29,
   "metadata": {},
   "outputs": [
    {
     "name": "stdout",
     "output_type": "stream",
     "text": [
      "Initiative Order:\n"
     ]
    }
   ],
   "source": [
    "from campaign_stats import add_damage, update_healing, update_damage_taken, update_times_killed, update_times_knocked_unconscious, add_enemy_damage, get_enemy_stats\n",
    "\n",
    "order = []\n",
    "print('Initiative Order:')\n",
    "print('--------------------')\n",
    "for i in order:\n",
    "    print(i)\n",
    "print('--------------------')"
   ]
  },
  {
   "attachments": {},
   "cell_type": "markdown",
   "metadata": {},
   "source": [
    "##### <span style='font-family:palatino'> **Chetney versus F.R.I.D.A** ~ Episode 52\n",
    "* <span style='font-family:palatino'>**Fight MVP:"
   ]
  },
  {
   "cell_type": "code",
   "execution_count": 30,
   "metadata": {},
   "outputs": [
    {
     "name": "stdout",
     "output_type": "stream",
     "text": [
      "Initiative Order:\n"
     ]
    }
   ],
   "source": [
    "from campaign_stats import add_damage, update_healing, update_damage_taken, update_times_killed, update_times_knocked_unconscious, add_enemy_damage, get_enemy_stats\n",
    "\n",
    "order = []\n",
    "print('Initiative Order:')\n",
    "print('--------------------')\n",
    "for i in order:\n",
    "    print(i)\n",
    "print('--------------------')"
   ]
  },
  {
   "attachments": {},
   "cell_type": "markdown",
   "metadata": {},
   "source": [
    "##### <span style='font-family:palatino'> **Umadara, A Great Beast of Veluthil** ~ Episode 53\n",
    "\n",
    "* <span style='font-family:palatino'>**Fight MVP:"
   ]
  },
  {
   "cell_type": "code",
   "execution_count": 31,
   "metadata": {},
   "outputs": [
    {
     "name": "stdout",
     "output_type": "stream",
     "text": [
      "Initiative Order:\n"
     ]
    }
   ],
   "source": [
    "from campaign_stats import add_damage, update_healing, update_damage_taken, update_times_killed, update_times_knocked_unconscious, add_enemy_damage, get_enemy_stats\n",
    "\n",
    "order = []\n",
    "print('Initiative Order:')\n",
    "print('--------------------')\n",
    "for i in order:\n",
    "    print(i)\n",
    "print('--------------------')"
   ]
  },
  {
   "attachments": {},
   "cell_type": "markdown",
   "metadata": {},
   "source": [
    "##### <span style='font-family:palatino'> **Craskkalid and Firebugs** ~ Episode 54\n",
    "\n",
    "* <span style='font-family:palatino'>**Fight MVP:"
   ]
  },
  {
   "cell_type": "code",
   "execution_count": 32,
   "metadata": {},
   "outputs": [
    {
     "name": "stdout",
     "output_type": "stream",
     "text": [
      "Initiative Order:\n"
     ]
    }
   ],
   "source": [
    "from campaign_stats import add_damage, update_healing, update_damage_taken, update_times_killed, update_times_knocked_unconscious, add_enemy_damage, get_enemy_stats\n",
    "\n",
    "order = []\n",
    "print('Initiative Order:')\n",
    "print('--------------------')\n",
    "for i in order:\n",
    "    print(i)\n",
    "print('--------------------')"
   ]
  },
  {
   "attachments": {},
   "cell_type": "markdown",
   "metadata": {},
   "source": [
    "##### <span style='font-family:palatino'> **Frost Giants in the Flotket Alps** ~ Episode 56\n",
    "\n",
    "* <span style='font-family:palatino'>**Fight MVP:"
   ]
  },
  {
   "cell_type": "code",
   "execution_count": 33,
   "metadata": {},
   "outputs": [
    {
     "name": "stdout",
     "output_type": "stream",
     "text": [
      "Initiative Order:\n"
     ]
    }
   ],
   "source": [
    "from campaign_stats import add_damage, update_healing, update_damage_taken, update_times_killed, update_times_knocked_unconscious, add_enemy_damage, get_enemy_stats\n",
    "\n",
    "order = []\n",
    "print('Initiative Order:')\n",
    "print('--------------------')\n",
    "for i in order:\n",
    "    print(i)\n",
    "print('--------------------')"
   ]
  },
  {
   "attachments": {},
   "cell_type": "markdown",
   "metadata": {},
   "source": [
    "##### <span style='font-family:palatino'> **Bog Wretch and the Pixies** ~ Episode 56\n",
    "\n",
    "* <span style='font-family:palatino'>**Fight MVP:"
   ]
  },
  {
   "cell_type": "code",
   "execution_count": 34,
   "metadata": {},
   "outputs": [
    {
     "name": "stdout",
     "output_type": "stream",
     "text": [
      "Initiative Order:\n"
     ]
    }
   ],
   "source": [
    "from campaign_stats import add_damage, update_healing, update_damage_taken, update_times_killed, update_times_knocked_unconscious, add_enemy_damage, get_enemy_stats\n",
    "\n",
    "order = []\n",
    "print('Initiative Order:')\n",
    "print('--------------------')\n",
    "for i in order:\n",
    "    print(i)\n",
    "print('--------------------')"
   ]
  },
  {
   "attachments": {},
   "cell_type": "markdown",
   "metadata": {},
   "source": [
    "##### <span style='font-family:palatino'> **Ghost of the Fallen** ~ Episode 57\n",
    "\n",
    "* <span style='font-family:palatino'>**Fight MVP:"
   ]
  },
  {
   "cell_type": "code",
   "execution_count": 35,
   "metadata": {},
   "outputs": [
    {
     "name": "stdout",
     "output_type": "stream",
     "text": [
      "Initiative Order:\n"
     ]
    }
   ],
   "source": [
    "from campaign_stats import add_damage, update_healing, update_damage_taken, update_times_killed, update_times_knocked_unconscious, add_enemy_damage, get_enemy_stats\n",
    "\n",
    "order = []\n",
    "print('Initiative Order:')\n",
    "print('--------------------')\n",
    "for i in order:\n",
    "    print(i)\n",
    "print('--------------------')"
   ]
  },
  {
   "attachments": {},
   "cell_type": "markdown",
   "metadata": {},
   "source": [
    "##### <span style='font-family:palatino'> **The Hatemonger** ~ Episode 58\n",
    "\n",
    "* <span style='font-family:palatino'>**Fight MVP:"
   ]
  },
  {
   "cell_type": "code",
   "execution_count": 36,
   "metadata": {},
   "outputs": [
    {
     "name": "stdout",
     "output_type": "stream",
     "text": [
      "Initiative Order:\n"
     ]
    }
   ],
   "source": [
    "from campaign_stats import add_damage, update_healing, update_damage_taken, update_times_killed, update_times_knocked_unconscious, add_enemy_damage, get_enemy_stats\n",
    "\n",
    "order = []\n",
    "print('Initiative Order:')\n",
    "print('--------------------')\n",
    "for i in order:\n",
    "    print(i)\n",
    "print('--------------------')"
   ]
  },
  {
   "attachments": {},
   "cell_type": "markdown",
   "metadata": {},
   "source": [
    "##### <span style='font-family:palatino'> **Shambling Mounds and Corpse Flower** ~ Episode 59\n",
    "<span style='font-family:palatino'><span style='color:#76CA84'>Orym</span>, <span style='color:#76CA84'>Laudna</span>, and <span style='color:#76CA84'>Ashton</span> successfully navigating up the gorge and encounter <span style='color:#A782D7'>Mona</span> (<span style='color:#A782D7'>Deni$e</span>) and <span style='color:#A782D7'>Bor'Dor</span> along the way. They are later joined by <span style='color:#A782D7'>Prism</span>, a member of the Cobalt Soul, and her book chaperone, <span style='color:#A782D7'>Dynios</span>. As they converse with one another among the confusion of the Solstice, <span style='color:#A782D7'>Prism</span> decides to continue her survey for the Cobalt Souls. As they answer her questions, the group hears suspicious sounds coming from nearby bushes. Sensing danger, <span style='color:#A782D7'>Deni$e</span> and <span style='color:#76CA84'>Orym</span> take to the trees, <span style='color:#76CA84'>Laudna</span> transforms into her Form of Dread, and <span style='color:#A782D7'>Bor'Dor</span> reacts with fear as he sees <span style='color:#76CA84'>Laudna's</span> form, causing him to scream and vomit. Suddenly, the source of the rustling is revealed as large, <span style='color:#E86555'>plant-like tendrils</span> emerge from the forest floor and rapidly approaches the group. \n",
    "\n",
    "* <span style='font-family:palatino'>**Fight MVP: <span style='color:#A782D7'>Prism</span>, double crit using Steel Wind Strike for a total of 145 <span style='color:#DAB6FF'>Force</span> damage and picked up a HDYWTDT on a <span style='color:#E86555'>Shambling Mound.</span>**"
   ]
  },
  {
   "cell_type": "code",
   "execution_count": 72,
   "metadata": {},
   "outputs": [
    {
     "name": "stdout",
     "output_type": "stream",
     "text": [
      "Initiative Order:\n",
      "--------------------\n",
      "Orym - 23\n",
      "Laudna - 21\n",
      "Deni$e - 19\n",
      "Ashton - 16\n",
      "Prism - 8\n",
      "Bor'Dor - 7\n",
      "--------------------\n"
     ]
    }
   ],
   "source": [
    "from campaign_stats import add_damage, update_healing, update_damage_taken, update_times_killed, update_times_knocked_unconscious, increment_kills, add_enemy_damage, get_enemy_stats\n",
    "\n",
    "order = ['Orym - 23', 'Laudna - 21', 'Deni$e - 19', 'Ashton - 16', 'Prism - 8', \"Bor'Dor - 7\"]\n",
    "print('Initiative Order:')\n",
    "print('--------------------')\n",
    "for i in order:\n",
    "    print(i)\n",
    "print('--------------------')\n",
    "\n",
    "# add_damage('Orym', 'Slashing', 21)\n",
    "# add_damage('Laudna', 'Fire', 16)\n",
    "# add_damage('Deni$e', 'Slashing', 24)\n",
    "# add_damage('Ashton', 'Bludgeoning', 37)\n",
    "# update_damage_taken('Ashton', 31)\n",
    "# update_damage_taken(\"Bor'Dor\", 10)\n",
    "# update_damage_taken('Orym', 20)\n",
    "# add_damage('Orym', 'Slashing', 14)\n",
    "# add_damage('Prism', 'Force', 145)\n",
    "# increment_kills('Prism')\n",
    "# add_damage(\"Bor'Dor\", \"Cold\", 14)\n",
    "# add_damage('Orym', 'Slashing', 30)\n",
    "# add_damage('Laudna', 'Necrotic', 22)\n",
    "# add_damage('Laudna', 'Force', 9)\n",
    "# add_damage('Deni$e', 'Piercing', 21)\n",
    "# add_damage('Deni$e', 'Slashing', 15)\n",
    "# add_damage('Ashton', 'Bludgeoning', 27)\n",
    "# update_damage_taken('Deni$e', 31)\n",
    "# update_damage_taken('Orym', 23)\n",
    "# add_damage('Orym', 'Slashing', 17)\n",
    "# increment_kills('Orym')\n",
    "# add_damage('Laudna', 'Necrotic', 6)\n",
    "# add_damage('Laudna', 'Force', 22)\n",
    "# add_damage('Deni$e', 'Slashing', 47)\n",
    "# increment_kills('Deni$e')\n"
   ]
  },
  {
   "attachments": {},
   "cell_type": "markdown",
   "metadata": {},
   "source": [
    "##### <span style='font-family:palatino'> **Arc Three Non-Fighting Damages**"
   ]
  },
  {
   "cell_type": "code",
   "execution_count": 63,
   "metadata": {},
   "outputs": [],
   "source": [
    "from campaign_stats import add_damage\n",
    "\n",
    "add_damage(\"Bor'Dor\", 'Lightning', 23)\n",
    "update_damage_taken('Deni$e', 23)\n",
    "update_damage_taken('Orym', 12)\n",
    "update_damage_taken('Ashton', 6)\n",
    "update_damage_taken('Laudna', 6)"
   ]
  },
  {
   "attachments": {},
   "cell_type": "markdown",
   "metadata": {},
   "source": [
    "***"
   ]
  },
  {
   "attachments": {},
   "cell_type": "markdown",
   "metadata": {},
   "source": [
    "### <span style='font-family:palatino'><span style='color:#89aee2'> **Total Stats after Arc Three: XXX**\n",
    "\n",
    "#### <span style='font-family:palatino'><span style='color:#89aee2'> **Total Enemies:** 3\n",
    "#### <span style='font-family:palatino'><span style='color:#89aee2'> **Total Bosses:**"
   ]
  },
  {
   "cell_type": "code",
   "execution_count": 39,
   "metadata": {},
   "outputs": [],
   "source": [
    "from campaign_stats import get_combined_stats, get_total_enemy_damage\n",
    "\n",
    "# get_combined_stats()\n",
    "# get_total_enemy_damage()"
   ]
  },
  {
   "attachments": {},
   "cell_type": "markdown",
   "metadata": {},
   "source": [
    "***\n",
    "## <span style='font-family:palatino'><span style='color:#76CA84'>**Stat Totals for Individual Main Characters**\n",
    "***"
   ]
  },
  {
   "attachments": {},
   "cell_type": "markdown",
   "metadata": {},
   "source": [
    "### <span style='font-family:palatino'><span style='color:#76CA84'>**Total Stats for Ashton**\n",
    "\n",
    "##### <span style='font-family:palatino'><span style='color:#76CA84'>**Current Status:**"
   ]
  },
  {
   "cell_type": "code",
   "execution_count": 64,
   "metadata": {},
   "outputs": [
    {
     "name": "stdout",
     "output_type": "stream",
     "text": [
      "Character: Ashton\n",
      "Damage:\n",
      "Bludgeoning: 64\n",
      "Healing: 0\n",
      "Damage Taken: 37\n",
      "Times Knocked Unconscious: 0\n",
      "Times Killed: 0\n",
      "Amount of HDYWTDT: 0\n",
      "---------------\n"
     ]
    }
   ],
   "source": [
    "from campaign_stats import get_character_stats\n",
    "get_character_stats('Ashton')"
   ]
  },
  {
   "attachments": {},
   "cell_type": "markdown",
   "metadata": {},
   "source": [
    "### <span style='font-family:palatino'><span style='color:#76CA84'>**Total Stats for Bertrand**\n",
    "\n",
    "##### <span style='font-family:palatino'><span style='color:#76CA84'>**Current Status:**"
   ]
  },
  {
   "cell_type": "code",
   "execution_count": 41,
   "metadata": {},
   "outputs": [
    {
     "name": "stdout",
     "output_type": "stream",
     "text": [
      "Character: Bertrand\n",
      "Damage:\n",
      "Healing: 0\n",
      "Damage Taken: 0\n",
      "Times Knocked Unconscious: 0\n",
      "Times Killed: 0\n",
      "Amount of HDYWTDT: 0\n",
      "---------------\n"
     ]
    }
   ],
   "source": [
    "from campaign_stats import get_character_stats\n",
    "get_character_stats('Bertrand')"
   ]
  },
  {
   "attachments": {},
   "cell_type": "markdown",
   "metadata": {},
   "source": [
    "### <span style='font-family:palatino'><span style='color:#76CA84'>**Total Stats for Chetney**\n",
    "\n",
    "##### <span style='font-family:palatino'><span style='color:#76CA84'>**Current Status:**"
   ]
  },
  {
   "cell_type": "code",
   "execution_count": 42,
   "metadata": {},
   "outputs": [
    {
     "name": "stdout",
     "output_type": "stream",
     "text": [
      "Character: Chetney\n",
      "Damage:\n",
      "Healing: 0\n",
      "Damage Taken: 0\n",
      "Times Knocked Unconscious: 0\n",
      "Times Killed: 0\n",
      "Amount of HDYWTDT: 0\n",
      "---------------\n"
     ]
    }
   ],
   "source": [
    "from campaign_stats import get_character_stats\n",
    "get_character_stats('Chetney')"
   ]
  },
  {
   "attachments": {},
   "cell_type": "markdown",
   "metadata": {},
   "source": [
    "### <span style='font-family:palatino'><span style='color:#76CA84'>**Total Stats for F.C.G.**\n",
    "\n",
    "##### <span style='font-family:palatino'><span style='color:#76CA84'>**Current Status:**"
   ]
  },
  {
   "cell_type": "code",
   "execution_count": 43,
   "metadata": {},
   "outputs": [
    {
     "name": "stdout",
     "output_type": "stream",
     "text": [
      "Character: FCG\n",
      "Damage:\n",
      "Healing: 0\n",
      "Damage Taken: 0\n",
      "Times Knocked Unconscious: 0\n",
      "Times Killed: 0\n",
      "Amount of HDYWTDT: 0\n",
      "---------------\n"
     ]
    }
   ],
   "source": [
    "from campaign_stats import get_character_stats\n",
    "get_character_stats('FCG')"
   ]
  },
  {
   "attachments": {},
   "cell_type": "markdown",
   "metadata": {},
   "source": [
    "### <span style='font-family:palatino'><span style='color:#76CA84'>**Total Stats for Fearne**\n",
    "\n",
    "##### <span style='font-family:palatino'><span style='color:#76CA84'>**Current Status:**"
   ]
  },
  {
   "cell_type": "code",
   "execution_count": 44,
   "metadata": {},
   "outputs": [
    {
     "name": "stdout",
     "output_type": "stream",
     "text": [
      "Character: Fearne\n",
      "Damage:\n",
      "Healing: 0\n",
      "Damage Taken: 0\n",
      "Times Knocked Unconscious: 0\n",
      "Times Killed: 0\n",
      "Amount of HDYWTDT: 0\n",
      "---------------\n"
     ]
    }
   ],
   "source": [
    "from campaign_stats import get_character_stats\n",
    "get_character_stats('Fearne')"
   ]
  },
  {
   "attachments": {},
   "cell_type": "markdown",
   "metadata": {},
   "source": [
    "### <span style='font-family:palatino'><span style='color:#76CA84'>**Total Stats for Imogen**\n",
    "\n",
    "##### <span style='font-family:palatino'><span style='color:#76CA84'>**Current Status:**"
   ]
  },
  {
   "cell_type": "code",
   "execution_count": 45,
   "metadata": {},
   "outputs": [
    {
     "name": "stdout",
     "output_type": "stream",
     "text": [
      "Character: Imogen\n",
      "Damage:\n",
      "Healing: 0\n",
      "Damage Taken: 0\n",
      "Times Knocked Unconscious: 0\n",
      "Times Killed: 0\n",
      "Amount of HDYWTDT: 0\n",
      "---------------\n"
     ]
    }
   ],
   "source": [
    "from campaign_stats import get_character_stats\n",
    "get_character_stats('Imogen')"
   ]
  },
  {
   "attachments": {},
   "cell_type": "markdown",
   "metadata": {},
   "source": [
    "### <span style='font-family:palatino'><span style='color:#76CA84'>**Total Stats for Laudna**\n",
    "\n",
    "##### <span style='font-family:palatino'><span style='color:#76CA84'>**Current Status:**"
   ]
  },
  {
   "cell_type": "code",
   "execution_count": 65,
   "metadata": {},
   "outputs": [
    {
     "name": "stdout",
     "output_type": "stream",
     "text": [
      "Character: Laudna\n",
      "Damage:\n",
      "Fire: 16\n",
      "Necrotic: 28\n",
      "Force: 31\n",
      "Healing: 0\n",
      "Damage Taken: 6\n",
      "Times Knocked Unconscious: 0\n",
      "Times Killed: 0\n",
      "Amount of HDYWTDT: 0\n",
      "---------------\n"
     ]
    }
   ],
   "source": [
    "from campaign_stats import get_character_stats\n",
    "get_character_stats('Laudna')"
   ]
  },
  {
   "attachments": {},
   "cell_type": "markdown",
   "metadata": {},
   "source": [
    "### <span style='font-family:palatino'><span style='color:#76CA84'>**Total Stats for Orym**\n",
    "\n",
    "##### <span style='font-family:palatino'><span style='color:#76CA84'>**Current Status:**"
   ]
  },
  {
   "cell_type": "code",
   "execution_count": 66,
   "metadata": {},
   "outputs": [
    {
     "name": "stdout",
     "output_type": "stream",
     "text": [
      "Character: Orym\n",
      "Damage:\n",
      "Slashing: 82\n",
      "Healing: 0\n",
      "Damage Taken: 55\n",
      "Times Knocked Unconscious: 0\n",
      "Times Killed: 0\n",
      "Amount of HDYWTDT: 1\n",
      "---------------\n"
     ]
    }
   ],
   "source": [
    "from campaign_stats import get_character_stats\n",
    "get_character_stats('Orym')"
   ]
  },
  {
   "attachments": {},
   "cell_type": "markdown",
   "metadata": {},
   "source": [
    "***\n",
    "## <span style='font-family:palatino'><span style='color:#A782D7'>**Stat Totals for Individual Side Characters**\n",
    "***\n"
   ]
  },
  {
   "attachments": {},
   "cell_type": "markdown",
   "metadata": {},
   "source": [
    "### <span style='font-family:palatino'><span style='color:#A782D7'>**Total Stats for NPCs**"
   ]
  },
  {
   "cell_type": "code",
   "execution_count": 48,
   "metadata": {},
   "outputs": [
    {
     "name": "stdout",
     "output_type": "stream",
     "text": [
      "Character: NPCs\n",
      "Damage:\n",
      "Healing: 0\n",
      "Damage Taken: 0\n",
      "Times Knocked Unconscious: 0\n",
      "Times Killed: 0\n",
      "Amount of HDYWTDT: 0\n",
      "---------------\n"
     ]
    }
   ],
   "source": [
    "from campaign_stats import get_character_stats\n",
    "get_character_stats('NPCs')"
   ]
  },
  {
   "attachments": {},
   "cell_type": "markdown",
   "metadata": {},
   "source": [
    "### <span style='font-family:palatino'><span style='color:#A782D7'>**Total Stats for Bor'Dor**\n",
    "\n",
    "##### <span style='font-family:palatino'><span style='color:#A782D7'>**Current Status:**"
   ]
  },
  {
   "cell_type": "code",
   "execution_count": 67,
   "metadata": {},
   "outputs": [
    {
     "name": "stdout",
     "output_type": "stream",
     "text": [
      "Character: Bor'Dor\n",
      "Damage:\n",
      "Cold: 14\n",
      "Lightning: 23\n",
      "Healing: 0\n",
      "Damage Taken: 10\n",
      "Times Knocked Unconscious: 0\n",
      "Times Killed: 0\n",
      "Amount of HDYWTDT: 0\n",
      "---------------\n"
     ]
    }
   ],
   "source": [
    "from campaign_stats import get_character_stats\n",
    "get_character_stats(\"Bor'Dor\")"
   ]
  },
  {
   "attachments": {},
   "cell_type": "markdown",
   "metadata": {},
   "source": [
    "### <span style='font-family:palatino'><span style='color:#A782D7'>**Total Stats for Deanna**\n",
    "\n",
    "##### <span style='font-family:palatino'><span style='color:#A782D7'>**Current Status:**"
   ]
  },
  {
   "cell_type": "code",
   "execution_count": 50,
   "metadata": {},
   "outputs": [
    {
     "name": "stdout",
     "output_type": "stream",
     "text": [
      "Character: Deanna\n",
      "Damage:\n",
      "Healing: 0\n",
      "Damage Taken: 0\n",
      "Times Knocked Unconscious: 0\n",
      "Times Killed: 0\n",
      "Amount of HDYWTDT: 0\n",
      "---------------\n"
     ]
    }
   ],
   "source": [
    "from campaign_stats import get_character_stats\n",
    "get_character_stats('Deanna')"
   ]
  },
  {
   "attachments": {},
   "cell_type": "markdown",
   "metadata": {},
   "source": [
    "### <span style='font-family:palatino'><span style='color:#A782D7'>**Total Stats for Deni$e**\n",
    "\n",
    "##### <span style='font-family:palatino'><span style='color:#A782D7'>**Current Status:**"
   ]
  },
  {
   "cell_type": "code",
   "execution_count": 68,
   "metadata": {},
   "outputs": [
    {
     "name": "stdout",
     "output_type": "stream",
     "text": [
      "Character: Deni$e\n",
      "Damage:\n",
      "Slashing: 86\n",
      "Piercing: 21\n",
      "Healing: 0\n",
      "Damage Taken: 54\n",
      "Times Knocked Unconscious: 0\n",
      "Times Killed: 0\n",
      "Amount of HDYWTDT: 1\n",
      "---------------\n"
     ]
    }
   ],
   "source": [
    "from campaign_stats import get_character_stats\n",
    "get_character_stats('Deni$e')"
   ]
  },
  {
   "attachments": {},
   "cell_type": "markdown",
   "metadata": {},
   "source": [
    "### <span style='font-family:palatino'><span style='color:#A782D7'>**Total Stats for Dorian**\n",
    "\n",
    "##### <span style='font-family:palatino'><span style='color:#A782D7'>**Current Status:**"
   ]
  },
  {
   "cell_type": "code",
   "execution_count": 52,
   "metadata": {},
   "outputs": [
    {
     "name": "stdout",
     "output_type": "stream",
     "text": [
      "Character: Dorian\n",
      "Damage:\n",
      "Healing: 0\n",
      "Damage Taken: 0\n",
      "Times Knocked Unconscious: 0\n",
      "Times Killed: 0\n",
      "Amount of HDYWTDT: 0\n",
      "---------------\n"
     ]
    }
   ],
   "source": [
    "from campaign_stats import get_character_stats\n",
    "get_character_stats('Dorian')"
   ]
  },
  {
   "attachments": {},
   "cell_type": "markdown",
   "metadata": {},
   "source": [
    "### <span style='font-family:palatino'><span style='color:#A782D7'>**Total Stats for F.R.I.D.A.**\n",
    "\n",
    "##### <span style='font-family:palatino'><span style='color:#A782D7'>**Current Status:**"
   ]
  },
  {
   "cell_type": "code",
   "execution_count": 53,
   "metadata": {},
   "outputs": [
    {
     "name": "stdout",
     "output_type": "stream",
     "text": [
      "Character: FRIDA\n",
      "Damage:\n",
      "Healing: 0\n",
      "Damage Taken: 0\n",
      "Times Knocked Unconscious: 0\n",
      "Times Killed: 0\n",
      "Amount of HDYWTDT: 0\n",
      "---------------\n"
     ]
    }
   ],
   "source": [
    "from campaign_stats import get_character_stats\n",
    "get_character_stats('FRIDA')"
   ]
  },
  {
   "attachments": {},
   "cell_type": "markdown",
   "metadata": {},
   "source": [
    "### <span style='font-family:palatino'><span style='color:#A782D7'>**Total Stats for Prism**\n",
    "\n",
    "##### <span style='font-family:palatino'><span style='color:#A782D7'>**Current Status:**"
   ]
  },
  {
   "cell_type": "code",
   "execution_count": 69,
   "metadata": {},
   "outputs": [
    {
     "name": "stdout",
     "output_type": "stream",
     "text": [
      "Character: Prism\n",
      "Damage:\n",
      "Force: 145\n",
      "Healing: 0\n",
      "Damage Taken: 0\n",
      "Times Knocked Unconscious: 0\n",
      "Times Killed: 0\n",
      "Amount of HDYWTDT: 1\n",
      "---------------\n"
     ]
    }
   ],
   "source": [
    "from campaign_stats import get_character_stats\n",
    "get_character_stats('Prism')"
   ]
  },
  {
   "attachments": {},
   "cell_type": "markdown",
   "metadata": {},
   "source": [
    "### <span style='font-family:palatino'><span style='color:#A782D7'>**Total Stats for Yu**\n",
    "\n",
    "##### <span style='font-family:palatino'><span style='color:#A782D7'>**Current Status:**"
   ]
  },
  {
   "cell_type": "code",
   "execution_count": 55,
   "metadata": {},
   "outputs": [
    {
     "name": "stdout",
     "output_type": "stream",
     "text": [
      "Character: Yu\n",
      "Damage:\n",
      "Healing: 0\n",
      "Damage Taken: 0\n",
      "Times Knocked Unconscious: 0\n",
      "Times Killed: 0\n",
      "Amount of HDYWTDT: 0\n",
      "---------------\n"
     ]
    }
   ],
   "source": [
    "from campaign_stats import get_character_stats\n",
    "get_character_stats('Yu')"
   ]
  },
  {
   "attachments": {},
   "cell_type": "markdown",
   "metadata": {},
   "source": [
    "***\n",
    "## <span style='font-family:palatino'><span style='color:#E86555'>**Stat Totals for Individual Enemies**\n",
    "***"
   ]
  },
  {
   "attachments": {},
   "cell_type": "markdown",
   "metadata": {},
   "source": [
    "### <span style='font-family:palatino'><span style='color:#E86555'>**Total Stats for Dugger**\n",
    "\n",
    "##### <span style='font-family:palatino'><span style='color:#E86555'>**Current Status:**"
   ]
  },
  {
   "cell_type": "code",
   "execution_count": 56,
   "metadata": {},
   "outputs": [
    {
     "name": "stdout",
     "output_type": "stream",
     "text": [
      "Enemy does not exist!\n"
     ]
    }
   ],
   "source": [
    "from campaign_stats import get_enemy_stats\n",
    "get_enemy_stats('Dugger')"
   ]
  },
  {
   "attachments": {},
   "cell_type": "markdown",
   "metadata": {},
   "source": [
    "### <span style='font-family:palatino'><span style='color:#E86555'>**Total Stats for Ira, The Nightmare King**\n",
    "\n",
    "##### <span style='font-family:palatino'><span style='color:#E86555'>**Current Status:**"
   ]
  },
  {
   "cell_type": "code",
   "execution_count": 57,
   "metadata": {},
   "outputs": [
    {
     "name": "stdout",
     "output_type": "stream",
     "text": [
      "Enemy does not exist!\n"
     ]
    }
   ],
   "source": [
    "from campaign_stats import get_enemy_stats\n",
    "get_enemy_stats('Ira')"
   ]
  },
  {
   "attachments": {},
   "cell_type": "markdown",
   "metadata": {},
   "source": [
    "### <span style='font-family:palatino'><span style='color:#E86555'>**Total Stats for Lady Emoth**\n",
    "\n",
    "##### <span style='font-family:palatino'><span style='color:#E86555'>**Current Status:**"
   ]
  },
  {
   "cell_type": "code",
   "execution_count": 58,
   "metadata": {},
   "outputs": [
    {
     "name": "stdout",
     "output_type": "stream",
     "text": [
      "Enemy does not exist!\n"
     ]
    }
   ],
   "source": [
    "from campaign_stats import get_enemy_stats\n",
    "get_enemy_stats('Lady Emoth')"
   ]
  },
  {
   "attachments": {},
   "cell_type": "markdown",
   "metadata": {},
   "source": [
    "### <span style='font-family:palatino'><span style='color:#E86555'>**Total Stats for The Shade Mother**\n",
    "\n",
    "##### <span style='font-family:palatino'><span style='color:#E86555'>**Current Status:**"
   ]
  },
  {
   "cell_type": "code",
   "execution_count": 59,
   "metadata": {},
   "outputs": [
    {
     "name": "stdout",
     "output_type": "stream",
     "text": [
      "Enemy does not exist!\n"
     ]
    }
   ],
   "source": [
    "from campaign_stats import get_enemy_stats\n",
    "get_enemy_stats('Shade Mother')"
   ]
  },
  {
   "attachments": {},
   "cell_type": "markdown",
   "metadata": {},
   "source": [
    "### <span style='font-family:palatino'><span style='color:#E86555'>**Total Stats for Kagaronk**\n",
    "\n",
    "##### <span style='font-family:palatino'><span style='color:#E86555'>**Current Status:**"
   ]
  },
  {
   "cell_type": "code",
   "execution_count": 60,
   "metadata": {},
   "outputs": [
    {
     "name": "stdout",
     "output_type": "stream",
     "text": [
      "Enemy does not exist!\n"
     ]
    }
   ],
   "source": [
    "from campaign_stats import get_enemy_stats\n",
    "get_enemy_stats('Kagaronk')"
   ]
  },
  {
   "attachments": {},
   "cell_type": "markdown",
   "metadata": {},
   "source": [
    "### <span style='font-family:palatino'><span style='color:#E86555'>**Total Stats for Otohan Thull**\n",
    "\n",
    "##### <span style='font-family:palatino'><span style='color:#E86555'>**Current Status:**"
   ]
  },
  {
   "cell_type": "code",
   "execution_count": 61,
   "metadata": {},
   "outputs": [
    {
     "name": "stdout",
     "output_type": "stream",
     "text": [
      "Enemy does not exist!\n"
     ]
    }
   ],
   "source": [
    "from campaign_stats import get_enemy_stats\n",
    "get_enemy_stats('Otohan')"
   ]
  },
  {
   "attachments": {},
   "cell_type": "markdown",
   "metadata": {},
   "source": [
    "***"
   ]
  }
 ],
 "metadata": {
  "kernelspec": {
   "display_name": "Python 3",
   "language": "python",
   "name": "python3"
  },
  "language_info": {
   "codemirror_mode": {
    "name": "ipython",
    "version": 3
   },
   "file_extension": ".py",
   "mimetype": "text/x-python",
   "name": "python",
   "nbconvert_exporter": "python",
   "pygments_lexer": "ipython3",
   "version": "3.11.1"
  },
  "orig_nbformat": 4
 },
 "nbformat": 4,
 "nbformat_minor": 2
}
