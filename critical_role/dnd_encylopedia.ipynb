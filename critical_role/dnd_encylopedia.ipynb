{
 "cells": [
  {
   "attachments": {},
   "cell_type": "markdown",
   "metadata": {},
   "source": [
    "# <span style='font-family:palatino'>**Random Data for DnD Trackers**\n",
    "***"
   ]
  },
  {
   "attachments": {},
   "cell_type": "markdown",
   "metadata": {},
   "source": [
    "#### <span style='font-family:palatino'>**Damage Types** \n",
    "\n",
    "* <span style='font-family:palatino'><span style='color:#7D7C79'>**Slashing, Piercing, Bludgeoning**<br>\n",
    "span style='color:#7D7C79'\n",
    "* <span style='font-family:palatino'><span style='color:#52B35C'>**Acid**<br>\n",
    "span style='color:#52B35C'\n",
    "* <span style='font-family:palatino'><span style='color:#A7C5AA'>**Poison**<br>\n",
    "span style='color:#A7C5AA'\n",
    "* <span style='font-family:palatino'><span style='color:#EA791A'>**Fire**<br>\n",
    "span style='color:#EA791A'\n",
    "* <span style='font-family:palatino'><span style='color:#A0DAF7'>**Cold**<br>\n",
    "span style='color:#A0DAF7'\n",
    "* <span style='font-family:palatino'><span style='color:#FFD67F'>**Radiant**<br>\n",
    "span style='color:#FFD67F'\n",
    "* <span style='font-family:palatino'><span style='color:#648962'>**Necrotic**<br>\n",
    "span style='color:#648962'\n",
    "* <span style='font-family:palatino'><span style='color:#FCF581'>**Thunder & Lightning**<br>\n",
    "span style='color:#FCF581'\n",
    "* <span style='font-family:palatino'><span style='color:#DAB6FF'>**Force**<br>\n",
    "span style='color:#DAB6FF'\n",
    "* <span style='font-family:palatino'><span style='color:#F1ADED'>**Psychic**<br>\n",
    "span style='color:#F1ADED'\n",
    "\n",
    "#### <span style='font-family:palatino'>**Color Keys** \n",
    "* <span style='font-family:palatino'><span style='color:#76CA84'>**Main Characters**<br>\n",
    "span style='color:#76CA84'\n",
    "* <span style='font-family:palatino'><span style='color:#A782D7'>**Side/Guest Characters**<br>\n",
    "span style='color:#A782D7'\n",
    "* <span style='font-family:palatino'><span style='color:#E86555'>**Enemies**<br>\n",
    "span style='color:#E86555'\n",
    "* <span style='font-family:palatino'><span style='color:#75CFFF'>**Locations**<br>\n",
    "span style='color:#75CFFF'"
   ]
  },
  {
   "attachments": {},
   "cell_type": "markdown",
   "metadata": {},
   "source": [
    "#### <span style='font-family:palatino'>**Links**\n",
    "* <span style='font-family:palatino'>https://www.dndbeyond.com/spells?filter-class=0&filter-search=guiding+bolt&filter-verbal=&filter-somatic=&filter-material=&filter-concentration=&filter-ritual=&filter-sub-class=\n",
    "\n",
    "* <span style='font-family:palatino'>https://www.critrolestats.com/"
   ]
  }
 ],
 "metadata": {
  "language_info": {
   "name": "python"
  },
  "orig_nbformat": 4
 },
 "nbformat": 4,
 "nbformat_minor": 2
}
