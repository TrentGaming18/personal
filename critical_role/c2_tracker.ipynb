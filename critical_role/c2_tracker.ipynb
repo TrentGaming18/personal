{
 "cells": [
  {
   "attachments": {},
   "cell_type": "markdown",
   "metadata": {},
   "source": [
    "# <span style='font-family:palatino'><span style='color:#3A4079'> **Mighty Nein ~ Critical Role Campaign Two**\n",
    "***\n",
    "\n",
    "<span style='font-family:palatino'>The Mighty Nein are a renowned group of skilled adventurers based in Wildemount. Their prominent achievements include successfully negotiating peace to end the War of Ash and Light and revealing the misconduct of Trent Ikithon from the Cerberus Assembly. While these accomplishments gained them some recognition, their heroic endeavors went largely unnoticed by the public. These include foiling the plans of the Angel of Irons cult, saving stranded individuals on Rumblecusp Island from an oppressive morkoth, and preventing the corrupted city of Cognouza from reentering the Material Plane. Despite their lack of widespread acclaim, the Mighty Nein's actions have made a significant impact in protecting the realm.\n",
    "\n",
    "***\n",
    "\n",
    "<span style='font-family:palatino'>The <span style='color:#76CA84'>main characters</span> are:\n",
    "\n",
    "* <span style='font-family:palatino'><span style='color:#76CA84'>**Beauregard Lionett**</span>\n",
    "   ><span style='font-family:palatino'>Beauregard is a human monk with a strong personality and a no-nonsense attitude. She hails from the region of the Dwendalian Empire and has a background as a member of the Cobalt Soul, a monastic order dedicated to knowledge and the pursuit of truth. As a monk, Beauregard possesses exceptional physical abilities and martial arts skills. She is quick, agile, and skilled in hand-to-hand combat. Beauregard is known for her sharp wit, sarcasm, and tendency to challenge authority. She often questions societal norms and has a rebellious nature, making her an intriguing and complex character within the story.\n",
    "\n",
    "* <span style='font-family:palatino'><span style='color:#76CA84'>**Caduceus Clay**</span>\n",
    "   > <span style='font-family:palatino'>Caduceus is a firbolg grave domain cleric with a serene and contemplative personality. He is from the Savalirwood, a mystical forest known for its connection to the divine. As a grave domain cleric, Caduceus possesses abilities centered around death, rebirth, and the balance between life and the afterlife. He is skilled in healing magic and has a unique connection to the spirits of the deceased. Caduceus often acts as a protector and guide for the souls he encounters, both living and departed.\n",
    "\n",
    "* <span style='font-family:palatino'><span style='color:#76CA84'>**Caleb Widogast**</span>\n",
    "   > <span style='font-family:palatino'>Caleb is a human wizard with a troubled past and a complex personality. He comes from the war-torn nation of the Dwendalian Empire and possesses a deep knowledge of arcane magic. As a wizard, Caleb is highly intelligent and possesses a vast array of spells. He is skilled in both offensive and utility magic, using his spells to manipulate the battlefield, control enemies, and unravel mysteries. Caleb has a particular affinity for fire-based spells, which stem from his traumatic past.\n",
    "\n",
    "* <span style='font-family:palatino'><span style='color:#76CA84'>**Fjord**</span>\n",
    "   > <span style='font-family:palatino'>Fjord is a half-orc warlock with a mysterious past and a captivating personality. He originates from a coastal region known as the Menagerie Coast and possesses a distinct maritime flair. As a warlock, Fjord derives his magical powers from a powerful entity known as Uk'otoa. This entity granted him a pact in exchange for his allegiance. Fjord's spells and abilities are often focused on the manipulation of water and the ocean, reflecting his connection to Uk'otoa.\n",
    "\n",
    "* <span style='font-family:palatino'><span style='color:#76CA84'>**Jester Lavorre**</span>\n",
    "   > <span style='font-family:palatino'>Jester is a tiefling cleric with a mischievous and playful personality. She hails from the region of the Menagerie Coast and possesses a colorful and whimsical aesthetic. As a cleric, Jester draws her magical powers from her devotion to The Traveler, a deity associated with trickery and chaos. Her spells and abilities revolve around healing, protection, and a touch of trickery, often using illusions and practical jokes to create mischief and lighten the mood.\n",
    "\n",
    "* <span style='font-family:palatino'><span style='color:#76CA84'>**Mollymauk Tealeaf**</span>\n",
    "   > <span style='font-family:palatino'>Mollymauk is a tiefling blood hunter with a flamboyant and enigmatic personality. His appearance is adorned with vibrant tattoos, piercings, and a distinct sense of style. As a blood hunter, Mollymauk wields a unique blend of martial prowess and arcane abilities. He is skilled in melee combat, utilizing his weapons and blood magic to engage enemies. Mollymauk's blood hunter abilities allow him to enhance his attacks and manipulate his own life force, granting him additional strength in battle.\n",
    "\n",
    "* <span style='font-family:palatino'><span style='color:#76CA84'>**Veth Brenatto**</span>\n",
    "   > <span style='font-family:palatino'>Veth is a goblin rogue with a unique backstory and a complex personality. Veth's origins lie in a world where she faced discrimination and prejudice as a goblin, leading her to seek a better life As a rogue, Veth excels in stealth, agility, and cunning. She is skilled in infiltration, picking locks, and delivering devastating sneak attacks. Veth's small size and nimble nature allow her to navigate through obstacles and find creative solutions to problems.\n",
    "    \n",
    "* <span style='font-family:palatino'><span style='color:#76CA84'>**Yasha Nydoorin**</span>\n",
    "   > <span style='font-family:palatino'>Yasha is a fallen aasimar barbarian with a mysterious and stoic personality. Yasha's appearance is marked by celestial features, such as feathered wings and pale blue skin. As a barbarian, Yasha is a fierce warrior with incredible strength and resilience. She excels in close combat, utilizing a variety of weapons to unleash devastating attacks on her enemies. Yasha's rage, fueled by her emotional turmoil and inner conflicts, amplifies her physical abilities and grants her increased endurance in battle.\n",
    "\n",
    "***\n",
    "\n",
    "<span style='font-family:palatino'>The <span style='color:#A782D7'>side/guest characters</span> are:\n",
    "\n",
    "* <span style='font-family:palatino'><span style='color:#A782D7'>**Shakäste**</span>\n",
    "\n",
    "   ><span style='font-family:palatino'>Shakäste is a character from the tabletop role-playing series Critical Role, portrayed by the actor and voice actor Khary Payton. Shakäste is a human cleric of The Wildmother, a nature deity, and hails from the continent of Wildemount. He possesses a laid-back and enigmatic demeanor. Shakäste is known for his powerful healing abilities, strong connection to nature, and his wisdom in guiding the party through their adventures. He brings a calming presence to the group and is highly skilled in both combat and spiritual matters."
   ]
  },
  {
   "attachments": {},
   "cell_type": "markdown",
   "metadata": {},
   "source": [
    "***\n",
    "#### <span style='font-family:palatino'>**Damage Types** \n",
    "\n",
    "* <span style='font-family:palatino'><span style='color:#7D7C79'>**Slashing, Piercing, Bludgeoning**\n",
    "* <span style='font-family:palatino'><span style='color:#52B35C'>**Acid**\n",
    "* <span style='font-family:palatino'><span style='color:#A7C5AA'>**Poison**\n",
    "* <span style='font-family:palatino'><span style='color:#EA791A'>**Fire**\n",
    "* <span style='font-family:palatino'><span style='color:#A0DAF7'>**Cold**\n",
    "* <span style='font-family:palatino'><span style='color:#FFD67F'>**Radiant**\n",
    "* <span style='font-family:palatino'><span style='color:#648962'>**Necrotic**\n",
    "* <span style='font-family:palatino'><span style='color:#FCF581'>**Thunder & Lightning**\n",
    "* <span style='font-family:palatino'><span style='color:#DAB6FF'>**Force**\n",
    "* <span style='font-family:palatino'><span style='color:#F1ADED'>**Psychic**\n",
    "\n",
    "***"
   ]
  },
  {
   "attachments": {},
   "cell_type": "markdown",
   "metadata": {},
   "source": [
    "## <span style='font-family:palatino'>Adding the Characters\n",
    "* <span style='font-family:palatino'>Adds the characters for all player characters\n",
    "***"
   ]
  },
  {
   "cell_type": "code",
   "execution_count": 1,
   "metadata": {},
   "outputs": [],
   "source": [
    "from campaign_stats import add_character_stats\n",
    "\n",
    "add_character_stats('Beau')\n",
    "add_character_stats('Caduceus')\n",
    "add_character_stats('Caleb')\n",
    "add_character_stats('Fjord')\n",
    "add_character_stats('Jester')\n",
    "add_character_stats('Molly')\n",
    "add_character_stats('Veth')\n",
    "add_character_stats('Yasha')\n",
    "add_character_stats('Shakäste')\n",
    "add_character_stats('NPCs')\n"
   ]
  },
  {
   "attachments": {},
   "cell_type": "markdown",
   "metadata": {},
   "source": [
    "***\n",
    "## <span style='font-family:palatino'><span style='color:#3A4079'>**Arc One: Come Together**\n",
    "\n",
    "#### <span style='font-family:palatino'>**Episodes 1 - 25**\n",
    "\n",
    "<span style='font-family:palatino'>Seven individuals from different backgrounds meet by chance in the quiet town of Trostenwald. When a zombie attacks a traveling carnival that just arrived, they join forces and become known as the Mighty Nein. They embark on a journey together, heading north. Along the way, they explore the darker side of Zadash, take risks with a figure known as the Gentleman, and traverse the swamps of Berleben. Eventually, they find themselves in Hupperdook, where they indulge in festivities and chaos, unaware that their lives are about to take a dramatic turn.\n",
    "\n",
    "***"
   ]
  },
  {
   "attachments": {},
   "cell_type": "markdown",
   "metadata": {},
   "source": [
    "##### <span style='font-family:palatino'> **Husk at the Carnival of Curiosities** ~ Episode 1\n",
    "\n",
    "<span style='font-family:palatino'>During their visit to the <span style='color:#75CFFF'>Carnival of Curiosities</span>, the Mighty Nein's first fight begins unexpectedly. As the young singer <span style='color:#A782D7'>Toya</span> captivates the audience with her song, an elderly man in the crowd reaches out to her and transforms into a <span style='color:#E86555'>zombie-like creature</span>, causing panic and chaos. <span style='color:#76CA84'>Jester </span>creates an illusion of herself, <span style='color:#76CA84'>Fjord</span> requests their weapons from <span style='color:#76CA84'>Yasha</span>, and <span style='color:#76CA84'>Beau</span> finally realizes that the situation is not part of the show. The group springs into action to confront the newly transformed threat and engage in their first fight within the carnival.\n",
    "\n",
    "* <span style='font-family:palatino'>**Fight MVP: <span style='color:#76CA84'>Fjord</span>, although he didn't pick up any kills, he dealt a whopping 35 <span style='color:#7D7C79'>Slashing</span> damage with his Falchion and an additional 5 <span style='color:#648962'>Necrotic</span> damage with his Hex.**"
   ]
  },
  {
   "cell_type": "code",
   "execution_count": 2,
   "metadata": {},
   "outputs": [
    {
     "name": "stdout",
     "output_type": "stream",
     "text": [
      "Encounter:\n",
      "--------------------\n",
      "2 Undead Husk\n",
      "--------------------\n",
      "Initiative Order:\n",
      "--------------------\n",
      "Jester - 22\n",
      "Yasha - 13\n",
      "Fjord - 12\n",
      "Caleb - 11\n",
      "Nott - 10\n",
      "Molly - 10\n",
      "Beau - 5\n",
      "--------------------\n"
     ]
    }
   ],
   "source": [
    "from campaign_stats import add_damage, update_healing, update_damage_taken, update_times_killed, update_times_knocked_unconscious, increment_kills, add_enemy_damage, get_enemy_stats\n",
    "\n",
    "encounter = ['2 Undead Husk']\n",
    "order = ['Jester - 22','Yasha - 13','Fjord - 12','Caleb - 11','Nott - 10','Molly - 10','Beau - 5']\n",
    "print('Encounter:')\n",
    "print('--------------------')\n",
    "for i in encounter:\n",
    "    print(i)\n",
    "print('--------------------')\n",
    "print('Initiative Order:')\n",
    "print('--------------------')\n",
    "for i in order:\n",
    "    print(i)\n",
    "print('--------------------')\n",
    "\n",
    "add_damage('Jester', 'Radiant', 18) \n",
    "    # Guiding Bolt\n",
    "add_enemy_damage('Carnival Husk', 'Bludgeoning', 8)\n",
    "add_damage('Fjord', 'Slashing', 11)\n",
    "add_damage('Caleb', 'Cold', 9) \n",
    "    # Chromatic Orb\n",
    "add_damage('Beau', 'Bludgeoning', 11)\n",
    "add_damage('Molly', 'Slashing', 8)\n",
    "add_damage('Molly', 'Cold', 1) \n",
    "    # Crimson Rite ~ Rite of the Frozen\n",
    "add_damage('Jester', 'Necrotic', 3)\n",
    "add_enemy_damage('Carnival Husk', 'Bludgeoning', 15)\n",
    "update_damage_taken('Beau', 15)\n",
    "add_damage('Fjord', 'Slashing', 12)\n",
    "add_enemy_damage('Carnival Husk', 'Bludgeoning', 8)\n",
    "add_damage('Yasha', 'Slashing', 13)\n",
    "increment_kills('Yasha')\n",
    "    # Undead Husk\n",
    "add_damage('Fjord', 'Slashing', 12)\n",
    "add_damage('Fjord', 'Necrotic', 5) \n",
    "    # Hex\n",
    "add_damage('Veth', 'Piercing', 14)\n",
    "add_damage('Molly', 'Slashing', 10)\n",
    "add_damage('Molly', 'Cold', 3) \n",
    "    # Crimson Rite ~ Rite of the Frozen\n",
    "add_damage('Beau', 'Bludgeoning', 19)\n",
    "increment_kills('Beau')\n",
    "    # Undead Husk\n",
    "update_healing('Jester', 17)\n",
    "    # Cure Wounds on ?\n",
    "\n"
   ]
  },
  {
   "attachments": {},
   "cell_type": "markdown",
   "metadata": {},
   "source": [
    "##### <span style='font-family:palatino'> **Undead Husk at the Crime Scene** ~ Episode 3\n",
    "\n",
    "<span style='font-family:palatino'>The group returns to the crime scene in order to clear their names after being accused by the Crownsguard. They split up and begin questioning the carnival crew about their suspicions. <span style='color:#76CA84'>Jester</span> and <span style='color:#76CA84'>Nott</span> employ stealth, using <span style='color:#76CA84'>Jester's</span> Detect Good and Evil spell to investigate the area. <span style='color:#76CA84'>Jester</span> senses a powerful fiendish presence near the big tent and sends <span style='color:#A782D7'>Frumpkin</span> back to <span style='color:#76CA84'>Caleb</span> to inform him. Inside the tent, they find <span style='color:#A782D7'>Kylre</span> and <span style='color:#A782D7'>Toya</span> sleeping together. They suspect that <span style='color:#A782D7'>Kylre</span> might be evil due to the fiendish presence and consider confronting him. <span style='color:#A782D7'>Toya</span> mentions that <span style='color:#A782D7'>Ornna</span> didn't like <span style='color:#A782D7'>Gustav</span>, leading <span style='color:#76CA84'>Nott</span> and <span style='color:#76CA84'>Jester</span> to believe that <span style='color:#A782D7'>Ornna</span> is the killer. They hastily accuse Ornna, who appears surprised by the accusation. Everyone is perplexed, and <span style='color:#A782D7'>Ornna</span> denies being the killer. \n",
    "\n",
    "<span style='font-family:palatino'><span style='color:#A782D7'>Ornna</span> goes through the entire crew and expresses uncertainty about <span style='color:#A782D7'>Desmond</span> and <span style='color:#A782D7'>Kylre</span>. <span style='color:#76CA84'>Jester</span> reveals that Kylre emits an evil aura and is a fiend. <span style='color:#76CA84'>Molly</span> and <span style='color:#A782D7'>Ornna</span> are shocked because they believed him to be a lizard-folk. <span style='color:#76CA84'>Caleb</span>, viewing through <span style='color:#A782D7'>Frumpkin's</span> eyes, notices a large dark shape emerging from the big tent. He witnesses the two guards collapsing to the ground one after another. <span style='color:#76CA84'>Caleb</span> informs <span style='color:#76CA84'>Fjord</span> about the situation and observes the creature bounding away like a toad in the distance. <span style='color:#76CA84'>Jester</span> and <span style='color:#76CA84'>Beau</span> also witness the guards transforming into <span style='color:#E86555'>husk</span> and advancing towards the tent.\n",
    "\n",
    "* <span style='font-family:palatino'>**Fight MVP: <span style='color:#76CA84'>Molly</span>, he got knocked unconscious by the end of the fight but before doing so he had 30 <span style='color:#7D7C79'>Slashing</span> damage with his Scimitar and \"tanked\" 25 point of <span style='color:#7D7C79'>Bludgeoning</span> damage from the <span style='color:#E86555'>husk</span>.**"
   ]
  },
  {
   "cell_type": "code",
   "execution_count": 3,
   "metadata": {},
   "outputs": [
    {
     "name": "stdout",
     "output_type": "stream",
     "text": [
      "Encounter:\n",
      "--------------------\n",
      "3 Undead Husk\n",
      "--------------------\n",
      "Initiative Order:\n",
      "--------------------\n",
      "Beau - 24\n",
      "Caleb - 11\n",
      "Molly - 8\n",
      "Nott - 5\n",
      "Jester - 4\n",
      "Fjord - 3\n",
      "--------------------\n"
     ]
    }
   ],
   "source": [
    "from campaign_stats import add_damage, update_healing, update_damage_taken, update_times_killed, update_times_knocked_unconscious, increment_kills, add_enemy_damage, get_enemy_stats\n",
    "\n",
    "encounter = ['3 Undead Husk']\n",
    "order = ['Beau - 24', 'Caleb - 11', 'Molly - 8', 'Nott - 5', 'Jester - 4', 'Fjord - 3']\n",
    "print('Encounter:')\n",
    "print('--------------------')\n",
    "for i in encounter:\n",
    "    print(i)\n",
    "print('--------------------')\n",
    "print('Initiative Order:')\n",
    "print('--------------------')\n",
    "for i in order:\n",
    "    print(i)\n",
    "print('--------------------')\n",
    "\n",
    "add_damage('Beau','Bludgeoning', 8)\n",
    "add_damage('Caleb', 'Cold', 9) \n",
    "    # Chromatic Orb\n",
    "add_damage('Molly', 'Slashing', 21)\n",
    "increment_kills('Molly')\n",
    "    # Undead Husk\n",
    "update_damage_taken('Molly', 5)\n",
    "add_enemy_damage('Carnival Husk', 'Bludgeoning', 5)\n",
    "add_damage('Veth', 'Piercing', 10)\n",
    "add_damage('Fjord', 'Force', 9)\n",
    "add_damage('Beau', 'Bludgeoning', 17)\n",
    "increment_kills('Beau')\n",
    "    # Undead Husk\n",
    "add_damage('Caleb', 'Fire', 4) \n",
    "    # Fire Bolt\n",
    "add_damage('Molly', 'Slashing', 9)\n",
    "update_damage_taken('Molly', 11)\n",
    "add_enemy_damage('Carnival Husk', 'Bludgeoning', 20)\n",
    "update_times_knocked_unconscious('Molly') \n",
    "    # Knocked unconcious by an Undead Husk\n",
    "increment_kills('Veth') \n",
    "   # Undead Husk"
   ]
  },
  {
   "attachments": {},
   "cell_type": "markdown",
   "metadata": {},
   "source": [
    "##### <span style='font-family:palatino'> **Midnight Hunt for the Devil Toad, Kylre** ~ Episode 3\n",
    "\n",
    "<span style='font-family:palatino'>Upon reaching the outer banks of <span style='color:#75CFFF'>Crookedstone Island</span>, the group embarks on their exploration. They search for any signs of the elusive beast but are hindered by the low light, making it difficult to find any traces. Proceeding cautiously, they come across devoured shells, indicating the presence of something predatory. Continuing further, they stumble upon an open area in the forest where they discover a dilapidated witches' hut. They investigate the hut, hoping to find a hiding spot or clue, but instead encounter <span style='color:#E86555'>Kylre</span> and <span style='color:#A782D7'>Toya</span> nearby in the clearing. <span style='color:#E86555'>Kylre</span> immediately launches an attack on the group.\n",
    "\n",
    "* <span style='font-family:palatino'>**Fight MVP: <span style='color:#76CA84'>Fjord</span>, the amount of damage he output during this fight was incomparable to anyone else. Even though we went unconscious, he dealt a total of 64 damage split into 33 <span style='color:#DAB6FF'>Force</span> damage from Eldritch Blast, 25 <span style='color:#7D7C79'>Slashing</span> damage his Falchion, and 6 <span style='color:#F1ADED'>Psychic</span> damage from Wrathful Smite. <span style='color:#76CA84'>Fjord</span> also dealt the finishing blow on <span style='color:#E86555'>Kylre</span>.**"
   ]
  },
  {
   "cell_type": "code",
   "execution_count": 4,
   "metadata": {},
   "outputs": [
    {
     "name": "stdout",
     "output_type": "stream",
     "text": [
      "Encounter:\n",
      "--------------------\n",
      "Kylre the Nergaliid\n",
      "Toya\n",
      "3 Imps\n",
      "--------------------\n",
      "Initiative Order:\n",
      "--------------------\n",
      "Molly - 18\n",
      "Jester - 16\n",
      "Beau - 16\n",
      "Caleb - 15\n",
      "Nott - 11\n",
      "Fjord - 5\n",
      "--------------------\n"
     ]
    }
   ],
   "source": [
    "from campaign_stats import add_damage, update_healing, update_damage_taken, update_times_killed, update_times_knocked_unconscious, increment_kills, add_enemy_damage, get_enemy_stats\n",
    "\n",
    "encounter = ['Kylre the Nergaliid','Toya','3 Imps']\n",
    "order = ['Molly - 18','Jester - 16','Beau - 16','Caleb - 15','Nott - 11','Fjord - 5']\n",
    "print('Encounter:')\n",
    "print('--------------------')\n",
    "for i in encounter:\n",
    "    print(i)\n",
    "print('--------------------')\n",
    "print('Initiative Order:')\n",
    "print('--------------------')\n",
    "for i in order:\n",
    "    print(i)\n",
    "print('--------------------')\n",
    "\n",
    "add_damage('Beau', 'Bludgeoning', 7)\n",
    "add_damage('Fjord', 'Force', 19)\n",
    "    # Eldritch Blast\n",
    "add_damage('Molly', 'Slashing', 8)\n",
    "add_damage('Molly', 'Cold', 1)\n",
    "    # Crimson Rite ~ Rite of the Frozen\n",
    "add_enemy_damage('Imp', 'Piercing', 5)\n",
    "add_enemy_damage('Imp', 'Poison', 4)\n",
    "update_damage_taken('Molly', 9)\n",
    "add_damage('Molly', 'Slashing', 7)\n",
    "increment_kills('Molly')\n",
    "    # Imp\n",
    "add_enemy_damage('Kylre', 'Psychic', 4)\n",
    "update_damage_taken('Caleb', 4)\n",
    "add_damage('Beau', 'Bludgeoning', 8)\n",
    "add_damage('Veth', 'Piercing', 12)\n",
    "add_damage('Fjord', 'Slashing', 14)\n",
    "add_damage('Fjord', 'Psychic', 1)\n",
    "    # Wrathful Smite\n",
    "add_enemy_damage('Imp', 'Piercing', 7)\n",
    "add_enemy_damage('Imp', 'Poison', 5)\n",
    "update_damage_taken('Caleb', 12)\n",
    "update_times_knocked_unconscious('Caleb')\n",
    "    # Knocked unconscious by the Imp's poison\n",
    "add_enemy_damage('Imp', 'Piercing', 6)\n",
    "add_enemy_damage('Imp', 'Poison', 6)\n",
    "update_damage_taken('Jester', 12)\n",
    "add_damage('Molly', 'Psychic', 4)\n",
    "    # Vicious Mockery\n",
    "add_enemy_damage('Kylre', 'Piercing', 11)\n",
    "add_damage('Veth', 'Piercing', 11)\n",
    "add_damage('Fjord', 'Slashing', 11)\n",
    "add_damage('Fjord', 'Psychic', 5)\n",
    "    # Wrathful Smite\n",
    "update_healing('Jester', 9)\n",
    "    # Cure Wounds on ?\n",
    "add_damage('Fjord','Force', 14)\n",
    "    # Eldritch Blast\n",
    "increment_kills('Fjord')\n",
    "    # Kylre the Fergaliid\n",
    "add_enemy_damage('Imp', 'Piercing', 7)\n",
    "add_enemy_damage('Fjord', 'Poison', 14)\n",
    "update_damage_taken('Fjord', 21)\n",
    "update_times_knocked_unconscious('Fjord')\n",
    "    # Knocked unconscious by the Imp's Poison\n",
    "add_damage('Jester', 'Radiant', 6)\n",
    "    # Word of Radiance\n",
    "increment_kills('Jester')\n",
    "    # Imp\n",
    "add_damage('Beau', 'Bludgeoning', 12)\n",
    "increment_kills('Beau')\n",
    "    # Imp\n",
    "update_healing('Jester', 5)\n",
    "    # Cure Wounds on ?\n",
    "\n"
   ]
  },
  {
   "attachments": {},
   "cell_type": "markdown",
   "metadata": {},
   "source": [
    "##### <span style='font-family:palatino'> **Expositor Darion of the Cobalt Soul** ~ Episode 4\n",
    "\n",
    "<span style='font-family:palatino'>After finishing their drinks, <span style='color:#76CA84'>Beau</span> is approached by <span style='color:#A782D7'>Archivist Zeenoth</span>, who invites her for a walk. They are joined by a bald-headed elven woman, revealing herself as <span style='color:#A782D7'>Expositor Dairon</span>. The three of them head towards the Northward district of town and enter a warehouse. To <span style='color:#76CA84'>Beau's</span> surprise, she learns that <span style='color:#A782D7'>Zeenoth</span> is her mentor and that he went to great lengths to locate her. This contradicts <span style='color:#76CA84'>Beau's</span> belief that the Archive disliked her and saw her as a troublesome student. While <span style='color:#A782D7'>Zeenoth</span> tries to reason with <span style='color:#76CA84'>Beau</span>, <span style='color:#A782D7'>Dairon</span> interrupts their conversation. She informs <span style='color:#A782D7'>Zeenoth</span> that he is no longer responsible for tutoring <span style='color:#76CA84'>Beau</span>. <span style='color:#A782D7'>Zeenoth</span> leaves, appearing hurt by the decision. <span style='color:#A782D7'>Dairon</span> introduces herself as an Expositor of the Cobalt Soul, a position that <span style='color:#76CA84'>Beau</span> had only heard about in whispers. When <span style='color:#76CA84'>Beau</span> responds to <span style='color:#A782D7'>Dairon's</span> introduction with sarcasm, <span style='color:#A782D7'>Dairon</span> swiftly punches her in the jaw to grab her attention.\n",
    "\n",
    "\n",
    "\n",
    "\n",
    "\n",
    "\n"
   ]
  },
  {
   "cell_type": "code",
   "execution_count": 138,
   "metadata": {},
   "outputs": [
    {
     "name": "stdout",
     "output_type": "stream",
     "text": [
      "Encounter:\n",
      "--------------------\n",
      "Expositor Dairon of the Cobalt Soul\n",
      "--------------------\n",
      "Initiative Order:\n",
      "--------------------\n",
      "Beau\n",
      "--------------------\n"
     ]
    }
   ],
   "source": [
    "from campaign_stats import add_damage, update_healing, update_damage_taken, update_times_killed, update_times_knocked_unconscious, increment_kills, add_enemy_damage, get_enemy_stats\n",
    "\n",
    "encounter = ['Expositor Dairon of the Cobalt Soul']\n",
    "order = ['Beau']\n",
    "print('Encounter:')\n",
    "print('--------------------')\n",
    "for i in encounter:\n",
    "    print(i)\n",
    "print('--------------------')\n",
    "print('Initiative Order:')\n",
    "print('--------------------')\n",
    "for i in order:\n",
    "    print(i)\n",
    "print('--------------------')\n",
    "\n",
    "add_enemy_damage('Dairon', 'Bludgeoning', 17)\n",
    "update_damage_taken('Beau', 17)\n",
    "add_damage('Beau', 'Bludgeoning', 31)"
   ]
  },
  {
   "attachments": {},
   "cell_type": "markdown",
   "metadata": {},
   "source": [
    "##### <span style='font-family:palatino'> **Pack of Gnolls in Alfield** ~ Episode 5\n",
    "\n",
    "<span style='font-family:palatino'>As the group's second day of travel comes to a close, they catch sight of the village of <span style='color:#75CFFF'>Alfield</span> in the distance. Despite the approaching darkness, they choose to press on and reach the village. Upon reaching the outskirts of <span style='color:#75CFFF'>Alfield</span>, they are met with a devastating sight—the village is under attack and engulfed in flames. <span style='color:#E86555'>Gnolls</span> are rampaging through the town, overpowering the local Crownsguard's attempts to defend it. A member of the Crownsguard spots the party's arrival and offers them a reward of 30 gold pieces per gnoll ear if they join the fight, the party agrees to the offer and rushes into the chaos to aid in the battle against the <span style='color:#E86555'>gnolls</span>.\n",
    "\n",
    "* <span style='font-family:palatino'>**Fight MVP: <span style='color:#76CA84'>Jester</span>, she managed to deal a total of 67 damage with a variety of damage types between her spells. She dealt 19 <span style='color:#DAB6FF'>Force</span> damage with her Lollipop Spiritual Weapon, 13 <span style='color:#FFD67F'>Radiant</span> damage with Sacred Flame and Guiding Bolt, 9 <span style='color:#A0DAF7'>Cold</span> damage with Hellish Rebuke, and 26 <span style='color:#648962'>Necrotic</span> damage with Inflict Wounds. She also healed 22 hit points to <span style='color:#76CA84'>Molly</span> and <span style='color:#76CA84'>Nott</span> after they were knocked unconcious.**  "
   ]
  },
  {
   "cell_type": "code",
   "execution_count": 139,
   "metadata": {},
   "outputs": [
    {
     "name": "stdout",
     "output_type": "stream",
     "text": [
      "Encounter:\n",
      "--------------------\n",
      "Gnoll Pack Leader\n",
      "6 Gnolls\n",
      "4 Gnoll Witherlings\n",
      "--------------------\n",
      "Initiative Order:\n",
      "--------------------\n",
      "Beau - 24\n",
      "Fjord - 16\n",
      "Molly - 9\n",
      "Jester - 7\n",
      "Caleb - 6\n",
      "Nott - 6\n",
      "--------------------\n"
     ]
    }
   ],
   "source": [
    "from campaign_stats import add_damage, update_healing, update_damage_taken, update_times_killed, update_times_knocked_unconscious, increment_kills, add_enemy_damage, get_enemy_stats\n",
    "\n",
    "encounter = ['Gnoll Pack Leader', '6 Gnolls', '4 Skeleton Gnolls']\n",
    "order = ['Beau - 24','Fjord - 16','Molly - 9','Jester - 7','Caleb - 6','Nott - 6']\n",
    "print('Encounter:')\n",
    "print('--------------------')\n",
    "for i in encounter:\n",
    "    print(i)\n",
    "print('--------------------')\n",
    "print('Initiative Order:')\n",
    "print('--------------------')\n",
    "for i in order:\n",
    "    print(i)\n",
    "print('--------------------')\n",
    "\n",
    "add_damage('Molly', 'Psychic', 3)\n",
    "    # Vicious Mockery\n",
    "update_damage_taken('Molly', 6)\n",
    "add_damage('Jester', 'Force', 10)\n",
    "    # Spiritual Weapon ~ Lollipop\n",
    "increment_kills('Jester')\n",
    "    # Skeleton Gnoll\n",
    "add_damage('Beau', 'Piercing', 6)\n",
    "add_damage('Jester', 'Radiant',4)\n",
    "    # Sacred Flame\n",
    "add_damage('Caleb', 'Fire', 19)\n",
    "    # Scorching Ray 3/3\n",
    "add_damage('Veth', 'Piercing', 12)\n",
    "update_damage_taken('Veth', 5)\n",
    "add_enemy_damage('Skeleton Gnolls', 'Piercing', 6)\n",
    "update_damage_taken('Beau', 6)\n",
    "add_damage('Fjord', 'Piercing', 9)\n",
    "    # Crown of Madness ~ Gnoll\n",
    "add_enemy_damage('Gnolls', 'Piercing', 9)\n",
    "update_damage_taken('Veth', 9)\n",
    "add_damage('Fjord', 'Force', 14)\n",
    "    # Eldritch Blast\n",
    "add_enemy_damage('Gnoll Pack Leader', 'Slashing', 2)\n",
    "add_damage('Fjord', 'Cold', 10)\n",
    "    # Armor of Agathys\n",
    "add_enemy_damage('Gnolls', 'Piercing', 7)\n",
    "update_damage_taken('Beau', 7)\n",
    "add_damage('NPCs', 'Piercing', 10) # Crownsguard\n",
    "increment_kills('NPCs') # Crownsguard\n",
    "    # Gnoll\n",
    "add_damage('Molly', 'Slashing', 9)\n",
    "add_enemy_damage('Skeleton Gnolls', 'Bludgeoning', 5)\n",
    "update_damage_taken('Jester', 5)\n",
    "add_damage('Jester', 'Cold', 9)\n",
    "    # Hellish Rebuke\n",
    "add_damage('Jester', 'Radiant', 9)\n",
    "    # Guiding Bolt\n",
    "add_damage('Jester', 'Force', 9)\n",
    "    # Spiritual Weapon ~ Lollipop\n",
    "add_enemy_damage('Skeleton Gnolls', 'Bludgeoning', 6)\n",
    "update_damage_taken('Jester', 6)\n",
    "add_damage('Beau', 'Bludgeoning', 8)\n",
    "increment_kills('Beau')\n",
    "    # Skeleton Gnoll\n",
    "add_damage('Beau', 'Bludgeoning', 7)\n",
    "increment_kills('Beau')\n",
    "    # Gnoll\n",
    "add_enemy_damage('Gnolls', 'Piercing', 8)\n",
    "update_damage_taken('Jester', 8)\n",
    "add_enemy_damage('Gnolls', 'Piercing', 6)\n",
    "update_damage_taken('Fjord', 6)\n",
    "add_enemy_damage('Gnoll Pack Leader', 'Slashing', 10)\n",
    "update_damage_taken('Fjord', 10)\n",
    "add_damage('Molly', 'Slashing', 5)\n",
    "add_damage('Molly', 'Radiant', 2)\n",
    "    # Crimson Rite ~ Rite of the Dawn\n",
    "add_damage('NPCs', 'Piercing', 8) # Crownsguard\n",
    "increment_kills('NPCs') # Crownsguard\n",
    "    # Skeleton Gnoll\n",
    "add_damage('Caleb', 'Fire', 11)\n",
    "    # Chromatic Orb\n",
    "add_damage('Beau', 'Bludgeoning', 11)\n",
    "add_damage('Beau', 'Bludgeoning', 8)\n",
    "add_damage('Beau', 'Bludgeoning', 8)\n",
    "increment_kills('Beau')\n",
    "    # Gnoll\n",
    "add_enemy_damage('Gnolls', 'Piercing', 8)\n",
    "update_damage_taken('Molly', 8)\n",
    "increment_kills('NPCs') # Crownsguard\n",
    "    # Gnoll\n",
    "update_damage_taken('Veth', 4)\n",
    "add_damage('Jester', 'Necrotic', 26)\n",
    "    # Inflict Wounds\n",
    "increment_kills('Jester')\n",
    "    # Gnoll\n",
    "add_enemy_damage('Gnoll Pack Leader', 'Piercing', 8)\n",
    "update_damage_taken('Veth', 8)\n",
    "update_times_knocked_unconscious('Veth')\n",
    "    # Knocked unconcious by an arrow from the pack leader\n",
    "add_enemy_damage('Gnoll Pack Leader', 'Piercing', 21)\n",
    "update_damage_taken('Molly', 21)\n",
    "update_times_knocked_unconscious('Molly')\n",
    "    # Knocked unconcious by an arrow from the pack leader\n",
    "update_healing('Jester', 22)\n",
    "    # Cure Wounds on both Molly and Nott (both unconcious)\n",
    "\n",
    "\n",
    "\n"
   ]
  },
  {
   "attachments": {},
   "cell_type": "markdown",
   "metadata": {},
   "source": [
    "##### <span style='font-family:palatino'> **Entering the Gnoll Mineshaft** ~ Episode 6\n",
    "\n",
    "<span style='font-family:palatino'>While tracking the <span style='color:#E86555'>Gnolls</span>, the group encounters three guarding <span style='color:#E86555'>Hyenas</span> near the entrance of a mineshaft. They swiftly defeat the <span style='color:#E86555'>Hyenas</span> and proceed inside. <span style='color:#A782D7'>Frumpkin</span> and a drunken <span style='color:#76CA84'>Nott</span> lead the way to scout, but <span style='color:#76CA84'>Nott</span> accidentally triggers a trap, alerting two <span style='color:#E86555'>Gnolls</span>. <span style='color:#76CA84'>Nott</span> calls for help, and the rest of the party rushes to assist in killing the <span style='color:#E86555'>Gnolls</span>. They search the room for any useful items and then <span style='color:#76CA84'>Nott</span> continues to scout ahead through two tunnels. One tunnel has a pit trap, while the other seems empty, prompting the party to choose the trapped path. After around 150 feet, they enter a large chamber with multiple levels and a stone altar in the center. Six <span style='color:#E86555'>Gnolls</span> and a smaller humanoid, who performs a ritual with human hearts, are present. The priest-like figure and two <span style='color:#E86555'>Gnolls</span> leave with the pack leader after the ritual. <span style='color:#76CA84'>Caleb</span> sends <span style='color:#A782D7'>Frumpkin</span> ahead, but the bird is spotted and shot by a <span style='color:#E86555'>Gnoll</span>, triggering the party to launch an attack.\n",
    "\n",
    "* <span style='font-family:palatino'>**Fight MVP: <span style='color:#76CA84'>Fjord</span>, he serves as the tank of the group with <span style='color:#76CA84'>Yasha</span> still in <span style='color:#75CFFF'>Trostenwald</span>, he picked up the most kills throughout the groups series of battles. His Armor of Agathys itself picked up two kills and had a total of 20 <span style='color:#A0DAF7'>Cold</span> damage.**"
   ]
  },
  {
   "cell_type": "code",
   "execution_count": 142,
   "metadata": {},
   "outputs": [
    {
     "name": "stdout",
     "output_type": "stream",
     "text": [
      "Encounter 1:\n",
      "--------------------\n",
      "3 Hyenas\n",
      "--------------------\n",
      "Encounter 2:\n",
      "--------------------\n",
      "2 Gnolls\n",
      "--------------------\n",
      "Encounter 3:\n",
      "--------------------\n",
      "5 Gnolls\n",
      "4 Hyenas\n",
      "--------------------\n",
      "Initiative Order:\n",
      "--------------------\n",
      "Molly - 23\n",
      "Caleb - 17\n",
      "Beau - 17\n",
      "Jester - 13\n",
      "Nott - 6\n",
      "Fjord - 4\n",
      "--------------------\n"
     ]
    }
   ],
   "source": [
    "from campaign_stats import add_damage, update_healing, update_damage_taken, update_times_killed, update_times_knocked_unconscious, increment_kills, add_enemy_damage, get_enemy_stats\n",
    "\n",
    "encounter_1 = ['3 Hyenas']\n",
    "encounter_2 = ['2 Gnolls']\n",
    "encounter_3 = ['5 Gnolls', '4 Hyenas']\n",
    "order = ['Molly - 23','Caleb - 17','Beau - 17','Jester - 13','Nott - 6','Fjord - 4']\n",
    "print('Encounter 1:')\n",
    "print('--------------------')\n",
    "for i in encounter_1:\n",
    "    print(i)\n",
    "print('--------------------')\n",
    "print('Encounter 2:')\n",
    "print('--------------------')\n",
    "for i in encounter_2:\n",
    "    print(i)\n",
    "print('--------------------')\n",
    "print('Encounter 3:')\n",
    "print('--------------------')\n",
    "for i in encounter_3:\n",
    "    print(i)\n",
    "print('--------------------')\n",
    "print('Initiative Order:')\n",
    "print('--------------------')\n",
    "for i in order:\n",
    "    print(i)\n",
    "print('--------------------')\n",
    "\n",
    "add_damage('Caleb', 'Fire', 1)\n",
    "    # Fire Bolt\n",
    "add_damage('Jester', 'Radiant', 4)\n",
    "    # Sacred Flame\n",
    "increment_kills('Jester')\n",
    "    # Hyena\n",
    "add_damage('Molly', 'Slashing', 7)\n",
    "add_damage('Molly', 'Radiant', 3)\n",
    "    # Crimson Rite ~ Rite of the Dawn\n",
    "increment_kills('Molly')\n",
    "    # Hyena\n",
    "add_damage('Veth', 'Piercing', 13)\n",
    "increment_kills('Veth')\n",
    "    # Hyena\n",
    "# ---------------------------- End Battle 1 ---------------------------------\n",
    "add_damage('Veth', 'Piercing', 11)\n",
    "add_enemy_damage('Gnolls', 'Piercing', 6)\n",
    "update_damage_taken('Veth', 6)\n",
    "add_damage('Jester', 'Radiant', 10)\n",
    "    # Guiding Bolt\n",
    "add_damage('Fjord', 'Force', 9)\n",
    "    # Eldritch Blast\n",
    "add_damage('Molly', 'Psychic', 3)\n",
    "    # Vicious Mockery \n",
    "add_damage('Veth', 'Lightning', 7)\n",
    "    # Shocking Grasp\n",
    "increment_kills('Veth')\n",
    "    # Gnoll\n",
    "add_enemy_damage('Gnolls', 'Piercing', 4)\n",
    "update_damage_taken('Fjord', 4)\n",
    "add_damage('Beau', 'Bludgeoning', 10)\n",
    "increment_kills('Beau')\n",
    "    # Gnoll\n",
    "update_healing('Jester', 9)\n",
    "    # ???\n",
    "# ---------------------------- End Battle 2 ---------------------------------\n",
    "add_enemy_damage('Gnolls', 'Piercing', 6) # Kills Frumpkin\n",
    "add_damage('Jester', 'Force', 9)\n",
    "    # Spiritual Weapon ~ Lollipop\n",
    "add_damage('Fjord', 'Force', 10)\n",
    "    # Eldritch Blast\n",
    "add_damage('Fjord', 'Necrotic', 5) \n",
    "    # Hex\n",
    "add_damage('Caleb', 'Fire', 7)\n",
    "    # Fire Bolt\n",
    "increment_kills('Caleb')\n",
    "    # Gnoll\n",
    "add_damage('Veth', 'Piercing', 15)\n",
    "increment_kills('Veth')\n",
    "    # Gnoll\n",
    "add_damage('Molly', 'Psychic', 3)\n",
    "    # Vicious Mockery\n",
    "add_damage('Jester', 'Force', 9)\n",
    "    # Spiritual Weapon ~ Lollipop\n",
    "add_damage('Jester', 'Necrotic', 2)\n",
    "    # Toll of the Dead\n",
    "add_enemy_damage('Hyenas', 'Piercing', 2)\n",
    "update_damage_taken('Fjord', 2)\n",
    "add_damage('Fjord', 'Cold', 10)\n",
    "    # Armor of Agathys\n",
    "increment_kills('Fjord')\n",
    "    # Hyena\n",
    "add_enemy_damage('Hyenas', 'Piercing', 8)\n",
    "update_damage_taken('Fjord', 8)\n",
    "add_damage('Fjord', 'Cold', 10)\n",
    "    # Armor of Agathys\n",
    "increment_kills('Fjord')\n",
    "    # Hyena\n",
    "add_damage('Fjord', 'Slashing', 14)\n",
    "add_damage('Fjord','Necrotic', 1) # End Round 1\n",
    "    # Hex \n",
    "add_damage('Molly', 'Slashing', 8)\n",
    "increment_kills('Molly')\n",
    "    # Gnoll\n",
    "add_damage('Molly', 'Slashing', 4)\n",
    "add_enemy_damage('Gnolls', 'Piercing', 8)\n",
    "update_damage_taken('Fjord', 8)\n",
    "add_damage('Beau','Bludgeoning', 8)\n",
    "add_damage('Jester', 'Necrotic', 7)\n",
    "    # Toll of the Dead\n",
    "increment_kills('Jester')\n",
    "    # Gnoll\n",
    "add_enemy_damage('Hyenas', 'Piercing', 2)\n",
    "update_damage_taken('Molly', 2)\n",
    "add_damage('Fjord', 'Slashing', 11)\n",
    "increment_kills('Fjord')\n",
    "    # Hyena\n",
    "add_damage('Molly', 'Slashing', 8)\n",
    "increment_kills('Molly')\n",
    "    # Hyena\n",
    "add_damage('Beau', 'Bludgeoning', 10)\n",
    "add_damage('Veth', 'Slashing', 13)\n",
    "increment_kills('Veth')\n",
    "    # Gnoll\n",
    "# ---------------------------- End Battle 3 ---------------------------------\n",
    "\n",
    "\n"
   ]
  },
  {
   "attachments": {},
   "cell_type": "markdown",
   "metadata": {},
   "source": [
    "##### <span style='font-family:palatino'> **Gnoll Pack in the Abandoned Mine (Meeting Shakäste)** ~ Episode 7\n",
    "\n",
    "<span style='font-family:palatino'>The party descends the mineshaft tunnel in search of the woman they heard. They reach a second spacious chamber where they encounter two <span style='color:#E86555'>hyenas</span>, a <span style='color:#E86555'>skeletal gnoll</span>, and two regular <span style='color:#E86555'>gnolls</span> engaged in a dispute over a young human child.\n",
    "\n",
    "* <span style='font-family:palatino'>**Fight MVP: <span style='color:#76CA84'>Molly</span>, he picked up two kills and dealt a total of 22 <span style='color:#7D7C79'>Slashing</span> damage with his Scimitars and 3 <span style='color:#F1ADED'>Psychic</span> damage from Vicious Mockery.** "
   ]
  },
  {
   "cell_type": "code",
   "execution_count": 8,
   "metadata": {},
   "outputs": [
    {
     "name": "stdout",
     "output_type": "stream",
     "text": [
      "Encounter:\n",
      "--------------------\n",
      "--------------------\n",
      "Initiative Order:\n",
      "--------------------\n",
      "--------------------\n"
     ]
    }
   ],
   "source": [
    "from campaign_stats import add_damage, update_healing, update_damage_taken, update_times_killed, update_times_knocked_unconscious, increment_kills, add_enemy_damage, get_enemy_stats\n",
    "\n",
    "encounter = ['2 Hyenas', '1 Skeleton Gnoll', '2 Gnolls']\n",
    "order = ['Nott - 24','Beau - 20','Molly - 16','Jester - 10','Caleb - 9','Fjord - 8','Shakäste - 4']\n",
    "print('Encounter:')\n",
    "print('--------------------')\n",
    "for i in encounter:\n",
    "    print(i)\n",
    "print('--------------------')\n",
    "print('Initiative Order:')\n",
    "print('--------------------')\n",
    "for i in order:\n",
    "    print(i)\n",
    "print('--------------------')\n",
    "\n",
    "add_damage('Veth', 'Piercing', 11)\n",
    "add_damage('Molly','Psychic', 3)\n",
    "    # Vicious Mockery\n",
    "add_damage('Fjord', 'Force', 11)\n",
    "    # Eldritch Blast\n",
    "add_damage('Fjord', 'Necrotic', 5)\n",
    "    # Hex\n",
    "add_damage('Veth', 'Piercing', 8)\n",
    "increment_kills('Veth')\n",
    "    # Gnoll\n",
    "add_damage('Molly', 'Slashing', 8)\n",
    "add_damage('Fjord', 'Force', 12)\n",
    "    # Eldritch Blast\n",
    "add_damage('Fjord', 'Necrotic', 4)\n",
    "    # Hex\n",
    "add_enemy_damage('Hyenas', 'Piercing', 2)\n",
    "update_damage_taken('Molly', 2)\n",
    "add_enemy_damage('Hyenas', 'Piercing', 1)\n",
    "update_damage_taken('Molly', 1)\n",
    "add_damage('Shakäste','Thunder', 12)\n",
    "    # Thunderwave\n",
    "add_damage('Beau', 'Bludgeoning', 10)\n",
    "increment_kills('Beau')\n",
    "    # Hyena\n",
    "add_damage('Molly', 'Slashing', 13)\n",
    "increment_kills('Molly')\n",
    "    # Skeleton Gnoll\n",
    "add_damage('Molly', 'Slashing', 9)\n",
    "increment_kills('Molly')\n",
    "    # Hyena\n",
    "add_enemy_damage('Gnolls', 'Piercing', 4)\n",
    "update_damage_taken('Caleb', 4)\n",
    "add_damage('Fjord', 'Force', 8)\n",
    "    # Eldritch Blast\n",
    "add_damage('Fjord', 'Necrotic', 3)\n",
    "    # Hex\n",
    "    "
   ]
  },
  {
   "attachments": {},
   "cell_type": "markdown",
   "metadata": {},
   "source": [
    "##### <span style='font-family:palatino'> **Gnoll Pack Leader and Regualr Gnolls in the Mine** ~ Episode 7\n",
    "\n",
    "<span style='font-family:palatino'><span style='color:#A782D7'>Shakäste</span> uses his own familiar, a hummingbird named <span style='color:#A782D7'>Grand Duchess</span>, to scout the tunnel beyond the second chamber. Discovering the presence of additional <span style='color:#E86555'>gnolls</span>, <span style='color:#76CA84'>Nott</span> and <span style='color:#76CA84'>Fjord</span> cautiously lead the way. However, <span style='color:#76CA84'>Fjord's</span> misstep causes a noise that attracts the attention of the first <span style='color:#E86555'>gnoll</span>, prompting an immediate confrontation. The <span style='color:#E86555'>gnoll</span>, manages to signal its companions before being defeated. Three more <span style='color:#E86555'>gnolls</span> arrive to investigate, resulting in another skirmish. Soon after, the <span style='color:#E86555'>pack leader of the gnolls</span>, joins the fray.\n",
    "\n",
    "* <span style='font-family:palatino'>**Fight MVP: Shakäste, he had low damage output in this fight but his support was really what the group needed. He healed Jester and Nott for 5 points each and managed to use Hold Person onto the Gnoll Pack Leader allowing for Nott and Jester to combo kill it in one swift move.** "
   ]
  },
  {
   "cell_type": "code",
   "execution_count": null,
   "metadata": {},
   "outputs": [],
   "source": [
    "from campaign_stats import add_damage, update_healing, update_damage_taken, update_times_killed, update_times_knocked_unconscious, increment_kills, add_enemy_damage, get_enemy_stats\n",
    "\n",
    "encounter = ['Gnoll Pack Leader', '3 Gnolls', '2 Skeleton Gnolls']\n",
    "order = ['Shakäste - 20','Molly - 13','Nott - 11','Jester - 10','Beau - 9','Caleb - 7','Fjord - 3']\n",
    "print('Encounter:')\n",
    "print('--------------------')\n",
    "for i in encounter:\n",
    "    print(i)\n",
    "print('--------------------')\n",
    "print('Initiative Order:')\n",
    "print('--------------------')\n",
    "for i in order:\n",
    "    print(i)\n",
    "print('--------------------')\n",
    "\n",
    "add_damage('Fjord', 'Force', 14)\n",
    "    # Eldritch Blast\n",
    "add_enemy_damage('Gnolls', 'Piercing', 10)\n",
    "update_damage_taken('Fjord', 10)\n",
    "add_damage('Veth', 'Piercing', 5)\n",
    "add_damage('Fjord', 'Force', 8)\n",
    "    # Eldritch Blast\n",
    "add_damage('Fjord', 'Necrotic', 5)\n",
    "    # Hex\n",
    "add_damage('Shakäste', 'Radiant', 1)\n",
    "    # Sacred Flame\n",
    "add_damage('Shakäste', 'Cold', 3)\n",
    "    # Forstbite\n",
    "add_damage('Beau','Bludgeoning', 20)\n",
    "increment_kills('Beau')\n",
    "    # Skeleton Gnoll\n",
    "update_healing('Shakäste', 10)\n",
    "    # Aid on Jester and Nott ??\n",
    "add_damage('Molly', 'Slashing', 11)\n",
    "increment_kills('Molly')\n",
    "    # Skeleton Gnoll\n",
    "add_damage('Molly', 'Slashing', 10)\n",
    "add_damage('Veth', 'Piercing', 12)\n",
    "increment_kills('Veth')\n",
    "    # Gnoll\n",
    "add_damage('Jester', 'Necrotic', 8)\n",
    "    # Toll of the Dead\n",
    "add_damage('Caleb', 'Fire', 20)\n",
    "    # Scorching Ray 3/3\n",
    "add_damage('Fjord', 'Force', 8)\n",
    "add_enemy_damage('Gnoll Pack Leader', 'Bludgeoning', 11)\n",
    "update_damage_taken('Beau', 11)\n",
    "add_enemy_damage('Gnolls', 'Piercing', 4)\n",
    "update_damage_taken('Molly', 4)\n",
    "add_enemy_damage('Gnolls', 'Piercing', 8)\n",
    "update_damage_taken('Jester', 8)\n",
    "add_damage('Molly', 'Slashing', 20)\n",
    "add_damage('Veth', 'Piercing', 15)\n",
    "increment_kills('Veth')\n",
    "    # Gnoll Pack Leader ~ Shared with Jester\n",
    "add_damage('Jester', 'Slashing', 4)\n",
    "increment_kills('Jester')\n",
    "    # Gnoll Pack Leader ~ Shared with Nott\n",
    "update_healing('Fjord', 7)\n",
    "    # Hexblade's Curse\n",
    "add_damage('Caleb', 'Thunder', 8)\n",
    "    # Chromatic Orb\n",
    "add_damage('Fjord', 'Force', 15)\n",
    "increment_kills('Fjord')\n",
    "    # Gnoll\n",
    "add_damage('Shakäste', 'Radiant', 6)\n",
    "    # Sacred Flame\n",
    "add_damage('Beau', 'Bludgeoning', 5)\n",
    "increment_kills('Beau')\n",
    "    # Gnoll"
   ]
  },
  {
   "attachments": {},
   "cell_type": "markdown",
   "metadata": {},
   "source": [
    "##### <span style='font-family:palatino'> **Yeenoghu Priest and Manticore** ~ Episode 7\n",
    "\n",
    "<span style='font-family:palatino'>In the final chamber of the mines, the party discovers two human captives who are bound, along with a human priest adorned with gnoll bones. <span style='color:#A782D7'>Shakäste</span> observes the scene through the eyes of his hummingbird familiar and witnesses the <span style='color:#E86555'>priest</span> offering a third captive to a <span style='color:#E86555'>mother manticore</span> and her <span style='color:#E86555'>newborn cub</span>, who quickly devours the unfortunate victim. The party devises a plan to silently enter the chamber, free the remaining captives, and escape while sealing off the tunnel behind them. However, their plan takes an unexpected turn when the <span style='color:#E86555'>manticore</span> spots them upon their entrance. Combat ensues before <span style='color:#76CA84'>Nott</span> can complete the task of untying the captives.\n",
    "\n",
    "* <span style='font-family:palatino'>**Fight MVP: Nott, she is the MVP not because of her kills or damage done but because of her actions. She snuck in and saved the guards who were captured and would have been sacrifices to the Manticore, she killed the Manticore's baby putting all th attention on her and managed to get off a Hideous Laughter onto the Manticore allowing for the remainder of the fight to be of ease.** "
   ]
  },
  {
   "cell_type": "code",
   "execution_count": 9,
   "metadata": {},
   "outputs": [
    {
     "name": "stdout",
     "output_type": "stream",
     "text": [
      "Encounter:\n",
      "--------------------\n",
      "--------------------\n",
      "Initiative Order:\n",
      "--------------------\n",
      "--------------------\n"
     ]
    }
   ],
   "source": [
    "from campaign_stats import add_damage, update_healing, update_damage_taken, update_times_killed, update_times_knocked_unconscious, increment_kills, add_enemy_damage, get_enemy_stats\n",
    "\n",
    "encounter = ['Manticore', 'Yeenoghu Priest']\n",
    "order = ['Molly - 22','Fjord - 20','Jester - 18','Nott - 17','Beau - 9','Caleb - 8','Shakäste - 5']\n",
    "print('Encounter:')\n",
    "print('--------------------')\n",
    "for i in encounter:\n",
    "    print(i)\n",
    "print('--------------------')\n",
    "print('Initiative Order:')\n",
    "print('--------------------')\n",
    "for i in order:\n",
    "    print(i)\n",
    "print('--------------------')\n",
    "\n",
    "add_damage('Molly', 'Psychic', 1)\n",
    "    # Vicious Mockery\n",
    "add_damage('Fjord', 'Slashing', 13)\n",
    "add_enemy_damage('Manticore', 'Slashing', 9)\n",
    "update_damage_taken('Jester', 9)\n",
    "add_damage('Jester', 'Cold', 13)\n",
    "    # Hellsih Rebuke\n",
    "add_enemy_damage('Manticore', 'Slashing', 5)\n",
    "update_damage_taken('Fjord', 5)\n",
    "add_damage('Fjord', 'Cold', 10)\n",
    "    # Armor of Agathys\n",
    "add_enemy_damage('Manticore', 'Piercing', 10)\n",
    "update_damage_taken('Fjord', 10)\n",
    "add_damage('Fjord', 'Cold', 10)\n",
    "    # Armor of Agathys\n",
    "add_damage('Shakäste', 'Force', 4)\n",
    "    # Spirtual Weapon ~ Estelle Gettty Bust\n",
    "add_damage('Molly', 'Psychic', 4)\n",
    "    # Vicious Mockery\n",
    "add_damage('Jester', 'Radiant', 6)\n",
    "    # Sacred Flame\n",
    "add_damage('Veth', 'Slashing', 17)\n",
    "increment_kills('Veth')\n",
    "    # Manticore Baby\n",
    "add_enemy_damage('Manticore', 'Slashing', 7)\n",
    "update_damage_taken('Veth', 9)\n",
    "add_enemy_damage('Manticore', 'Piercing', 11)\n",
    "update_damage_taken('Veth', 11)\n",
    "add_enemy_damage('Manticore', 'Piercing', 10)\n",
    "update_damage_taken('Veth', 10)\n",
    "update_times_knocked_unconscious('Veth')\n",
    "    # Knocked unconcious by the Manticore\n",
    "add_damage('Caleb', 'Cold', 15)\n",
    "add_enemy_damage('Yeenoghu Priest', 'Necrotic', )\n",
    "    # Inflict Wounds\n",
    "update_damage_taken('Jester', 14)\n",
    "update_times_knocked_unconscious('Jester')\n",
    "    # Knocked unconcious by the Yeenoghu Priest\n",
    "add_damage('Shakäste', '', 3)\n",
    "    # Sacred Flame\n",
    "update_healing('Fjord', 8)\n",
    "    # Regular Healing Potion on Jester (unconcious)\n",
    "update_healing('Jester', 8)\n",
    "    # Cure Wounds on Nott (unconcious)\n",
    "add_damage('Beau', 'Bludgeoning', 16)\n",
    "add_damage('Caleb', 'Fire', 10)\n",
    "increment_kills('Caleb')\n",
    "    # Yeenoghu Priest \n",
    "add_damage('Shakäste', 'Force', 7)\n",
    "    # Spiritual Weapon ~ Estelle Gettty Bust\n",
    "add_damage('Shakäste', 'Radiant', 6)\n",
    "    # Sacred Flame\n",
    "increment_kills('Shakäste')\n",
    "    # Manticore"
   ]
  },
  {
   "attachments": {},
   "cell_type": "markdown",
   "metadata": {},
   "source": [
    "##### <span style='font-family:palatino'> **Bandits on Amber Road** ~ Episode 8\n",
    "\n",
    "<span style='font-family:palatino'>During the second night, a <span style='color:#E86555'>bandit group</span> manages to bypass <span style='color:#76CA84'>Mollymauk's</span> watch and triggers <span style='color:#76CA84'>Caleb's</span> Alarm spell, causing the camp to awaken. The <span style='color:#E86555'>bandits</span> are under the leadership of a man named <span style='color:#E86555'>Trevor</span>, whom <span style='color:#76CA84'>Caleb</span> charms using his Friends spell. With some assistance from <span style='color:#76CA84'>Nott</span>, they persuade the <span style='color:#E86555'>bandits</span> that they are all infected with a severe form of syphilis and should retreat. Unfortunately, the spell wears off before <span style='color:#76CA84'>Caleb</span> can fully convince the <span style='color:#E86555'>bandits</span> to accept the offer.\n",
    "\n",
    "* <span style='font-family:palatino'>**Fight MVP: <span style='color:#76CA84'>Caleb</span>, he got the one and only kill during this scuffle with the <span style='color:#E86555'>bandits</span> and seemingly caused the end of the fight with the help of some of his other comrades. He dealt 37 <span style='color:#EA791A'>Fire</span> damage to <span style='color:#E86555'>Trevor</span>, <span style='color:#E86555'>the bandit leader</span>, turning him to ash.**"
   ]
  },
  {
   "cell_type": "code",
   "execution_count": 10,
   "metadata": {},
   "outputs": [
    {
     "name": "stdout",
     "output_type": "stream",
     "text": [
      "Encounter:\n",
      "--------------------\n",
      "--------------------\n",
      "Initiative Order:\n",
      "--------------------\n",
      "--------------------\n"
     ]
    }
   ],
   "source": [
    "from campaign_stats import add_damage, update_healing, update_damage_taken, update_times_killed, update_times_knocked_unconscious, increment_kills, add_enemy_damage, get_enemy_stats\n",
    "\n",
    "encounter = []\n",
    "order = []\n",
    "print('Encounter:')\n",
    "print('--------------------')\n",
    "for i in encounter:\n",
    "    print(i)\n",
    "print('--------------------')\n",
    "print('Initiative Order:')\n",
    "print('--------------------')\n",
    "for i in order:\n",
    "    print(i)\n",
    "print('--------------------')\n",
    "\n",
    "add_damage('Jester', 'Force', 7)\n",
    "    # Spiritual Weapon\n",
    "add_damage('Caleb', 'Fire', 37)\n",
    "    # Scorching Ray 3/3\n",
    "increment_kills('Caleb')\n",
    "    # Bandit Leader, Trevor\n",
    "add_damage('Beau', 'Piercing', 5)\n",
    "add_enemy_damage('Bandits','Piercing',19)\n",
    "update_damage_taken('Caleb', 19)\n",
    "update_times_knocked_unconscious('Caleb')\n",
    "add_damage('Fjord', 'Force', 14)\n",
    "    # Eldritch Blast\n",
    "update_healing('Jester', 11)\n",
    "    # Cure Wounds on Caleb (unconcious)"
   ]
  },
  {
   "attachments": {},
   "cell_type": "markdown",
   "metadata": {},
   "source": [
    "##### <span style='font-family:palatino'> **Giant Sewer Rats** ~ Episode 10\n",
    "\n",
    "<span style='font-family:palatino'>The group finds the sewer entrance and inform the guard of their intention to slay the monster, gaining entry. Moving towards the left, they reach a dead end but discover recent signs of movement. <span style='color:#76CA84'>Nott</span> investigates a suspicious spot and detects blood by licking it. Realizing the need to change direction, they encounter a fork in the sewer. One path is wet with flowing water, while the other is dry with traces of webbing. Upon noticing movement within one of the clusters of refuse, <span style='color:#76CA84'>Beau</span> throws a ball bearing at it, revealing a large, matted-furred <span style='color:#E86555'>sewer rat</span>. The <span style='color:#E86555'>rat</span> emits a shriek, alerting other <span style='color:#E86555'>infected rats</span> concealed in the garbage piles, which initiate an attack.\n",
    "\n",
    "* <span style='font-family:palatino'>**Fight MVP: <span style='color:#76CA84'>Fjord</span>, in a relatively easy fight, <span style='color:#76CA84'>Fjord</span> picked up two kills with a total of 10 <span style='color:#A0DAF7'>Cold</span> damage and 10 <span style='color:#7D7C79'>Slashing</span> damage.**"
   ]
  },
  {
   "cell_type": "code",
   "execution_count": 11,
   "metadata": {},
   "outputs": [
    {
     "name": "stdout",
     "output_type": "stream",
     "text": [
      "Encounter:\n",
      "--------------------\n",
      "--------------------\n",
      "Initiative Order:\n",
      "--------------------\n",
      "--------------------\n"
     ]
    }
   ],
   "source": [
    "from campaign_stats import add_damage, update_healing, update_damage_taken, update_times_killed, update_times_knocked_unconscious, increment_kills, add_enemy_damage, get_enemy_stats\n",
    "\n",
    "encounter = ['7 Giant Sewer Rats']\n",
    "order = ['Fjord - 20','Nott - 20','Beau - 19','Yasha - 17','Jester - 8','Molly - 6','Caleb - 4']\n",
    "print('Encounter:')\n",
    "print('--------------------')\n",
    "for i in encounter:\n",
    "    print(i)\n",
    "print('--------------------')\n",
    "print('Initiative Order:')\n",
    "print('--------------------')\n",
    "for i in order:\n",
    "    print(i)\n",
    "print('--------------------')\n",
    "\n",
    "add_enemy_damage('Rats', 'Piercing', 5)\n",
    "update_damage_taken('Fjord', 5)\n",
    "add_damage('Fjord', 'Cold', 10)\n",
    "    # Armor of Agathys\n",
    "increment_kills('Fjord')\n",
    "    # Rat\n",
    "add_damage('Fjord', 'Slashing', 10)\n",
    "increment_kills('Fjord')\n",
    "    # Rat\n",
    "add_damage('Veth', 'Piercing', 15)\n",
    "increment_kills('Veth')\n",
    "    # Rat\n",
    "add_enemy_damage('Rats', 'Poison', 6)\n",
    "update_damage_taken('Beau', 3)\n",
    "update_damage_taken('Yasha', 3)\n",
    "add_damage('Beau', 'Bludgeoning', 8)\n",
    "increment_kills('Beau')\n",
    "    # Rat\n",
    "add_damage('Beau', 'Bludgeoning', 6)\n",
    "add_damage('Yasha', 'Bludgeoning', 4)\n",
    "add_enemy_damage('Rats', 'Piercing', 10)\n",
    "update_damage_taken('Yasha', 10)\n",
    "add_damage('Jester', 'Slashing', 7)\n",
    "increment_kills('Jester')\n",
    "    # Rat\n",
    "add_enemy_damage('Rats', 'Poison', 10)\n",
    "update_damage_taken('Caleb', 5)\n",
    "update_damage_taken('Jester', 5)\n",
    "add_damage('Molly', 'Bludgeoning', 2)\n",
    "add_damage('Caleb', 'Fire', 5)\n",
    "    # Fire Bolt\n",
    "increment_kills('Caleb')\n",
    "    # Rat\n",
    "add_damage('Veth', 'Piercing', 11)\n",
    "increment_kills('Veth')\n",
    "    # Rat\n",
    "update_healing('Jester', 8)\n",
    "    # Cure Wounds on Yasha"
   ]
  },
  {
   "attachments": {},
   "cell_type": "markdown",
   "metadata": {},
   "source": [
    "##### <span style='font-family:palatino'> **Phase Spider in the Webbed Sewer** ~ Episode 10\n",
    "\n",
    "<span style='font-family:palatino'>The webbing becomes increasingly dense, completely concealing the tunnel's end. <span style='color:#76CA84'>Molly</span> successfully breaks through a wall of webbing, unveiling a massive nest. Meanwhile, <span style='color:#76CA84'>Jester</span> cautiously approaches a sewer exit to ensure it remains open for a potential retreat, and she notices an unconscious halfling among the webbed bodies. Expressing concern, she requests to check on the halfling. <span style='color:#76CA84'>Fjord</span> goes to investigate with <span style='color:#76CA84'>Nott</span> at the rear, while <span style='color:#76CA84'>Caleb</span> and <span style='color:#76CA84'>Beau</span> join <span style='color:#76CA84'>Jester</span> in examining the halfling. Suddenly, <span style='color:#76CA84'>Fjord</span> and<span style='color:#76CA84'> Nott</span> sense a foreboding presence and slowly turn around to find a <span style='color:#E86555'>pale blue-white arachnid creature</span> with its pincers ominously open.\n",
    "\n",
    "* <span style='font-family:palatino'>**Fight MVP: The majority of the group dealt equivalent damage to the spider. <span style='color:#76CA84'>Fjord</span> dealt 10 <span style='color:#A0DAF7'>Cold</span> damage and 10 <span style='color:#EA791A'>Fire</span> damage, <span style='color:#76CA84'>Yasha</span> dealt 14 <span style='color:#7D7C79'>Slashing</span> damage, <span style='color:#76CA84'>Nott</span> dealt 17 <span style='color:#7D7C79'>Piercing</span> damage, <span style='color:#76CA84'>Jester</span> dealt 2 <span style='color:#FFD67F'>Radiant</span> damage and 7 <span style='color:#7D7C79'>Slashing</span> damage, and <span style='color:#76CA84'>Beau</span> dealt 11 <span style='color:#7D7C79'>Bludgeoning</span> damage. The MVP goes to the Mighty Nein's teamwork (is it really teamork though?).**"
   ]
  },
  {
   "cell_type": "code",
   "execution_count": 12,
   "metadata": {},
   "outputs": [
    {
     "name": "stdout",
     "output_type": "stream",
     "text": [
      "Encounter:\n",
      "--------------------\n",
      "--------------------\n",
      "Initiative Order:\n",
      "--------------------\n",
      "--------------------\n"
     ]
    }
   ],
   "source": [
    "from campaign_stats import add_damage, update_healing, update_damage_taken, update_times_killed, update_times_knocked_unconscious, increment_kills, add_enemy_damage, get_enemy_stats\n",
    "\n",
    "encounter = ['Phase Spider']\n",
    "order = ['Jester -22','Fjord - 15','Caleb - 15','Beau - 13','Molly - 13','Yasha - 7','Nott - 5']\n",
    "print('Encounter:')\n",
    "print('--------------------')\n",
    "for i in encounter:\n",
    "    print(i)\n",
    "print('--------------------')\n",
    "print('Initiative Order:')\n",
    "print('--------------------')\n",
    "for i in order:\n",
    "    print(i)\n",
    "print('--------------------')\n",
    "\n",
    "add_enemy_damage('Phase Spider', 'Piercing', 7)\n",
    "update_damage_taken('Fjord', 7)\n",
    "add_damage('Fjord', 'Cold', 10)\n",
    "    # Armor of Agathys\n",
    "add_enemy_damage('Phase Spider', 'Poison', 5)\n",
    "add_enemy_damage('Phase Spider', 'Piercing', 8)\n",
    "add_enemy_damage('Phase Spider', 'Poison', 15)\n",
    "add_damage('Yasha', 'Slashing', 14)\n",
    "add_damage('Veth', 'Piercing', 17)\n",
    "add_damage('Jester', 'Radiant', 2)\n",
    "    # Scared Flame\n",
    "add_damage('Fjord', 'Fire', 10)\n",
    "    # Scorching Ray 1/3 + Hex Blade's Curse\n",
    "update_damage_taken('Molly', 4)\n",
    "add_enemy_damage('Phase Spider', 'Piercing', 5)\n",
    "add_enemy_damage('Phase Spider', 'Poison', 11)\n",
    "update_healing('Yasha', 3)\n",
    "    # Healing Hand\n",
    "update_healing('Jester', 6)\n",
    "    # Cure Wounds on Fjord\n",
    "add_damage('Jester', 'Slashing', 7)\n",
    "add_damage('Beau', 'Bludgeoning', 11)\n",
    "add_damage('Molly', 'Psychic', 3)\n",
    "increment_kills('Molly')\n",
    "    # Phase Spider\n",
    "update_healing('Fjord', 7)\n",
    "    # Hexblade's Curse\n"
   ]
  },
  {
   "attachments": {},
   "cell_type": "markdown",
   "metadata": {},
   "source": [
    "##### <span style='font-family:palatino'> **Rug of Smothering** ~ Episode 12\n",
    "\n",
    "<span style='font-family:palatino'>During their exploration of Lord Sutan's residence, Jester, Nott, Beau, Caleb, and Ulog make some significant discoveries. Jester employs Locate Object to locate a wax seal, leading them to the master bedroom where they find a magical aura emanating from a rug and a metal cabinet, as detected by Caleb's Detect Magic spell. Jester deduces that the seal is hidden beneath the rug. Meanwhile, Beau notices a brick in the fireplace that dispels the magic surrounding the cabinet. Nott utilizes Mage Hand to carefully lift the carpet, revealing a hinged cubbyhole. However, their progress is impeded when the carpet unexpectedly comes to life and attacks them.\n",
    "\n",
    "* <span style='font-family:palatino'>**Fight MVP: No one, ideally Beau is deserving of MVP but (and although she didn't know) the damage she did to Nott can't be excused.**"
   ]
  },
  {
   "cell_type": "code",
   "execution_count": 13,
   "metadata": {},
   "outputs": [
    {
     "name": "stdout",
     "output_type": "stream",
     "text": [
      "Encounter:\n",
      "--------------------\n",
      "--------------------\n",
      "Initiative Order:\n",
      "--------------------\n",
      "--------------------\n"
     ]
    }
   ],
   "source": [
    "from campaign_stats import add_damage, update_healing, update_damage_taken, update_times_killed, update_times_knocked_unconscious, increment_kills, add_enemy_damage, get_enemy_stats\n",
    "\n",
    "encounter = []\n",
    "order = []\n",
    "print('Encounter:')\n",
    "print('--------------------')\n",
    "for i in encounter:\n",
    "    print(i)\n",
    "print('--------------------')\n",
    "print('Initiative Order:')\n",
    "print('--------------------')\n",
    "for i in order:\n",
    "    print(i)\n",
    "print('--------------------')\n",
    "\n",
    "encounter = ['Rug of Smothering']\n",
    "order = ['Nott - 24','Jester - 17','Beau - 15','Caleb - 9']\n",
    "print('Encounter:')\n",
    "print('--------------------')\n",
    "for i in encounter:\n",
    "    print(i)\n",
    "print('--------------------')\n",
    "print('Initiative Order:')\n",
    "print('--------------------')\n",
    "for i in order:\n",
    "    print(i)\n",
    "print('--------------------')\n",
    "\n",
    "add_enemy_damage('Rug', 'Bludgeoning', 12)\n",
    "update_damage_taken('Veth', 12)\n",
    "add_damage('Veth', 'Lightning', 1)\n",
    "    # Shocking Grasp\n",
    "add_damage('Jester','Radiant',15)\n",
    "    # Guiding Bolt\n",
    "update_damage_taken('Veth', 7)\n",
    "    # Took damage from Jester's Guiding Bolt while being smothered\n",
    "add_damage('Beau', 'Bludgeoning', 6)\n",
    "update_damage_taken('Veth', 3)\n",
    "    # Took damage from Beau while being smothered\n",
    "update_times_knocked_unconscious('Veth')\n",
    "    # Knocked unconcious by Beau's blows while being smothered\n",
    "add_damage('Beau', 'Bludgeoning', 7)\n",
    "update_healing('Caleb', 14)\n",
    "    # Greater Healing Potion on Nott (unconcious)\n",
    "add_enemy_damage('Rug', 'Bludgeoning', 10)\n",
    "update_damage_taken('Beau', 10)\n",
    "add_damage('NPCs', 'Piercing', 12) # Ulog\n",
    "update_damage_taken('Beau', 6)\n",
    "    # Took damage from Ulog while being smothered\n",
    "add_damage('Veth', 'Slashing', 15)\n",
    "update_damage_taken('Beau', 7)\n",
    "    # Took damage from Nott while being smothered\n",
    "add_damage('Veth', 'Slashing', 10)\n",
    "update_damage_taken('Beau', 5)\n",
    "    # Took damage from Nott while being smothered\n",
    "update_times_knocked_unconscious('Beau')\n",
    "    # Knocked unconcious by Nott while being smothered\n",
    "update_healing('Jester', 8)\n",
    "    # Cure Wounds on Beau (unconcious)\n"
   ]
  },
  {
   "attachments": {},
   "cell_type": "markdown",
   "metadata": {},
   "source": [
    "##### <span style='font-family:palatino'> **Xhoras Assassin, Thuron** ~ Episode 13\n",
    "\n",
    "<span style='font-family:palatino'>After escaping the terrifying events aboveground, the group finds themselves in the sewers. Their senses are heightened when they notice blood spatters on the ground. Caleb uses Dancing Lights to illuminate the area, revealing a severely injured individual dressed in black, insect-like leather armor. The person tightly grips a faintly glowing dodecahedral object. Speaking in Undercommon, the armored figure confronts the party. As Caleb tries to cast Comprehend Languages to understand the phrases, the figure unsheathes its blade and launches an attack towards him.\n",
    "\n",
    "\n",
    "* <span style='font-family:palatino'>**Fight MVP: Fjord, in the relative ease of the fight, Fjord managed to deal the most damage with 10 Cold damage from his Armor of Agathys and 12 Bludgeoning damage from his Falchion.**"
   ]
  },
  {
   "cell_type": "code",
   "execution_count": 14,
   "metadata": {},
   "outputs": [
    {
     "name": "stdout",
     "output_type": "stream",
     "text": [
      "Encounter:\n",
      "--------------------\n",
      "--------------------\n",
      "Initiative Order:\n",
      "--------------------\n",
      "--------------------\n"
     ]
    }
   ],
   "source": [
    "from campaign_stats import add_damage, update_healing, update_damage_taken, update_times_killed, update_times_knocked_unconscious, increment_kills, add_enemy_damage, get_enemy_stats\n",
    "\n",
    "encounter = ['Xhorus Assassin, Thuron']\n",
    "order = ['Beau - 21','Molly - 14','Nott - 11','Caleb - 11','Jester - 4','Fjord - 3']\n",
    "print('Encounter:')\n",
    "print('--------------------')\n",
    "for i in encounter:\n",
    "    print(i)\n",
    "print('--------------------')\n",
    "print('Initiative Order:')\n",
    "print('--------------------')\n",
    "for i in order:\n",
    "    print(i)\n",
    "print('--------------------')\n",
    "\n",
    "add_enemy_damage('Thuron', 'Slashing', 10)\n",
    "update_damage_taken('Fjord', 10)\n",
    "add_damage('Fjord', 'Cold', 10)\n",
    "    # Armor of Agathys\n",
    "add_enemy_damage('Thuron', 'Slashing', 20)\n",
    "update_damage_taken('Beau', 20)\n",
    "add_damage('Veth', 'Piercing', 16)\n",
    "increment_kills('Veth')\n",
    "    # Shadowy Figure\n",
    "update_healing('Jester', 6)\n",
    "    # Healing Word on Beau\n",
    "add_damage('Fjord', 'Bludgeoning', 12)\n",
    "add_damage('Beau', 'Bludgeoning', 12)\n",
    "add_enemy_damage('Thuron', 'Slashing', 10)\n",
    "update_damage_taken('Beau', 10)\n",
    "update_times_knocked_unconscious('Beau')\n",
    "    # Knocked unconcious by Thuron\n",
    "add_enemy_damage('Thuron', 'Slashing', 9)\n",
    "update_damage_taken('Fjord', 9)\n",
    "add_enemy_damage('Thuron', 'Slashing', 8)\n",
    "update_damage_taken('Jester', 8)\n",
    "add_damage('Jester', 'Cold', 4)\n",
    "increment_kills('Molly')\n",
    "    # Shadowy Figure\n",
    "add_damage('Molly', 'Bludgeoning', 5)\n",
    "increment_kills('Molly')\n",
    "    # Knocks out Thuron\n",
    "update_healing('Jester', 7)\n",
    "    # Cure Wounds on Beau (unconcious)\n"
   ]
  },
  {
   "attachments": {},
   "cell_type": "markdown",
   "metadata": {},
   "source": [
    "##### <span style='font-family:palatino'> **Darkmantles** ~ Episode 15\n",
    "\n",
    "<span style='font-family:palatino'>As the Mighty Nein navigate the underground river, they encounter smaller gaps along the way. In a friendly race, the boat carrying Yasha, Nott, and Caleb manages to pull ahead at times. During the journey, Nott decides to test the Ring of Water Walking but accidentally collides with a rock. Caleb quickly comes to her aid, helping her back into the boat. However, their moment is interrupted when they are suddenly attacked by three darkmantles. The creatures descend upon Nott, Fjord, and Caleb, wrapping their bodies around their heads.\n",
    "\n",
    "* <span style='font-family:palatino'>**Fight MVP: Nott, she dealt a total of 26 Piercing damage with her Crossbow Expert feat.**"
   ]
  },
  {
   "cell_type": "code",
   "execution_count": 15,
   "metadata": {},
   "outputs": [
    {
     "name": "stdout",
     "output_type": "stream",
     "text": [
      "Encounter:\n",
      "--------------------\n",
      "--------------------\n",
      "Initiative Order:\n",
      "--------------------\n",
      "--------------------\n"
     ]
    }
   ],
   "source": [
    "from campaign_stats import add_damage, update_healing, update_damage_taken, update_times_killed, update_times_knocked_unconscious, increment_kills, add_enemy_damage, get_enemy_stats\n",
    "\n",
    "encounter = ['3 Darkmantles']\n",
    "order = ['Fjord - 15','Nott - 10','Beau - 9','Molly - 7','Jester - 5','Yasha - 4','Caleb - 2']\n",
    "print('Encounter:')\n",
    "print('--------------------')\n",
    "for i in encounter:\n",
    "    print(i)\n",
    "print('--------------------')\n",
    "print('Initiative Order:')\n",
    "print('--------------------')\n",
    "for i in order:\n",
    "    print(i)\n",
    "print('--------------------')\n",
    "\n",
    "add_enemy_damage('Darkmantles','Bludgeoning', 5)\n",
    "update_damage_taken('Veth', 5)\n",
    "add_damage('Fjord','Force', 8)\n",
    "    # Eldritch Blast\n",
    "add_enemy_damage('Darkmantles', 'Bludgeoning', 5)\n",
    "update_damage_taken('Fjord', 5)\n",
    "add_damage('Beau', 'Bludgeoning', 21)\n",
    "add_damage('Molly', 'Slashing', 9)\n",
    "increment_kills('Molly')\n",
    "    # Darkmantle\n",
    "add_damage('Caleb', 'Fire', 13)\n",
    "    # Scorching Ray 3/3\n",
    "add_enemy_damage('Darkmantles', 'Bludgeoning', 9)\n",
    "update_damage_taken('Caleb', 9)\n",
    "add_damage('Veth', 'Piercing', 6)\n",
    "increment_kills('Veth')\n",
    "    # Darkmantle\n",
    "add_damage('Veth', 'Piercing', 20)\n",
    "add_damage('Beau', 'Blugeoning', 9)\n",
    "increment_kills('Beau')\n",
    "    # Darkmantle\n"
   ]
  },
  {
   "attachments": {},
   "cell_type": "markdown",
   "metadata": {},
   "source": [
    "##### <span style='font-family:palatino'> **Will-o'-Wisps** ~ Episode 15\n",
    "\n",
    "<span style='font-family:palatino'>Upon reaching the top of the stairs, the group finds themselves in a breathtaking grand chamber that has partially caved in. Suspended from chains near the ceiling is a red clay urn, while two alcoves on either side house similar clay urns that are partially filled with ashes. Amidst the rubble, they discover a long metallic rod, approximately the size of the platform hole in the room below. Curiosity getting the better of her, Yasha plunges her sword into one of the urns, and to their surprise, a small glowing orb emerges and launches an attack against her. Swiftly, Nott dispatches the orb with a single strike. However, their relief is short-lived as more orbs emerge from the urns on the ceiling and the other alcove. To their astonishment, the previously vanquished orb appears to reform and re-emerge from the initial urn, intensifying the threat they face.\n",
    "\n",
    "* <span style='font-family:palatino'>**Fight MVP: Molly, the Wisps were not very tanky but Molly's quick thinking to break the vases lead to the downfall of the Wisps and a relatively easy fight for the group.**"
   ]
  },
  {
   "cell_type": "code",
   "execution_count": null,
   "metadata": {},
   "outputs": [
    {
     "name": "stdout",
     "output_type": "stream",
     "text": [
      "Encounter:\n",
      "--------------------\n",
      "--------------------\n",
      "Initiative Order:\n",
      "--------------------\n",
      "--------------------\n"
     ]
    }
   ],
   "source": [
    "from campaign_stats import add_damage, update_healing, update_damage_taken, update_times_killed, update_times_knocked_unconscious, increment_kills, add_enemy_damage, get_enemy_stats\n",
    "\n",
    "encounter = [\"Will-o'-Wisp\"]\n",
    "order = ['Beau - 22','Nott - 22','Fjord - 17','Jester - 12','Yasha - 10','Molly - 7','Caleb - 2']\n",
    "print('Encounter:')\n",
    "print('--------------------')\n",
    "for i in encounter:\n",
    "    print(i)\n",
    "print('--------------------')\n",
    "print('Initiative Order:')\n",
    "print('--------------------')\n",
    "for i in order:\n",
    "    print(i)\n",
    "print('--------------------')\n",
    "\n",
    "add_damage('Veth', 'Piercing', 14)\n",
    "add_enemy_damage(\"Will-o'-Wisp\", \"Lightning\", 20)\n",
    "update_damage_taken('Molly', 8)\n",
    "update_damage_taken('Veth', 12)\n",
    "add_damage('Beau', 'Bludgeoning', 4)\n",
    "add_enemy_damage(\"Will-o'-Wisp\", 'Lightning', 10)\n",
    "add_damage('Fjord', 'Cold', 5)\n",
    "    # Armor of Agathys\n",
    "add_damage('Beau', 'Bludgeoning', 4)\n",
    "add_damage('Yasha', 'Slashing', 5)\n",
    "add_damage('Yasha', 'Necrotic', 4)\n",
    "    # Divine Fury\n",
    "add_damage('Molly', 'Slashing', 8)\n",
    "add_damage('Caleb', 'Fire', 15)\n",
    "    # Scorching Ray /3\n",
    "update_healing('Jester', 7)\n",
    "    # Cure Wounds on Nott\n"
   ]
  },
  {
   "attachments": {},
   "cell_type": "markdown",
   "metadata": {},
   "source": [
    "##### <span style='font-family:palatino'> **Gelatinous Cube** ~ Episode 15\n",
    "\n",
    "<span style='font-family:palatino'>In an attempt to solve the puzzle, Caleb employs Unseen Servant to insert the metallic rod into the hole on the central platform while the rest of the party waits outside. However, their initial action yields no results. Molly and Beau decide to go back up the stairs and pry out one of the glowing light rocks. They then place the three metal bowls obtained from the urns onto the symbols present on the platform. Jester takes the initiative and casts a necrotic cantrip on the bowl situated on the necrotic symbol. Suddenly, a burst of energy is released, drawing itself towards the top of the metallic rod that stands upright in the center hole. After a brief moment, the group hears the sound of shifting stone, and a gelatinous cube descends from an opening in the ceiling.\n",
    "\n",
    "* <span style='font-family:palatino'>**Fight MVP: Yasha, she dealt a total of 43 Slashing damage and picked up the kill on the Gelatinous Cube.**"
   ]
  },
  {
   "cell_type": "code",
   "execution_count": 17,
   "metadata": {},
   "outputs": [
    {
     "name": "stdout",
     "output_type": "stream",
     "text": [
      "Encounter:\n",
      "--------------------\n",
      "--------------------\n",
      "Initiative Order:\n",
      "--------------------\n",
      "--------------------\n"
     ]
    }
   ],
   "source": [
    "from campaign_stats import add_damage, update_healing, update_damage_taken, update_times_killed, update_times_knocked_unconscious, increment_kills, add_enemy_damage, get_enemy_stats\n",
    "\n",
    "encounter = ['Gelatinous Cube']\n",
    "order = ['Caleb - 21','Jester - 20','Beau - 12','Yasha - 12','Fjord - 8','Molly - 7','Molly - 7']\n",
    "print('Encounter:')\n",
    "print('--------------------')\n",
    "for i in encounter:\n",
    "    print(i)\n",
    "print('--------------------')\n",
    "print('Initiative Order:')\n",
    "print('--------------------')\n",
    "for i in order:\n",
    "    print(i)\n",
    "print('--------------------')\n",
    "\n",
    "add_damage('Caleb','Bludgeoning', 7)\n",
    "    # Maximilian's Earthen Grasp\n",
    "add_damage('Jester', 'Radiant', 6)\n",
    "    # Scared Flame\n",
    "add_damage('Beau', 'Bludgeoning', 17)\n",
    "add_damage('Yasha', 'Slashing', 21)\n",
    "add_enemy_damage('Cube', 'Acid', 13)\n",
    "update_damage_taken('Yasha', 13)\n",
    "add_damage('Beau', 'Bludgeoning', 6)\n",
    "add_damage('Molly', 'Slashing', 6)\n",
    "add_damage('Molly', 'Cold', 1)\n",
    "    # Crimson Rite ~ Rite of the Frozen\n",
    "add_damage('Veth', 'Piercing', 39)\n",
    "add_damage('Fjord', 'Force', 14)\n",
    "    # Eldritch Blast\n",
    "add_enemy_damage('Cube', 'Acid', 32)\n",
    "update_damage_taken('Jester', 32)\n",
    "update_times_knocked_unconscious('Jester')\n",
    "    # Knocked unconcious by the Gelatinous Cube\n",
    "add_damage('Beau', 'Bludgeoning', 21)\n",
    "add_damage('Yasha', 'Slashing', 22)\n",
    "increment_kills('Yasha')\n",
    "    # Gelatinous Cube\n",
    "\n"
   ]
  },
  {
   "attachments": {},
   "cell_type": "markdown",
   "metadata": {},
   "source": [
    "##### <span style='font-family:palatino'> **Siff Duthar** ~ Episode 16\n",
    "* <span style='font-family:palatino'>**Fight MVP:"
   ]
  },
  {
   "cell_type": "code",
   "execution_count": 18,
   "metadata": {},
   "outputs": [
    {
     "name": "stdout",
     "output_type": "stream",
     "text": [
      "Encounter:\n",
      "--------------------\n",
      "--------------------\n",
      "Initiative Order:\n",
      "--------------------\n",
      "--------------------\n"
     ]
    }
   ],
   "source": [
    "from campaign_stats import add_damage, update_healing, update_damage_taken, update_times_killed, update_times_knocked_unconscious, increment_kills, add_enemy_damage, get_enemy_stats\n",
    "\n",
    "encounter = []\n",
    "order = []\n",
    "print('Encounter:')\n",
    "print('--------------------')\n",
    "for i in encounter:\n",
    "    print(i)\n",
    "print('--------------------')\n",
    "print('Initiative Order:')\n",
    "print('--------------------')\n",
    "for i in order:\n",
    "    print(i)\n",
    "print('--------------------')"
   ]
  },
  {
   "attachments": {},
   "cell_type": "markdown",
   "metadata": {},
   "source": [
    "##### <span style='font-family:palatino'> **Victory Pit Round One** ~ Episode 17\n",
    "* <span style='font-family:palatino'>**Fight MVP:"
   ]
  },
  {
   "cell_type": "code",
   "execution_count": 19,
   "metadata": {},
   "outputs": [
    {
     "name": "stdout",
     "output_type": "stream",
     "text": [
      "Encounter:\n",
      "--------------------\n",
      "--------------------\n",
      "Initiative Order:\n",
      "--------------------\n",
      "--------------------\n"
     ]
    }
   ],
   "source": [
    "from campaign_stats import add_damage, update_healing, update_damage_taken, update_times_killed, update_times_knocked_unconscious, increment_kills, add_enemy_damage, get_enemy_stats\n",
    "\n",
    "encounter = []\n",
    "order = []\n",
    "print('Encounter:')\n",
    "print('--------------------')\n",
    "for i in encounter:\n",
    "    print(i)\n",
    "print('--------------------')\n",
    "print('Initiative Order:')\n",
    "print('--------------------')\n",
    "for i in order:\n",
    "    print(i)\n",
    "print('--------------------')"
   ]
  },
  {
   "attachments": {},
   "cell_type": "markdown",
   "metadata": {},
   "source": [
    "##### <span style='font-family:palatino'> **Victory Pit Round Two** ~ Episode 17\n",
    "* <span style='font-family:palatino'>**Fight MVP:"
   ]
  },
  {
   "cell_type": "code",
   "execution_count": 20,
   "metadata": {},
   "outputs": [
    {
     "name": "stdout",
     "output_type": "stream",
     "text": [
      "Encounter:\n",
      "--------------------\n",
      "--------------------\n",
      "Initiative Order:\n",
      "--------------------\n",
      "--------------------\n"
     ]
    }
   ],
   "source": [
    "from campaign_stats import add_damage, update_healing, update_damage_taken, update_times_killed, update_times_knocked_unconscious, increment_kills, add_enemy_damage, get_enemy_stats\n",
    "\n",
    "encounter = []\n",
    "order = []\n",
    "print('Encounter:')\n",
    "print('--------------------')\n",
    "for i in encounter:\n",
    "    print(i)\n",
    "print('--------------------')\n",
    "print('Initiative Order:')\n",
    "print('--------------------')\n",
    "for i in order:\n",
    "    print(i)\n",
    "print('--------------------')"
   ]
  },
  {
   "attachments": {},
   "cell_type": "markdown",
   "metadata": {},
   "source": [
    "##### <span style='font-family:palatino'> **Victory Pit Round Three** ~ Episode 18\n",
    "* <span style='font-family:palatino'>**Fight MVP:"
   ]
  },
  {
   "cell_type": "code",
   "execution_count": 21,
   "metadata": {},
   "outputs": [
    {
     "name": "stdout",
     "output_type": "stream",
     "text": [
      "Encounter:\n",
      "--------------------\n",
      "--------------------\n",
      "Initiative Order:\n",
      "--------------------\n",
      "--------------------\n"
     ]
    }
   ],
   "source": [
    "from campaign_stats import add_damage, update_healing, update_damage_taken, update_times_killed, update_times_knocked_unconscious, increment_kills, add_enemy_damage, get_enemy_stats\n",
    "\n",
    "encounter = []\n",
    "order = []\n",
    "print('Encounter:')\n",
    "print('--------------------')\n",
    "for i in encounter:\n",
    "    print(i)\n",
    "print('--------------------')\n",
    "print('Initiative Order:')\n",
    "print('--------------------')\n",
    "for i in order:\n",
    "    print(i)\n",
    "print('--------------------')"
   ]
  },
  {
   "attachments": {},
   "cell_type": "markdown",
   "metadata": {},
   "source": [
    "##### <span style='font-family:palatino'> **Bandits on Bromklin Byway** ~ Episode 19\n",
    "* <span style='font-family:palatino'>**Fight MVP:"
   ]
  },
  {
   "cell_type": "code",
   "execution_count": 22,
   "metadata": {},
   "outputs": [
    {
     "name": "stdout",
     "output_type": "stream",
     "text": [
      "Encounter:\n",
      "--------------------\n",
      "--------------------\n",
      "Initiative Order:\n",
      "--------------------\n",
      "--------------------\n"
     ]
    }
   ],
   "source": [
    "from campaign_stats import add_damage, update_healing, update_damage_taken, update_times_killed, update_times_knocked_unconscious, add_enemy_damage, get_enemy_stats\n",
    "\n",
    "encounter = []\n",
    "order = []\n",
    "print('Encounter:')\n",
    "print('--------------------')\n",
    "for i in encounter:\n",
    "    print(i)\n",
    "print('--------------------')\n",
    "print('Initiative Order:')\n",
    "print('--------------------')\n",
    "for i in order:\n",
    "    print(i)\n",
    "print('--------------------')"
   ]
  },
  {
   "attachments": {},
   "cell_type": "markdown",
   "metadata": {},
   "source": [
    "##### <span style='font-family:palatino'> **Gators in Labenda Swamp** ~ Episode 20\n",
    "* <span style='font-family:palatino'>**Fight MVP:"
   ]
  },
  {
   "cell_type": "code",
   "execution_count": 23,
   "metadata": {},
   "outputs": [
    {
     "name": "stdout",
     "output_type": "stream",
     "text": [
      "Encounter:\n",
      "--------------------\n",
      "--------------------\n",
      "Initiative Order:\n",
      "--------------------\n",
      "--------------------\n"
     ]
    }
   ],
   "source": [
    "from campaign_stats import add_damage, update_healing, update_damage_taken, update_times_killed, update_times_knocked_unconscious, add_enemy_damage, get_enemy_stats\n",
    "\n",
    "encounter = []\n",
    "order = []\n",
    "print('Encounter:')\n",
    "print('--------------------')\n",
    "for i in encounter:\n",
    "    print(i)\n",
    "print('--------------------')\n",
    "print('Initiative Order:')\n",
    "print('--------------------')\n",
    "for i in order:\n",
    "    print(i)\n",
    "print('--------------------')"
   ]
  },
  {
   "attachments": {},
   "cell_type": "markdown",
   "metadata": {},
   "source": [
    "##### <span style='font-family:palatino'> **Venom Troll, the Encounter** ~ Episode 21\n",
    "* <span style='font-family:palatino'>**Fight MVP:"
   ]
  },
  {
   "cell_type": "code",
   "execution_count": 24,
   "metadata": {},
   "outputs": [
    {
     "name": "stdout",
     "output_type": "stream",
     "text": [
      "Encounter:\n",
      "--------------------\n",
      "--------------------\n",
      "Initiative Order:\n",
      "--------------------\n",
      "--------------------\n"
     ]
    }
   ],
   "source": [
    "from campaign_stats import add_damage, update_healing, update_damage_taken, update_times_killed, update_times_knocked_unconscious, add_enemy_damage, get_enemy_stats\n",
    "\n",
    "encounter = []\n",
    "order = []\n",
    "print('Encounter:')\n",
    "print('--------------------')\n",
    "for i in encounter:\n",
    "    print(i)\n",
    "print('--------------------')\n",
    "print('Initiative Order:')\n",
    "print('--------------------')\n",
    "for i in order:\n",
    "    print(i)\n",
    "print('--------------------')"
   ]
  },
  {
   "attachments": {},
   "cell_type": "markdown",
   "metadata": {},
   "source": [
    "##### <span style='font-family:palatino'> **Merrow Guards in Labenda Swamp** ~ Episode 21\n",
    "* <span style='font-family:palatino'>**Fight MVP:"
   ]
  },
  {
   "cell_type": "code",
   "execution_count": 25,
   "metadata": {},
   "outputs": [
    {
     "name": "stdout",
     "output_type": "stream",
     "text": [
      "Encounter:\n",
      "--------------------\n",
      "--------------------\n",
      "Initiative Order:\n",
      "--------------------\n",
      "--------------------\n"
     ]
    }
   ],
   "source": [
    "from campaign_stats import add_damage, update_healing, update_damage_taken, update_times_killed, update_times_knocked_unconscious, add_enemy_damage, get_enemy_stats\n",
    "\n",
    "encounter = []\n",
    "order = []\n",
    "print('Encounter:')\n",
    "print('--------------------')\n",
    "for i in encounter:\n",
    "    print(i)\n",
    "print('--------------------')\n",
    "print('Initiative Order:')\n",
    "print('--------------------')\n",
    "for i in order:\n",
    "    print(i)\n",
    "print('--------------------')"
   ]
  },
  {
   "attachments": {},
   "cell_type": "markdown",
   "metadata": {},
   "source": [
    "##### <span style='font-family:palatino'> **Merrow Shallow Priest** ~ Episode 22\n",
    "* <span style='font-family:palatino'>**Fight MVP:"
   ]
  },
  {
   "cell_type": "code",
   "execution_count": 26,
   "metadata": {},
   "outputs": [
    {
     "name": "stdout",
     "output_type": "stream",
     "text": [
      "Encounter:\n",
      "--------------------\n",
      "--------------------\n",
      "Initiative Order:\n",
      "--------------------\n",
      "--------------------\n"
     ]
    }
   ],
   "source": [
    "from campaign_stats import add_damage, update_healing, update_damage_taken, update_times_killed, update_times_knocked_unconscious, add_enemy_damage, get_enemy_stats\n",
    "\n",
    "encounter = []\n",
    "order = []\n",
    "print('Encounter:')\n",
    "print('--------------------')\n",
    "for i in encounter:\n",
    "    print(i)\n",
    "print('--------------------')\n",
    "print('Initiative Order:')\n",
    "print('--------------------')\n",
    "for i in order:\n",
    "    print(i)\n",
    "print('--------------------')"
   ]
  },
  {
   "attachments": {},
   "cell_type": "markdown",
   "metadata": {},
   "source": [
    "##### <span style='font-family:palatino'> **Venom Troll, the Hunt** ~ Episode 22\n",
    "* <span style='font-family:palatino'>**Fight MVP:"
   ]
  },
  {
   "cell_type": "code",
   "execution_count": 27,
   "metadata": {},
   "outputs": [
    {
     "name": "stdout",
     "output_type": "stream",
     "text": [
      "Encounter:\n",
      "--------------------\n",
      "--------------------\n",
      "Initiative Order:\n",
      "--------------------\n",
      "--------------------\n"
     ]
    }
   ],
   "source": [
    "from campaign_stats import add_damage, update_healing, update_damage_taken, update_times_killed, update_times_knocked_unconscious, add_enemy_damage, get_enemy_stats\n",
    "\n",
    "encounter = []\n",
    "order = []\n",
    "print('Encounter:')\n",
    "print('--------------------')\n",
    "for i in encounter:\n",
    "    print(i)\n",
    "print('--------------------')\n",
    "print('Initiative Order:')\n",
    "print('--------------------')\n",
    "for i in order:\n",
    "    print(i)\n",
    "print('--------------------')"
   ]
  },
  {
   "attachments": {},
   "cell_type": "markdown",
   "metadata": {},
   "source": [
    "##### <span style='font-family:palatino'> **Bandits on GravelwayPath** ~ Episode 23 \n",
    "* <span style='font-family:palatino'>**Fight MVP:"
   ]
  },
  {
   "cell_type": "code",
   "execution_count": 28,
   "metadata": {},
   "outputs": [
    {
     "name": "stdout",
     "output_type": "stream",
     "text": [
      "Encounter:\n",
      "--------------------\n",
      "--------------------\n",
      "Initiative Order:\n",
      "--------------------\n",
      "--------------------\n"
     ]
    }
   ],
   "source": [
    "from campaign_stats import add_damage, update_healing, update_damage_taken, update_times_killed, update_times_knocked_unconscious, add_enemy_damage, get_enemy_stats\n",
    "\n",
    "encounter = []\n",
    "order = []\n",
    "print('Encounter:')\n",
    "print('--------------------')\n",
    "for i in encounter:\n",
    "    print(i)\n",
    "print('--------------------')\n",
    "print('Initiative Order:')\n",
    "print('--------------------')\n",
    "for i in order:\n",
    "    print(i)\n",
    "print('--------------------')"
   ]
  },
  {
   "attachments": {},
   "cell_type": "markdown",
   "metadata": {},
   "source": [
    "##### <span style='font-family:palatino'> **The Gearkeeper** ~ Episode 25\n",
    "* <span style='font-family:palatino'>**Fight MVP:"
   ]
  },
  {
   "cell_type": "code",
   "execution_count": 29,
   "metadata": {},
   "outputs": [
    {
     "name": "stdout",
     "output_type": "stream",
     "text": [
      "Encounter:\n",
      "--------------------\n",
      "--------------------\n",
      "Initiative Order:\n",
      "--------------------\n",
      "--------------------\n"
     ]
    }
   ],
   "source": [
    "from campaign_stats import add_damage, update_healing, update_damage_taken, update_times_killed, update_times_knocked_unconscious, add_enemy_damage, get_enemy_stats\n",
    "\n",
    "encounter = []\n",
    "order = []\n",
    "print('Encounter:')\n",
    "print('--------------------')\n",
    "for i in encounter:\n",
    "    print(i)\n",
    "print('--------------------')\n",
    "print('Initiative Order:')\n",
    "print('--------------------')\n",
    "for i in order:\n",
    "    print(i)\n",
    "print('--------------------')"
   ]
  },
  {
   "attachments": {},
   "cell_type": "markdown",
   "metadata": {},
   "source": [
    "##### <span style='font-family:palatino'> **Arc One Non-Fighting Damages**"
   ]
  },
  {
   "cell_type": "code",
   "execution_count": 30,
   "metadata": {},
   "outputs": [],
   "source": [
    "from campaign_stats import add_damage, update_healing, update_damage_taken, update_times_killed, update_times_knocked_unconscious, add_enemy_damage, get_enemy_stats\n",
    "\n",
    "update_damage_taken('Jester', 12)\n",
    "    # Fall during the heist exit\n",
    "update_healing('Jester', 8)\n",
    "    # Cure Wounds on herself\n",
    "update_damage_taken('Caleb', 21)\n",
    "update_times_knocked_unconscious('Caleb')\n",
    "update_damage_taken('Beau', 3)\n",
    "\n",
    "# River Dungeon\n",
    "update_damage_taken('Veth', 5)\n",
    "update_damage_taken('Yasha', 18)\n",
    "update_damage_taken('Beau', 2)\n",
    "update_damage_taken('Veth', 8)\n",
    "update_healing('Jester', 7)\n",
    "    # Cure Wounds on Nott"
   ]
  },
  {
   "attachments": {},
   "cell_type": "markdown",
   "metadata": {},
   "source": [
    "***"
   ]
  },
  {
   "attachments": {},
   "cell_type": "markdown",
   "metadata": {},
   "source": [
    "### <span style='font-family:palatino'><span style='color:#89aee2'> **Total Stats after Arc One: Come Together**\n",
    "\n",
    "#### <span style='font-family:palatino'><span style='color:#89aee2'> **Total Enemies:** 8\n",
    "#### <span style='font-family:palatino'><span style='color:#89aee2'> **Total Bosses:** 1\n"
   ]
  },
  {
   "cell_type": "code",
   "execution_count": 31,
   "metadata": {},
   "outputs": [],
   "source": [
    "from campaign_stats import get_combined_stats, get_total_enemy_damage\n",
    "\n",
    "# get_combined_stats()\n",
    "# get_total_enemy_damage()"
   ]
  },
  {
   "attachments": {},
   "cell_type": "markdown",
   "metadata": {},
   "source": []
  },
  {
   "attachments": {},
   "cell_type": "markdown",
   "metadata": {},
   "source": [
    "***"
   ]
  },
  {
   "attachments": {},
   "cell_type": "markdown",
   "metadata": {},
   "source": [
    "## <span style='font-family:palatino'><span style='color:#3A4079'>**Arc Two: The Bad Guys**\n",
    "\n",
    "#### <span style='font-family:palatino'>**Episodes 26 - 47**\n",
    "\n",
    "<span style='font-family:palatino'>The Mighty Nein embark on a mission to rescue their missing companions, facing both sacrifice and unexpected rewards along the way. Their quest leads them to Nicodranas, Jester's hometown, in search of clues about Fjord's enigmatic patron. However, their peaceful break is brief, as their journey takes them to the treacherous seas, where they encounter both answers and peril from the skies and depths below.\n",
    "\n",
    "***"
   ]
  },
  {
   "attachments": {},
   "cell_type": "markdown",
   "metadata": {},
   "source": [
    "##### <span style='font-family:palatino'> **The Ankhegs** ~ Episode 26\n",
    "* <span style='font-family:palatino'>**Fight MVP:"
   ]
  },
  {
   "cell_type": "code",
   "execution_count": 32,
   "metadata": {},
   "outputs": [
    {
     "name": "stdout",
     "output_type": "stream",
     "text": [
      "Encounter:\n",
      "--------------------\n",
      "--------------------\n",
      "Initiative Order:\n",
      "--------------------\n",
      "--------------------\n"
     ]
    }
   ],
   "source": [
    "from campaign_stats import add_damage, update_healing, update_damage_taken, update_times_killed, update_times_knocked_unconscious, add_enemy_damage, get_enemy_stats\n",
    "\n",
    "encounter = []\n",
    "order = []\n",
    "print('Encounter:')\n",
    "print('--------------------')\n",
    "for i in encounter:\n",
    "    print(i)\n",
    "print('--------------------')\n",
    "print('Initiative Order:')\n",
    "print('--------------------')\n",
    "for i in order:\n",
    "    print(i)\n",
    "print('--------------------')"
   ]
  },
  {
   "attachments": {},
   "cell_type": "markdown",
   "metadata": {},
   "source": [
    "##### <span style='font-family:palatino'> **Lorenzo and the Iron Shepherds on Glory Run Road** ~ Episode 26\n",
    "* <span style='font-family:palatino'>**Fight MVP:"
   ]
  },
  {
   "cell_type": "code",
   "execution_count": 33,
   "metadata": {},
   "outputs": [
    {
     "name": "stdout",
     "output_type": "stream",
     "text": [
      "Encounter:\n",
      "--------------------\n",
      "--------------------\n",
      "Initiative Order:\n",
      "--------------------\n",
      "--------------------\n"
     ]
    }
   ],
   "source": [
    "from campaign_stats import add_damage, update_healing, update_damage_taken, update_times_killed, update_times_knocked_unconscious, add_enemy_damage, get_enemy_stats\n",
    "\n",
    "encounter = []\n",
    "order = []\n",
    "print('Encounter:')\n",
    "print('--------------------')\n",
    "for i in encounter:\n",
    "    print(i)\n",
    "print('--------------------')\n",
    "print('Initiative Order:')\n",
    "print('--------------------')\n",
    "for i in order:\n",
    "    print(i)\n",
    "print('--------------------')"
   ]
  },
  {
   "attachments": {},
   "cell_type": "markdown",
   "metadata": {},
   "source": [
    "##### <span style='font-family:palatino'> **The Sour Nest Inflitration** ~ Episode 28\n",
    "* <span style='font-family:palatino'>**Fight MVP:"
   ]
  },
  {
   "cell_type": "code",
   "execution_count": 34,
   "metadata": {},
   "outputs": [
    {
     "name": "stdout",
     "output_type": "stream",
     "text": [
      "Encounter:\n",
      "--------------------\n",
      "--------------------\n",
      "Initiative Order:\n",
      "--------------------\n",
      "--------------------\n"
     ]
    }
   ],
   "source": [
    "from campaign_stats import add_damage, update_healing, update_damage_taken, update_times_killed, update_times_knocked_unconscious, add_enemy_damage, get_enemy_stats\n",
    "\n",
    "encounter = []\n",
    "order = []\n",
    "print('Encounter:')\n",
    "print('--------------------')\n",
    "for i in encounter:\n",
    "    print(i)\n",
    "print('--------------------')\n",
    "print('Initiative Order:')\n",
    "print('--------------------')\n",
    "for i in order:\n",
    "    print(i)\n",
    "print('--------------------')"
   ]
  },
  {
   "attachments": {},
   "cell_type": "markdown",
   "metadata": {},
   "source": [
    "##### <span style='font-family:palatino'> **The Sour Nest Infiltration Cont.** ~ Episode 29\n",
    "* <span style='font-family:palatino'>**Fight MVP:"
   ]
  },
  {
   "cell_type": "code",
   "execution_count": 35,
   "metadata": {},
   "outputs": [
    {
     "name": "stdout",
     "output_type": "stream",
     "text": [
      "Encounter:\n",
      "--------------------\n",
      "--------------------\n",
      "Initiative Order:\n",
      "--------------------\n",
      "--------------------\n"
     ]
    }
   ],
   "source": [
    "from campaign_stats import add_damage, update_healing, update_damage_taken, update_times_killed, update_times_knocked_unconscious, add_enemy_damage, get_enemy_stats\n",
    "\n",
    "encounter = []\n",
    "order = []\n",
    "print('Encounter:')\n",
    "print('--------------------')\n",
    "for i in encounter:\n",
    "    print(i)\n",
    "print('--------------------')\n",
    "print('Initiative Order:')\n",
    "print('--------------------')\n",
    "for i in order:\n",
    "    print(i)\n",
    "print('--------------------')"
   ]
  },
  {
   "attachments": {},
   "cell_type": "markdown",
   "metadata": {},
   "source": [
    "##### <span style='font-family:palatino'> **Lorenzo and the Iron Shepherds in the Sour Nest** ~ Episode 29\n",
    "* <span style='font-family:palatino'>**Fight MVP:"
   ]
  },
  {
   "cell_type": "code",
   "execution_count": 36,
   "metadata": {},
   "outputs": [
    {
     "name": "stdout",
     "output_type": "stream",
     "text": [
      "Encounter:\n",
      "--------------------\n",
      "--------------------\n",
      "Initiative Order:\n",
      "--------------------\n",
      "--------------------\n"
     ]
    }
   ],
   "source": [
    "from campaign_stats import add_damage, update_healing, update_damage_taken, update_times_killed, update_times_knocked_unconscious, add_enemy_damage, get_enemy_stats\n",
    "\n",
    "encounter = []\n",
    "order = []\n",
    "print('Encounter:')\n",
    "print('--------------------')\n",
    "for i in encounter:\n",
    "    print(i)\n",
    "print('--------------------')\n",
    "print('Initiative Order:')\n",
    "print('--------------------')\n",
    "for i in order:\n",
    "    print(i)\n",
    "print('--------------------')"
   ]
  },
  {
   "attachments": {},
   "cell_type": "markdown",
   "metadata": {},
   "source": [
    "##### <span style='font-family:palatino'> **Ettins in Wuyun Gorge** ~ Episode 32\n",
    "* <span style='font-family:palatino'>**Fight MVP:"
   ]
  },
  {
   "cell_type": "code",
   "execution_count": 37,
   "metadata": {},
   "outputs": [
    {
     "name": "stdout",
     "output_type": "stream",
     "text": [
      "Encounter:\n",
      "--------------------\n",
      "--------------------\n",
      "Initiative Order:\n",
      "--------------------\n",
      "--------------------\n"
     ]
    }
   ],
   "source": [
    "from campaign_stats import add_damage, update_healing, update_damage_taken, update_times_killed, update_times_knocked_unconscious, add_enemy_damage, get_enemy_stats\n",
    "\n",
    "encounter = []\n",
    "order = []\n",
    "print('Encounter:')\n",
    "print('--------------------')\n",
    "for i in encounter:\n",
    "    print(i)\n",
    "print('--------------------')\n",
    "print('Initiative Order:')\n",
    "print('--------------------')\n",
    "for i in order:\n",
    "    print(i)\n",
    "print('--------------------')"
   ]
  },
  {
   "attachments": {},
   "cell_type": "markdown",
   "metadata": {},
   "source": [
    "##### <span style='font-family:palatino'> **Zsundie the Marid, Algar, and the Water Elementals** ~ Episode 34\n",
    "* <span style='font-family:palatino'>**Fight MVP:"
   ]
  },
  {
   "cell_type": "code",
   "execution_count": 38,
   "metadata": {},
   "outputs": [
    {
     "name": "stdout",
     "output_type": "stream",
     "text": [
      "Encounter:\n",
      "--------------------\n",
      "--------------------\n",
      "Initiative Order:\n",
      "--------------------\n",
      "--------------------\n"
     ]
    }
   ],
   "source": [
    "from campaign_stats import add_damage, update_healing, update_damage_taken, update_times_killed, update_times_knocked_unconscious, add_enemy_damage, get_enemy_stats\n",
    "\n",
    "encounter = []\n",
    "order = []\n",
    "print('Encounter:')\n",
    "print('--------------------')\n",
    "for i in encounter:\n",
    "    print(i)\n",
    "print('--------------------')\n",
    "print('Initiative Order:')\n",
    "print('--------------------')\n",
    "for i in order:\n",
    "    print(i)\n",
    "print('--------------------')"
   ]
  },
  {
   "attachments": {},
   "cell_type": "markdown",
   "metadata": {},
   "source": [
    "##### <span style='font-family:palatino'> **The Mist Captain and Crew** ~ Episode 35\n",
    "* <span style='font-family:palatino'>**Fight MVP:"
   ]
  },
  {
   "cell_type": "code",
   "execution_count": 39,
   "metadata": {},
   "outputs": [
    {
     "name": "stdout",
     "output_type": "stream",
     "text": [
      "Encounter:\n",
      "--------------------\n",
      "--------------------\n",
      "Initiative Order:\n",
      "--------------------\n",
      "--------------------\n"
     ]
    }
   ],
   "source": [
    "from campaign_stats import add_damage, update_healing, update_damage_taken, update_times_killed, update_times_knocked_unconscious, add_enemy_damage, get_enemy_stats\n",
    "\n",
    "encounter = []\n",
    "order = []\n",
    "print('Encounter:')\n",
    "print('--------------------')\n",
    "for i in encounter:\n",
    "    print(i)\n",
    "print('--------------------')\n",
    "print('Initiative Order:')\n",
    "print('--------------------')\n",
    "for i in order:\n",
    "    print(i)\n",
    "print('--------------------')"
   ]
  },
  {
   "attachments": {},
   "cell_type": "markdown",
   "metadata": {},
   "source": [
    "##### <span style='font-family:palatino'> **The Harpies of the Lucidian Ocean** ~ Episode 36\n",
    "* <span style='font-family:palatino'>**Fight MVP:"
   ]
  },
  {
   "cell_type": "code",
   "execution_count": 40,
   "metadata": {},
   "outputs": [
    {
     "name": "stdout",
     "output_type": "stream",
     "text": [
      "Encounter:\n",
      "--------------------\n",
      "--------------------\n",
      "Initiative Order:\n",
      "--------------------\n",
      "--------------------\n"
     ]
    }
   ],
   "source": [
    "from campaign_stats import add_damage, update_healing, update_damage_taken, update_times_killed, update_times_knocked_unconscious, add_enemy_damage, get_enemy_stats\n",
    "\n",
    "encounter = []\n",
    "order = []\n",
    "print('Encounter:')\n",
    "print('--------------------')\n",
    "for i in encounter:\n",
    "    print(i)\n",
    "print('--------------------')\n",
    "print('Initiative Order:')\n",
    "print('--------------------')\n",
    "for i in order:\n",
    "    print(i)\n",
    "print('--------------------')"
   ]
  },
  {
   "attachments": {},
   "cell_type": "markdown",
   "metadata": {},
   "source": [
    "##### <span style='font-family:palatino'> **Kamadan** ~ Episode 38\n",
    "* <span style='font-family:palatino'>**Fight MVP:"
   ]
  },
  {
   "cell_type": "code",
   "execution_count": 41,
   "metadata": {},
   "outputs": [
    {
     "name": "stdout",
     "output_type": "stream",
     "text": [
      "Encounter:\n",
      "--------------------\n",
      "--------------------\n",
      "Initiative Order:\n",
      "--------------------\n",
      "--------------------\n"
     ]
    }
   ],
   "source": [
    "from campaign_stats import add_damage, update_healing, update_damage_taken, update_times_killed, update_times_knocked_unconscious, add_enemy_damage, get_enemy_stats\n",
    "\n",
    "encounter = []\n",
    "order = []\n",
    "print('Encounter:')\n",
    "print('--------------------')\n",
    "for i in encounter:\n",
    "    print(i)\n",
    "print('--------------------')\n",
    "print('Initiative Order:')\n",
    "print('--------------------')\n",
    "for i in order:\n",
    "    print(i)\n",
    "print('--------------------')"
   ]
  },
  {
   "attachments": {},
   "cell_type": "markdown",
   "metadata": {},
   "source": [
    "##### <span style='font-family:palatino'> **Yuan-ti Cultists** ~ Episode 39\n",
    "* <span style='font-family:palatino'>**Fight MVP:"
   ]
  },
  {
   "cell_type": "code",
   "execution_count": 42,
   "metadata": {},
   "outputs": [
    {
     "name": "stdout",
     "output_type": "stream",
     "text": [
      "Encounter:\n",
      "--------------------\n",
      "--------------------\n",
      "Initiative Order:\n",
      "--------------------\n",
      "--------------------\n"
     ]
    }
   ],
   "source": [
    "from campaign_stats import add_damage, update_healing, update_damage_taken, update_times_killed, update_times_knocked_unconscious, add_enemy_damage, get_enemy_stats\n",
    "\n",
    "encounter = []\n",
    "order = []\n",
    "print('Encounter:')\n",
    "print('--------------------')\n",
    "for i in encounter:\n",
    "    print(i)\n",
    "print('--------------------')\n",
    "print('Initiative Order:')\n",
    "print('--------------------')\n",
    "for i in order:\n",
    "    print(i)\n",
    "print('--------------------')"
   ]
  },
  {
   "attachments": {},
   "cell_type": "markdown",
   "metadata": {},
   "source": [
    "##### <span style='font-family:palatino'> **Assassin Vines** ~ Episode 39\n",
    "* <span style='font-family:palatino'>**Fight MVP:"
   ]
  },
  {
   "cell_type": "code",
   "execution_count": 43,
   "metadata": {},
   "outputs": [
    {
     "name": "stdout",
     "output_type": "stream",
     "text": [
      "Encounter:\n",
      "--------------------\n",
      "--------------------\n",
      "Initiative Order:\n",
      "--------------------\n",
      "--------------------\n"
     ]
    }
   ],
   "source": [
    "from campaign_stats import add_damage, update_healing, update_damage_taken, update_times_killed, update_times_knocked_unconscious, add_enemy_damage, get_enemy_stats\n",
    "\n",
    "encounter = []\n",
    "order = []\n",
    "print('Encounter:')\n",
    "print('--------------------')\n",
    "for i in encounter:\n",
    "    print(i)\n",
    "print('--------------------')\n",
    "print('Initiative Order:')\n",
    "print('--------------------')\n",
    "for i in order:\n",
    "    print(i)\n",
    "print('--------------------')"
   ]
  },
  {
   "attachments": {},
   "cell_type": "markdown",
   "metadata": {},
   "source": [
    "##### <span style='font-family:palatino'> **Warden of the False Serpent** ~ Episode 39\n",
    "* <span style='font-family:palatino'>**Fight MVP:"
   ]
  },
  {
   "cell_type": "code",
   "execution_count": 44,
   "metadata": {},
   "outputs": [
    {
     "name": "stdout",
     "output_type": "stream",
     "text": [
      "Encounter:\n",
      "--------------------\n",
      "--------------------\n",
      "Initiative Order:\n",
      "--------------------\n",
      "--------------------\n"
     ]
    }
   ],
   "source": [
    "from campaign_stats import add_damage, update_healing, update_damage_taken, update_times_killed, update_times_knocked_unconscious, add_enemy_damage, get_enemy_stats\n",
    "\n",
    "encounter = []\n",
    "order = []\n",
    "print('Encounter:')\n",
    "print('--------------------')\n",
    "for i in encounter:\n",
    "    print(i)\n",
    "print('--------------------')\n",
    "print('Initiative Order:')\n",
    "print('--------------------')\n",
    "for i in order:\n",
    "    print(i)\n",
    "print('--------------------')"
   ]
  },
  {
   "attachments": {},
   "cell_type": "markdown",
   "metadata": {},
   "source": [
    "##### <span style='font-family:palatino'> **Escape from Urakayxl** ~ Episode 40\n",
    "* <span style='font-family:palatino'>**Fight MVP:"
   ]
  },
  {
   "cell_type": "code",
   "execution_count": 45,
   "metadata": {},
   "outputs": [
    {
     "name": "stdout",
     "output_type": "stream",
     "text": [
      "Encounter:\n",
      "--------------------\n",
      "--------------------\n",
      "Initiative Order:\n",
      "--------------------\n",
      "--------------------\n"
     ]
    }
   ],
   "source": [
    "from campaign_stats import add_damage, update_healing, update_damage_taken, update_times_killed, update_times_knocked_unconscious, add_enemy_damage, get_enemy_stats\n",
    "\n",
    "encounter = []\n",
    "order = []\n",
    "print('Encounter:')\n",
    "print('--------------------')\n",
    "for i in encounter:\n",
    "    print(i)\n",
    "print('--------------------')\n",
    "print('Initiative Order:')\n",
    "print('--------------------')\n",
    "for i in order:\n",
    "    print(i)\n",
    "print('--------------------')"
   ]
  },
  {
   "attachments": {},
   "cell_type": "markdown",
   "metadata": {},
   "source": [
    "##### <span style='font-family:palatino'> **Avantika and the Squalleater Crew** ~ Episode 43\n",
    "* <span style='font-family:palatino'>**Fight MVP:"
   ]
  },
  {
   "cell_type": "code",
   "execution_count": 46,
   "metadata": {},
   "outputs": [
    {
     "name": "stdout",
     "output_type": "stream",
     "text": [
      "Encounter:\n",
      "--------------------\n",
      "--------------------\n",
      "Initiative Order:\n",
      "--------------------\n",
      "--------------------\n"
     ]
    }
   ],
   "source": [
    "from campaign_stats import add_damage, update_healing, update_damage_taken, update_times_killed, update_times_knocked_unconscious, add_enemy_damage, get_enemy_stats\n",
    "\n",
    "encounter = []\n",
    "order = []\n",
    "print('Encounter:')\n",
    "print('--------------------')\n",
    "for i in encounter:\n",
    "    print(i)\n",
    "print('--------------------')\n",
    "print('Initiative Order:')\n",
    "print('--------------------')\n",
    "for i in order:\n",
    "    print(i)\n",
    "print('--------------------')"
   ]
  },
  {
   "attachments": {},
   "cell_type": "markdown",
   "metadata": {},
   "source": [
    "##### <span style='font-family:palatino'> **Merrow at the Tide's Breath Wreckage** ~ Episode 44\n",
    "* <span style='font-family:palatino'>**Fight MVP:"
   ]
  },
  {
   "cell_type": "code",
   "execution_count": 47,
   "metadata": {},
   "outputs": [
    {
     "name": "stdout",
     "output_type": "stream",
     "text": [
      "Encounter:\n",
      "--------------------\n",
      "--------------------\n",
      "Initiative Order:\n",
      "--------------------\n",
      "--------------------\n"
     ]
    }
   ],
   "source": [
    "from campaign_stats import add_damage, update_healing, update_damage_taken, update_times_killed, update_times_knocked_unconscious, add_enemy_damage, get_enemy_stats\n",
    "\n",
    "encounter = []\n",
    "order = []\n",
    "print('Encounter:')\n",
    "print('--------------------')\n",
    "for i in encounter:\n",
    "    print(i)\n",
    "print('--------------------')\n",
    "print('Initiative Order:')\n",
    "print('--------------------')\n",
    "for i in order:\n",
    "    print(i)\n",
    "print('--------------------')"
   ]
  },
  {
   "attachments": {},
   "cell_type": "markdown",
   "metadata": {},
   "source": [
    "##### <span style='font-family:palatino'> **Dashilla the Sea Fury** ~ Episode 44 \n",
    "* <span style='font-family:palatino'>**Fight MVP:"
   ]
  },
  {
   "cell_type": "code",
   "execution_count": 48,
   "metadata": {},
   "outputs": [
    {
     "name": "stdout",
     "output_type": "stream",
     "text": [
      "Encounter:\n",
      "--------------------\n",
      "--------------------\n",
      "Initiative Order:\n",
      "--------------------\n",
      "--------------------\n"
     ]
    }
   ],
   "source": [
    "from campaign_stats import add_damage, update_healing, update_damage_taken, update_times_killed, update_times_knocked_unconscious, add_enemy_damage, get_enemy_stats\n",
    "\n",
    "encounter = []\n",
    "order = []\n",
    "print('Encounter:')\n",
    "print('--------------------')\n",
    "for i in encounter:\n",
    "    print(i)\n",
    "print('--------------------')\n",
    "print('Initiative Order:')\n",
    "print('--------------------')\n",
    "for i in order:\n",
    "    print(i)\n",
    "print('--------------------')"
   ]
  },
  {
   "attachments": {},
   "cell_type": "markdown",
   "metadata": {},
   "source": [
    "##### <span style='font-family:palatino'> **Cabinet Mimic** ~ Episode 45\n",
    "* <span style='font-family:palatino'>**Fight MVP:"
   ]
  },
  {
   "cell_type": "code",
   "execution_count": 49,
   "metadata": {},
   "outputs": [
    {
     "name": "stdout",
     "output_type": "stream",
     "text": [
      "Encounter:\n",
      "--------------------\n",
      "--------------------\n",
      "Initiative Order:\n",
      "--------------------\n",
      "--------------------\n"
     ]
    }
   ],
   "source": [
    "from campaign_stats import add_damage, update_healing, update_damage_taken, update_times_killed, update_times_knocked_unconscious, add_enemy_damage, get_enemy_stats\n",
    "\n",
    "encounter = []\n",
    "order = []\n",
    "print('Encounter:')\n",
    "print('--------------------')\n",
    "for i in encounter:\n",
    "    print(i)\n",
    "print('--------------------')\n",
    "print('Initiative Order:')\n",
    "print('--------------------')\n",
    "for i in order:\n",
    "    print(i)\n",
    "print('--------------------')"
   ]
  },
  {
   "attachments": {},
   "cell_type": "markdown",
   "metadata": {},
   "source": [
    "##### <span style='font-family:palatino'> **Blue Dragon** ~ Episode 45\n",
    "* <span style='font-family:palatino'>**Fight MVP:"
   ]
  },
  {
   "cell_type": "code",
   "execution_count": 50,
   "metadata": {},
   "outputs": [
    {
     "name": "stdout",
     "output_type": "stream",
     "text": [
      "Encounter:\n",
      "--------------------\n",
      "--------------------\n",
      "Initiative Order:\n",
      "--------------------\n",
      "--------------------\n"
     ]
    }
   ],
   "source": [
    "from campaign_stats import add_damage, update_healing, update_damage_taken, update_times_killed, update_times_knocked_unconscious, add_enemy_damage, get_enemy_stats\n",
    "\n",
    "encounter = []\n",
    "order = []\n",
    "print('Encounter:')\n",
    "print('--------------------')\n",
    "for i in encounter:\n",
    "    print(i)\n",
    "print('--------------------')\n",
    "print('Initiative Order:')\n",
    "print('--------------------')\n",
    "for i in order:\n",
    "    print(i)\n",
    "print('--------------------')"
   ]
  },
  {
   "attachments": {},
   "cell_type": "markdown",
   "metadata": {},
   "source": [
    "##### <span style='font-family:palatino'> **Chuul the Deep Scion** ~ Episode 47\n",
    "* <span style='font-family:palatino'>**Fight MVP:"
   ]
  },
  {
   "cell_type": "code",
   "execution_count": 51,
   "metadata": {},
   "outputs": [
    {
     "name": "stdout",
     "output_type": "stream",
     "text": [
      "Encounter:\n",
      "--------------------\n",
      "--------------------\n",
      "Initiative Order:\n",
      "--------------------\n",
      "--------------------\n"
     ]
    }
   ],
   "source": [
    "from campaign_stats import add_damage, update_healing, update_damage_taken, update_times_killed, update_times_knocked_unconscious, add_enemy_damage, get_enemy_stats\n",
    "\n",
    "encounter = []\n",
    "order = []\n",
    "print('Encounter:')\n",
    "print('--------------------')\n",
    "for i in encounter:\n",
    "    print(i)\n",
    "print('--------------------')\n",
    "print('Initiative Order:')\n",
    "print('--------------------')\n",
    "for i in order:\n",
    "    print(i)\n",
    "print('--------------------')"
   ]
  },
  {
   "attachments": {},
   "cell_type": "markdown",
   "metadata": {},
   "source": [
    "##### <span style='font-family:palatino'> **Arc Two Non-Fighting Damages**"
   ]
  },
  {
   "cell_type": "code",
   "execution_count": 52,
   "metadata": {},
   "outputs": [],
   "source": [
    "from campaign_stats import add_damage, update_healing, update_damage_taken, update_times_killed, update_times_knocked_unconscious, add_enemy_damage, get_enemy_stats"
   ]
  },
  {
   "attachments": {},
   "cell_type": "markdown",
   "metadata": {},
   "source": [
    "***"
   ]
  },
  {
   "attachments": {},
   "cell_type": "markdown",
   "metadata": {},
   "source": [
    "### <span style='font-family:palatino'><span style='color:#89aee2'> **Total Stats after Arc Two: The Bad Guys**\n",
    "\n",
    "#### <span style='font-family:palatino'><span style='color:#89aee2'> **Total Enemies:**\n",
    "#### <span style='font-family:palatino'><span style='color:#89aee2'> **Total Bosses:**"
   ]
  },
  {
   "cell_type": "code",
   "execution_count": 53,
   "metadata": {},
   "outputs": [],
   "source": [
    "from campaign_stats import get_combined_stats, get_total_enemy_damage\n",
    "\n",
    "# get_combined_stats()\n",
    "# get_total_enemy_damage()"
   ]
  },
  {
   "attachments": {},
   "cell_type": "markdown",
   "metadata": {},
   "source": [
    "***"
   ]
  },
  {
   "attachments": {},
   "cell_type": "markdown",
   "metadata": {},
   "source": [
    "## <span style='font-family:palatino'><span style='color:#3A4079'>**Arc Three: The Bright Queen's Favor**\n",
    "\n",
    "#### <span style='font-family:palatino'>**Episodes 48 - 69**\n",
    "\n",
    "<span style='font-family:palatino'>After coming back to the mainland, the Mighty Nein embark on a journey through Xhorhas to locate Yeza, who has gone missing. Their search leads them to a significant discovery—an Abyssal anchor—which earns them the favor of the powerful Bright Queen Leylas Kryn. Establishing a new home base in the capital city of Rosohna, they persist in their quest for answers. However, during their pursuit, they tragically lose one of their own to Obann, a servant of the Chained Oblivion.\n",
    "\n",
    "***"
   ]
  },
  {
   "attachments": {},
   "cell_type": "markdown",
   "metadata": {},
   "source": [
    "##### <span style='font-family:palatino'> **Fire Giants and Dreadnought** ~ Episode 50\n",
    "* <span style='font-family:palatino'>**Fight MVP:"
   ]
  },
  {
   "cell_type": "code",
   "execution_count": 54,
   "metadata": {},
   "outputs": [
    {
     "name": "stdout",
     "output_type": "stream",
     "text": [
      "Encounter:\n",
      "--------------------\n",
      "--------------------\n",
      "Initiative Order:\n",
      "--------------------\n",
      "--------------------\n"
     ]
    }
   ],
   "source": [
    "from campaign_stats import add_damage, update_healing, update_damage_taken, update_times_killed, update_times_knocked_unconscious, add_enemy_damage, get_enemy_stats\n",
    "\n",
    "encounter = []\n",
    "order = []\n",
    "print('Encounter:')\n",
    "print('--------------------')\n",
    "for i in encounter:\n",
    "    print(i)\n",
    "print('--------------------')\n",
    "print('Initiative Order:')\n",
    "print('--------------------')\n",
    "for i in order:\n",
    "    print(i)\n",
    "print('--------------------')"
   ]
  },
  {
   "attachments": {},
   "cell_type": "markdown",
   "metadata": {},
   "source": [
    "##### <span style='font-family:palatino'> **Kobold Colony** ~ Episode 50\n",
    "* <span style='font-family:palatino'>**Fight MVP:"
   ]
  },
  {
   "cell_type": "code",
   "execution_count": 55,
   "metadata": {},
   "outputs": [
    {
     "name": "stdout",
     "output_type": "stream",
     "text": [
      "Encounter:\n",
      "--------------------\n",
      "--------------------\n",
      "Initiative Order:\n",
      "--------------------\n",
      "--------------------\n"
     ]
    }
   ],
   "source": [
    "from campaign_stats import add_damage, update_healing, update_damage_taken, update_times_killed, update_times_knocked_unconscious, add_enemy_damage, get_enemy_stats\n",
    "\n",
    "encounter = []\n",
    "order = []\n",
    "print('Encounter:')\n",
    "print('--------------------')\n",
    "for i in encounter:\n",
    "    print(i)\n",
    "print('--------------------')\n",
    "print('Initiative Order:')\n",
    "print('--------------------')\n",
    "for i in order:\n",
    "    print(i)\n",
    "print('--------------------')"
   ]
  },
  {
   "attachments": {},
   "cell_type": "markdown",
   "metadata": {},
   "source": [
    "##### <span style='font-family:palatino'> **Ropers** ~ Episode 50\n",
    "* <span style='font-family:palatino'>**Fight MVP:"
   ]
  },
  {
   "cell_type": "code",
   "execution_count": 56,
   "metadata": {},
   "outputs": [
    {
     "name": "stdout",
     "output_type": "stream",
     "text": [
      "Encounter:\n",
      "--------------------\n",
      "--------------------\n",
      "Initiative Order:\n",
      "--------------------\n",
      "--------------------\n"
     ]
    }
   ],
   "source": [
    "from campaign_stats import add_damage, update_healing, update_damage_taken, update_times_killed, update_times_knocked_unconscious, add_enemy_damage, get_enemy_stats\n",
    "\n",
    "encounter = []\n",
    "order = []\n",
    "print('Encounter:')\n",
    "print('--------------------')\n",
    "for i in encounter:\n",
    "    print(i)\n",
    "print('--------------------')\n",
    "print('Initiative Order:')\n",
    "print('--------------------')\n",
    "for i in order:\n",
    "    print(i)\n",
    "print('--------------------')"
   ]
  },
  {
   "attachments": {},
   "cell_type": "markdown",
   "metadata": {},
   "source": [
    "##### <span style='font-family:palatino'> **Kryn Mage and Kryn Warrior** ~ Episode 51\n",
    "* <span style='font-family:palatino'>**Fight MVP:"
   ]
  },
  {
   "cell_type": "code",
   "execution_count": 57,
   "metadata": {},
   "outputs": [
    {
     "name": "stdout",
     "output_type": "stream",
     "text": [
      "Encounter:\n",
      "--------------------\n",
      "--------------------\n",
      "Initiative Order:\n",
      "--------------------\n",
      "--------------------\n"
     ]
    }
   ],
   "source": [
    "from campaign_stats import add_damage, update_healing, update_damage_taken, update_times_killed, update_times_knocked_unconscious, add_enemy_damage, get_enemy_stats\n",
    "\n",
    "encounter = []\n",
    "order = []\n",
    "print('Encounter:')\n",
    "print('--------------------')\n",
    "for i in encounter:\n",
    "    print(i)\n",
    "print('--------------------')\n",
    "print('Initiative Order:')\n",
    "print('--------------------')\n",
    "for i in order:\n",
    "    print(i)\n",
    "print('--------------------')"
   ]
  },
  {
   "attachments": {},
   "cell_type": "markdown",
   "metadata": {},
   "source": [
    "##### <span style='font-family:palatino'> **Shoosuvas** ~ Episode 52\n",
    "* <span style='font-family:palatino'>**Fight MVP:"
   ]
  },
  {
   "cell_type": "code",
   "execution_count": 58,
   "metadata": {},
   "outputs": [
    {
     "name": "stdout",
     "output_type": "stream",
     "text": [
      "Encounter:\n",
      "--------------------\n",
      "--------------------\n",
      "Initiative Order:\n",
      "--------------------\n",
      "--------------------\n"
     ]
    }
   ],
   "source": [
    "from campaign_stats import add_damage, update_healing, update_damage_taken, update_times_killed, update_times_knocked_unconscious, add_enemy_damage, get_enemy_stats\n",
    "\n",
    "encounter = []\n",
    "order = []\n",
    "print('Encounter:')\n",
    "print('--------------------')\n",
    "for i in encounter:\n",
    "    print(i)\n",
    "print('--------------------')\n",
    "print('Initiative Order:')\n",
    "print('--------------------')\n",
    "for i in order:\n",
    "    print(i)\n",
    "print('--------------------')"
   ]
  },
  {
   "attachments": {},
   "cell_type": "markdown",
   "metadata": {},
   "source": [
    "##### <span style='font-family:palatino'> **Four Corners Brawl** ~ Episode 53\n",
    "* <span style='font-family:palatino'>**Fight MVP:"
   ]
  },
  {
   "cell_type": "code",
   "execution_count": 59,
   "metadata": {},
   "outputs": [
    {
     "name": "stdout",
     "output_type": "stream",
     "text": [
      "Encounter:\n",
      "--------------------\n",
      "--------------------\n",
      "Initiative Order:\n",
      "--------------------\n",
      "--------------------\n"
     ]
    }
   ],
   "source": [
    "from campaign_stats import add_damage, update_healing, update_damage_taken, update_times_killed, update_times_knocked_unconscious, add_enemy_damage, get_enemy_stats\n",
    "\n",
    "encounter = []\n",
    "order = []\n",
    "print('Encounter:')\n",
    "print('--------------------')\n",
    "for i in encounter:\n",
    "    print(i)\n",
    "print('--------------------')\n",
    "print('Initiative Order:')\n",
    "print('--------------------')\n",
    "for i in order:\n",
    "    print(i)\n",
    "print('--------------------')"
   ]
  },
  {
   "attachments": {},
   "cell_type": "markdown",
   "metadata": {},
   "source": [
    "##### <span style='font-family:palatino'> **Succubus and Incubus at Bugbear Hovel** ~ Episode 54\n",
    "* <span style='font-family:palatino'>**Fight MVP:"
   ]
  },
  {
   "cell_type": "code",
   "execution_count": 60,
   "metadata": {},
   "outputs": [
    {
     "name": "stdout",
     "output_type": "stream",
     "text": [
      "Encounter:\n",
      "--------------------\n",
      "--------------------\n",
      "Initiative Order:\n",
      "--------------------\n",
      "--------------------\n"
     ]
    }
   ],
   "source": [
    "from campaign_stats import add_damage, update_healing, update_damage_taken, update_times_killed, update_times_knocked_unconscious, add_enemy_damage, get_enemy_stats\n",
    "\n",
    "encounter = []\n",
    "order = []\n",
    "print('Encounter:')\n",
    "print('--------------------')\n",
    "for i in encounter:\n",
    "    print(i)\n",
    "print('--------------------')\n",
    "print('Initiative Order:')\n",
    "print('--------------------')\n",
    "for i in order:\n",
    "    print(i)\n",
    "print('--------------------')"
   ]
  },
  {
   "attachments": {},
   "cell_type": "markdown",
   "metadata": {},
   "source": [
    "##### <span style='font-family:palatino'> **Demonic Scourge of the Abyss** ~ Episode 55\n",
    "* <span style='font-family:palatino'>**Fight MVP:"
   ]
  },
  {
   "cell_type": "code",
   "execution_count": 61,
   "metadata": {},
   "outputs": [
    {
     "name": "stdout",
     "output_type": "stream",
     "text": [
      "Encounter:\n",
      "--------------------\n",
      "--------------------\n",
      "Initiative Order:\n",
      "--------------------\n",
      "--------------------\n"
     ]
    }
   ],
   "source": [
    "from campaign_stats import add_damage, update_healing, update_damage_taken, update_times_killed, update_times_knocked_unconscious, add_enemy_damage, get_enemy_stats\n",
    "\n",
    "encounter = []\n",
    "order = []\n",
    "print('Encounter:')\n",
    "print('--------------------')\n",
    "for i in encounter:\n",
    "    print(i)\n",
    "print('--------------------')\n",
    "print('Initiative Order:')\n",
    "print('--------------------')\n",
    "for i in order:\n",
    "    print(i)\n",
    "print('--------------------')"
   ]
  },
  {
   "attachments": {},
   "cell_type": "markdown",
   "metadata": {},
   "source": [
    "##### <span style='font-family:palatino'> **Stone Giants at the Icozrin Steelworks** ~ Episode 59\n",
    "* <span style='font-family:palatino'>**Fight MVP:"
   ]
  },
  {
   "cell_type": "code",
   "execution_count": 62,
   "metadata": {},
   "outputs": [
    {
     "name": "stdout",
     "output_type": "stream",
     "text": [
      "Encounter:\n",
      "--------------------\n",
      "--------------------\n",
      "Initiative Order:\n",
      "--------------------\n",
      "--------------------\n"
     ]
    }
   ],
   "source": [
    "from campaign_stats import add_damage, update_healing, update_damage_taken, update_times_killed, update_times_knocked_unconscious, add_enemy_damage, get_enemy_stats\n",
    "\n",
    "encounter = []\n",
    "order = []\n",
    "print('Encounter:')\n",
    "print('--------------------')\n",
    "for i in encounter:\n",
    "    print(i)\n",
    "print('--------------------')\n",
    "print('Initiative Order:')\n",
    "print('--------------------')\n",
    "for i in order:\n",
    "    print(i)\n",
    "print('--------------------')"
   ]
  },
  {
   "attachments": {},
   "cell_type": "markdown",
   "metadata": {},
   "source": [
    "##### <span style='font-family:palatino'> **Babaus and Chasme** ~ Episode 59\n",
    "* <span style='font-family:palatino'>**Fight MVP:"
   ]
  },
  {
   "cell_type": "code",
   "execution_count": 63,
   "metadata": {},
   "outputs": [
    {
     "name": "stdout",
     "output_type": "stream",
     "text": [
      "Encounter:\n",
      "--------------------\n",
      "--------------------\n",
      "Initiative Order:\n",
      "--------------------\n",
      "--------------------\n"
     ]
    }
   ],
   "source": [
    "from campaign_stats import add_damage, update_healing, update_damage_taken, update_times_killed, update_times_knocked_unconscious, add_enemy_damage, get_enemy_stats\n",
    "\n",
    "encounter = []\n",
    "order = []\n",
    "print('Encounter:')\n",
    "print('--------------------')\n",
    "for i in encounter:\n",
    "    print(i)\n",
    "print('--------------------')\n",
    "print('Initiative Order:')\n",
    "print('--------------------')\n",
    "for i in order:\n",
    "    print(i)\n",
    "print('--------------------')"
   ]
  },
  {
   "attachments": {},
   "cell_type": "markdown",
   "metadata": {},
   "source": [
    "##### <span style='font-family:palatino'> **Dybbuk, Chasme, and a Giant Snapping Turtle** ~ Episode 60\n",
    "* <span style='font-family:palatino'>**Fight MVP:"
   ]
  },
  {
   "cell_type": "code",
   "execution_count": 64,
   "metadata": {},
   "outputs": [
    {
     "name": "stdout",
     "output_type": "stream",
     "text": [
      "Encounter:\n",
      "--------------------\n",
      "--------------------\n",
      "Initiative Order:\n",
      "--------------------\n",
      "--------------------\n"
     ]
    }
   ],
   "source": [
    "from campaign_stats import add_damage, update_healing, update_damage_taken, update_times_killed, update_times_knocked_unconscious, add_enemy_damage, get_enemy_stats\n",
    "\n",
    "encounter = []\n",
    "order = []\n",
    "print('Encounter:')\n",
    "print('--------------------')\n",
    "for i in encounter:\n",
    "    print(i)\n",
    "print('--------------------')\n",
    "print('Initiative Order:')\n",
    "print('--------------------')\n",
    "for i in order:\n",
    "    print(i)\n",
    "print('--------------------')"
   ]
  },
  {
   "attachments": {},
   "cell_type": "markdown",
   "metadata": {},
   "source": [
    "##### <span style='font-family:palatino'> **Overcrow Apothecary** ~ Episode 63\n",
    "* <span style='font-family:palatino'>**Fight MVP:"
   ]
  },
  {
   "cell_type": "code",
   "execution_count": 65,
   "metadata": {},
   "outputs": [
    {
     "name": "stdout",
     "output_type": "stream",
     "text": [
      "Encounter:\n",
      "--------------------\n",
      "--------------------\n",
      "Initiative Order:\n",
      "--------------------\n",
      "--------------------\n"
     ]
    }
   ],
   "source": [
    "from campaign_stats import add_damage, update_healing, update_damage_taken, update_times_killed, update_times_knocked_unconscious, add_enemy_damage, get_enemy_stats\n",
    "\n",
    "encounter = []\n",
    "order = []\n",
    "print('Encounter:')\n",
    "print('--------------------')\n",
    "for i in encounter:\n",
    "    print(i)\n",
    "print('--------------------')\n",
    "print('Initiative Order:')\n",
    "print('--------------------')\n",
    "for i in order:\n",
    "    print(i)\n",
    "print('--------------------')"
   ]
  },
  {
   "attachments": {},
   "cell_type": "markdown",
   "metadata": {},
   "source": [
    "##### <span style='font-family:palatino'> **Sorrowsword The Lost** ~ Episode 64\n",
    "* <span style='font-family:palatino'>**Fight MVP:"
   ]
  },
  {
   "cell_type": "code",
   "execution_count": 66,
   "metadata": {},
   "outputs": [
    {
     "name": "stdout",
     "output_type": "stream",
     "text": [
      "Encounter:\n",
      "--------------------\n",
      "--------------------\n",
      "Initiative Order:\n",
      "--------------------\n",
      "--------------------\n"
     ]
    }
   ],
   "source": [
    "from campaign_stats import add_damage, update_healing, update_damage_taken, update_times_killed, update_times_knocked_unconscious, add_enemy_damage, get_enemy_stats\n",
    "\n",
    "encounter = []\n",
    "order = []\n",
    "print('Encounter:')\n",
    "print('--------------------')\n",
    "for i in encounter:\n",
    "    print(i)\n",
    "print('--------------------')\n",
    "print('Initiative Order:')\n",
    "print('--------------------')\n",
    "for i in order:\n",
    "    print(i)\n",
    "print('--------------------')"
   ]
  },
  {
   "attachments": {},
   "cell_type": "markdown",
   "metadata": {},
   "source": [
    "##### <span style='font-family:palatino'> **Gloomstalkers in the Barbed Fields** ~ Episode 65\n",
    "* <span style='font-family:palatino'>**Fight MVP:"
   ]
  },
  {
   "cell_type": "code",
   "execution_count": 67,
   "metadata": {},
   "outputs": [
    {
     "name": "stdout",
     "output_type": "stream",
     "text": [
      "Encounter:\n",
      "--------------------\n",
      "--------------------\n",
      "Initiative Order:\n",
      "--------------------\n",
      "--------------------\n"
     ]
    }
   ],
   "source": [
    "from campaign_stats import add_damage, update_healing, update_damage_taken, update_times_killed, update_times_knocked_unconscious, add_enemy_damage, get_enemy_stats\n",
    "\n",
    "encounter = []\n",
    "order = []\n",
    "print('Encounter:')\n",
    "print('--------------------')\n",
    "for i in encounter:\n",
    "    print(i)\n",
    "print('--------------------')\n",
    "print('Initiative Order:')\n",
    "print('--------------------')\n",
    "for i in order:\n",
    "    print(i)\n",
    "print('--------------------')"
   ]
  },
  {
   "attachments": {},
   "cell_type": "markdown",
   "metadata": {},
   "source": [
    "##### <span style='font-family:palatino'> **Giant Spider in the Bazzoxan Tombs** ~ Episode 67\n",
    "* <span style='font-family:palatino'>**Fight MVP:"
   ]
  },
  {
   "cell_type": "code",
   "execution_count": 68,
   "metadata": {},
   "outputs": [
    {
     "name": "stdout",
     "output_type": "stream",
     "text": [
      "Encounter:\n",
      "--------------------\n",
      "--------------------\n",
      "Initiative Order:\n",
      "--------------------\n",
      "--------------------\n"
     ]
    }
   ],
   "source": [
    "from campaign_stats import add_damage, update_healing, update_damage_taken, update_times_killed, update_times_knocked_unconscious, add_enemy_damage, get_enemy_stats\n",
    "\n",
    "encounter = []\n",
    "order = []\n",
    "print('Encounter:')\n",
    "print('--------------------')\n",
    "for i in encounter:\n",
    "    print(i)\n",
    "print('--------------------')\n",
    "print('Initiative Order:')\n",
    "print('--------------------')\n",
    "for i in order:\n",
    "    print(i)\n",
    "print('--------------------')"
   ]
  },
  {
   "attachments": {},
   "cell_type": "markdown",
   "metadata": {},
   "source": [
    "##### <span style='font-family:palatino'> **The Radiant Stair and the Invisible Stalker** ~ Episode 67\n",
    "* <span style='font-family:palatino'>**Fight MVP:"
   ]
  },
  {
   "cell_type": "code",
   "execution_count": 69,
   "metadata": {},
   "outputs": [
    {
     "name": "stdout",
     "output_type": "stream",
     "text": [
      "Encounter:\n",
      "--------------------\n",
      "--------------------\n",
      "Initiative Order:\n",
      "--------------------\n",
      "--------------------\n"
     ]
    }
   ],
   "source": [
    "from campaign_stats import add_damage, update_healing, update_damage_taken, update_times_killed, update_times_knocked_unconscious, add_enemy_damage, get_enemy_stats\n",
    "\n",
    "encounter = []\n",
    "order = []\n",
    "print('Encounter:')\n",
    "print('--------------------')\n",
    "for i in encounter:\n",
    "    print(i)\n",
    "print('--------------------')\n",
    "print('Initiative Order:')\n",
    "print('--------------------')\n",
    "for i in order:\n",
    "    print(i)\n",
    "print('--------------------')"
   ]
  },
  {
   "attachments": {},
   "cell_type": "markdown",
   "metadata": {},
   "source": [
    "##### <span style='font-family:palatino'> **Zombie Horde in the Discard Pits** ~ Episode 67\n",
    "* <span style='font-family:palatino'>**Fight MVP:"
   ]
  },
  {
   "cell_type": "code",
   "execution_count": 70,
   "metadata": {},
   "outputs": [
    {
     "name": "stdout",
     "output_type": "stream",
     "text": [
      "Encounter:\n",
      "--------------------\n",
      "--------------------\n",
      "Initiative Order:\n",
      "--------------------\n",
      "--------------------\n"
     ]
    }
   ],
   "source": [
    "from campaign_stats import add_damage, update_healing, update_damage_taken, update_times_killed, update_times_knocked_unconscious, add_enemy_damage, get_enemy_stats\n",
    "\n",
    "encounter = []\n",
    "order = []\n",
    "print('Encounter:')\n",
    "print('--------------------')\n",
    "for i in encounter:\n",
    "    print(i)\n",
    "print('--------------------')\n",
    "print('Initiative Order:')\n",
    "print('--------------------')\n",
    "for i in order:\n",
    "    print(i)\n",
    "print('--------------------')"
   ]
  },
  {
   "attachments": {},
   "cell_type": "markdown",
   "metadata": {},
   "source": [
    "##### <span style='font-family:palatino'> **Roper and the Gibbering Chasm** ~ Episode 68\n",
    "* <span style='font-family:palatino'>**Fight MVP:"
   ]
  },
  {
   "cell_type": "code",
   "execution_count": 71,
   "metadata": {},
   "outputs": [
    {
     "name": "stdout",
     "output_type": "stream",
     "text": [
      "Encounter:\n",
      "--------------------\n",
      "--------------------\n",
      "Initiative Order:\n",
      "--------------------\n",
      "--------------------\n"
     ]
    }
   ],
   "source": [
    "from campaign_stats import add_damage, update_healing, update_damage_taken, update_times_killed, update_times_knocked_unconscious, add_enemy_damage, get_enemy_stats\n",
    "\n",
    "encounter = []\n",
    "order = []\n",
    "print('Encounter:')\n",
    "print('--------------------')\n",
    "for i in encounter:\n",
    "    print(i)\n",
    "print('--------------------')\n",
    "print('Initiative Order:')\n",
    "print('--------------------')\n",
    "for i in order:\n",
    "    print(i)\n",
    "print('--------------------')"
   ]
  },
  {
   "attachments": {},
   "cell_type": "markdown",
   "metadata": {},
   "source": [
    "##### <span style='font-family:palatino'> **Doppelgangers** ~ Episode 68\n",
    "* <span style='font-family:palatino'>**Fight MVP:"
   ]
  },
  {
   "cell_type": "code",
   "execution_count": 72,
   "metadata": {},
   "outputs": [
    {
     "name": "stdout",
     "output_type": "stream",
     "text": [
      "Encounter:\n",
      "--------------------\n",
      "--------------------\n",
      "Initiative Order:\n",
      "--------------------\n",
      "--------------------\n"
     ]
    }
   ],
   "source": [
    "from campaign_stats import add_damage, update_healing, update_damage_taken, update_times_killed, update_times_knocked_unconscious, add_enemy_damage, get_enemy_stats\n",
    "\n",
    "encounter = []\n",
    "order = []\n",
    "print('Encounter:')\n",
    "print('--------------------')\n",
    "for i in encounter:\n",
    "    print(i)\n",
    "print('--------------------')\n",
    "print('Initiative Order:')\n",
    "print('--------------------')\n",
    "for i in order:\n",
    "    print(i)\n",
    "print('--------------------')"
   ]
  },
  {
   "attachments": {},
   "cell_type": "markdown",
   "metadata": {},
   "source": [
    "##### <span style='font-family:palatino'> **Obann, The Laughing Hand, and Shadowhounds** ~ Episode 69\n",
    "* <span style='font-family:palatino'>**Fight MVP:"
   ]
  },
  {
   "cell_type": "code",
   "execution_count": 73,
   "metadata": {},
   "outputs": [
    {
     "name": "stdout",
     "output_type": "stream",
     "text": [
      "Encounter:\n",
      "--------------------\n",
      "--------------------\n",
      "Initiative Order:\n",
      "--------------------\n",
      "--------------------\n"
     ]
    }
   ],
   "source": [
    "from campaign_stats import add_damage, update_healing, update_damage_taken, update_times_killed, update_times_knocked_unconscious, add_enemy_damage, get_enemy_stats\n",
    "\n",
    "encounter = []\n",
    "order = []\n",
    "print('Encounter:')\n",
    "print('--------------------')\n",
    "for i in encounter:\n",
    "    print(i)\n",
    "print('--------------------')\n",
    "print('Initiative Order:')\n",
    "print('--------------------')\n",
    "for i in order:\n",
    "    print(i)\n",
    "print('--------------------')"
   ]
  },
  {
   "attachments": {},
   "cell_type": "markdown",
   "metadata": {},
   "source": [
    "##### <span style='font-family:palatino'> **Arc Three Non-Fighting Damages**"
   ]
  },
  {
   "cell_type": "code",
   "execution_count": 74,
   "metadata": {},
   "outputs": [],
   "source": [
    "from campaign_stats import add_damage, update_healing, update_damage_taken, update_times_killed, update_times_knocked_unconscious, add_enemy_damage, get_enemy_stats"
   ]
  },
  {
   "attachments": {},
   "cell_type": "markdown",
   "metadata": {},
   "source": [
    "***"
   ]
  },
  {
   "attachments": {},
   "cell_type": "markdown",
   "metadata": {},
   "source": [
    "### <span style='font-family:palatino'><span style='color:#89aee2'> **Total Stats after Arc Three: The Bright Queen's Favor**\n",
    "\n",
    "#### <span style='font-family:palatino'><span style='color:#89aee2'> **Total Enemies:**\n",
    "#### <span style='font-family:palatino'><span style='color:#89aee2'> **Total Bosses:**"
   ]
  },
  {
   "cell_type": "code",
   "execution_count": 75,
   "metadata": {},
   "outputs": [],
   "source": [
    "from campaign_stats import get_combined_stats, get_total_enemy_damage\n",
    "\n",
    "# get_combined_stats()\n",
    "# get_total_enemy_damage()"
   ]
  },
  {
   "attachments": {},
   "cell_type": "markdown",
   "metadata": {},
   "source": [
    "***"
   ]
  },
  {
   "attachments": {},
   "cell_type": "markdown",
   "metadata": {},
   "source": [
    "## <span style='font-family:palatino'><span style='color:#3A4079'>**Arc Four: Swords and Angels**\n",
    "\n",
    "#### <span style='font-family:palatino'>**Episodes 70 - 91**\n",
    "\n",
    "<span style='font-family:palatino'>The primary goal of the Mighty Nein is to liberate Yasha from Obann's influence, while Fjord wrestles with breaking free from the clutches of Uk'otoa. However, a new challenge arises as the Angel of Irons cult emerges, with their own agenda to unleash their deity. Adding to the complexity, the party becomes entangled in the intricate web of politics and intrigue between the Dwendalian Empire and the Kryn Dynasty. The fate of both territories becomes intertwined, placing immense importance on the actions and decisions of the Mighty Nein.\n",
    "\n",
    "***"
   ]
  },
  {
   "attachments": {},
   "cell_type": "markdown",
   "metadata": {},
   "source": [
    "##### <span style='font-family:palatino'> **Remorhaz** ~ Episode 73\n",
    "* <span style='font-family:palatino'>**Fight MVP:"
   ]
  },
  {
   "cell_type": "code",
   "execution_count": 76,
   "metadata": {},
   "outputs": [
    {
     "name": "stdout",
     "output_type": "stream",
     "text": [
      "Encounter:\n",
      "--------------------\n",
      "--------------------\n",
      "Initiative Order:\n",
      "--------------------\n",
      "--------------------\n"
     ]
    }
   ],
   "source": [
    "from campaign_stats import add_damage, update_healing, update_damage_taken, update_times_killed, update_times_knocked_unconscious, add_enemy_damage, get_enemy_stats\n",
    "\n",
    "encounter = []\n",
    "order = []\n",
    "print('Encounter:')\n",
    "print('--------------------')\n",
    "for i in encounter:\n",
    "    print(i)\n",
    "print('--------------------')\n",
    "print('Initiative Order:')\n",
    "print('--------------------')\n",
    "for i in order:\n",
    "    print(i)\n",
    "print('--------------------')"
   ]
  },
  {
   "attachments": {},
   "cell_type": "markdown",
   "metadata": {},
   "source": [
    "##### <span style='font-family:palatino'> **Yetis** ~ Episode 75\n",
    "* <span style='font-family:palatino'>**Fight MVP:"
   ]
  },
  {
   "cell_type": "code",
   "execution_count": 77,
   "metadata": {},
   "outputs": [
    {
     "name": "stdout",
     "output_type": "stream",
     "text": [
      "Encounter:\n",
      "--------------------\n",
      "--------------------\n",
      "Initiative Order:\n",
      "--------------------\n",
      "--------------------\n"
     ]
    }
   ],
   "source": [
    "from campaign_stats import add_damage, update_healing, update_damage_taken, update_times_killed, update_times_knocked_unconscious, add_enemy_damage, get_enemy_stats\n",
    "\n",
    "encounter = []\n",
    "order = []\n",
    "print('Encounter:')\n",
    "print('--------------------')\n",
    "for i in encounter:\n",
    "    print(i)\n",
    "print('--------------------')\n",
    "print('Initiative Order:')\n",
    "print('--------------------')\n",
    "for i in order:\n",
    "    print(i)\n",
    "print('--------------------')"
   ]
  },
  {
   "attachments": {},
   "cell_type": "markdown",
   "metadata": {},
   "source": [
    "##### <span style='font-family:palatino'> **Gelidon the Ancient White Dragon** ~ Episode 75\n",
    "* <span style='font-family:palatino'>**Fight MVP:"
   ]
  },
  {
   "cell_type": "code",
   "execution_count": 78,
   "metadata": {},
   "outputs": [
    {
     "name": "stdout",
     "output_type": "stream",
     "text": [
      "Encounter:\n",
      "--------------------\n",
      "--------------------\n",
      "Initiative Order:\n",
      "--------------------\n",
      "--------------------\n"
     ]
    }
   ],
   "source": [
    "from campaign_stats import add_damage, update_healing, update_damage_taken, update_times_killed, update_times_knocked_unconscious, add_enemy_damage, get_enemy_stats\n",
    "\n",
    "encounter = []\n",
    "order = []\n",
    "print('Encounter:')\n",
    "print('--------------------')\n",
    "for i in encounter:\n",
    "    print(i)\n",
    "print('--------------------')\n",
    "print('Initiative Order:')\n",
    "print('--------------------')\n",
    "for i in order:\n",
    "    print(i)\n",
    "print('--------------------')"
   ]
  },
  {
   "attachments": {},
   "cell_type": "markdown",
   "metadata": {},
   "source": [
    "##### <span style='font-family:palatino'> **Obann, The Laughing Hand, and Wraithroot** ~ Episode 79\n",
    "* <span style='font-family:palatino'>**Fight MVP:"
   ]
  },
  {
   "cell_type": "code",
   "execution_count": 79,
   "metadata": {},
   "outputs": [
    {
     "name": "stdout",
     "output_type": "stream",
     "text": [
      "Encounter:\n",
      "--------------------\n",
      "--------------------\n",
      "Initiative Order:\n",
      "--------------------\n",
      "--------------------\n"
     ]
    }
   ],
   "source": [
    "from campaign_stats import add_damage, update_healing, update_damage_taken, update_times_killed, update_times_knocked_unconscious, add_enemy_damage, get_enemy_stats\n",
    "\n",
    "encounter = []\n",
    "order = []\n",
    "print('Encounter:')\n",
    "print('--------------------')\n",
    "for i in encounter:\n",
    "    print(i)\n",
    "print('--------------------')\n",
    "print('Initiative Order:')\n",
    "print('--------------------')\n",
    "for i in order:\n",
    "    print(i)\n",
    "print('--------------------')"
   ]
  },
  {
   "attachments": {},
   "cell_type": "markdown",
   "metadata": {},
   "source": [
    "##### <span style='font-family:palatino'> **Froghermoth and Bullywogs** ~ Episode 80\n",
    "* <span style='font-family:palatino'>**Fight MVP:"
   ]
  },
  {
   "cell_type": "code",
   "execution_count": 80,
   "metadata": {},
   "outputs": [
    {
     "name": "stdout",
     "output_type": "stream",
     "text": [
      "Encounter:\n",
      "--------------------\n",
      "--------------------\n",
      "Initiative Order:\n",
      "--------------------\n",
      "--------------------\n"
     ]
    }
   ],
   "source": [
    "from campaign_stats import add_damage, update_healing, update_damage_taken, update_times_killed, update_times_knocked_unconscious, add_enemy_damage, get_enemy_stats\n",
    "\n",
    "encounter = []\n",
    "order = []\n",
    "print('Encounter:')\n",
    "print('--------------------')\n",
    "for i in encounter:\n",
    "    print(i)\n",
    "print('--------------------')\n",
    "print('Initiative Order:')\n",
    "print('--------------------')\n",
    "for i in order:\n",
    "    print(i)\n",
    "print('--------------------')"
   ]
  },
  {
   "attachments": {},
   "cell_type": "markdown",
   "metadata": {},
   "source": [
    "##### <span style='font-family:palatino'> **Mage Hunter Golem** ~ Episode 81\n",
    "* <span style='font-family:palatino'>**Fight MVP:"
   ]
  },
  {
   "cell_type": "code",
   "execution_count": 81,
   "metadata": {},
   "outputs": [
    {
     "name": "stdout",
     "output_type": "stream",
     "text": [
      "Encounter:\n",
      "--------------------\n",
      "--------------------\n",
      "Initiative Order:\n",
      "--------------------\n",
      "--------------------\n"
     ]
    }
   ],
   "source": [
    "from campaign_stats import add_damage, update_healing, update_damage_taken, update_times_killed, update_times_knocked_unconscious, add_enemy_damage, get_enemy_stats\n",
    "\n",
    "encounter = []\n",
    "order = []\n",
    "print('Encounter:')\n",
    "print('--------------------')\n",
    "for i in encounter:\n",
    "    print(i)\n",
    "print('--------------------')\n",
    "print('Initiative Order:')\n",
    "print('--------------------')\n",
    "for i in order:\n",
    "    print(i)\n",
    "print('--------------------')"
   ]
  },
  {
   "attachments": {},
   "cell_type": "markdown",
   "metadata": {},
   "source": [
    "##### <span style='font-family:palatino'> **Halas Flesh Golem** ~ Episode 82\n",
    "* <span style='font-family:palatino'>**Fight MVP:"
   ]
  },
  {
   "cell_type": "code",
   "execution_count": 82,
   "metadata": {},
   "outputs": [
    {
     "name": "stdout",
     "output_type": "stream",
     "text": [
      "Encounter:\n",
      "--------------------\n",
      "--------------------\n",
      "Initiative Order:\n",
      "--------------------\n",
      "--------------------\n"
     ]
    }
   ],
   "source": [
    "from campaign_stats import add_damage, update_healing, update_damage_taken, update_times_killed, update_times_knocked_unconscious, add_enemy_damage, get_enemy_stats\n",
    "\n",
    "encounter = []\n",
    "order = []\n",
    "print('Encounter:')\n",
    "print('--------------------')\n",
    "for i in encounter:\n",
    "    print(i)\n",
    "print('--------------------')\n",
    "print('Initiative Order:')\n",
    "print('--------------------')\n",
    "for i in order:\n",
    "    print(i)\n",
    "print('--------------------')"
   ]
  },
  {
   "attachments": {},
   "cell_type": "markdown",
   "metadata": {},
   "source": [
    "##### <span style='font-family:palatino'> **Permaheart** ~ Episode 82\n",
    "* <span style='font-family:palatino'>**Fight MVP:"
   ]
  },
  {
   "cell_type": "code",
   "execution_count": 83,
   "metadata": {},
   "outputs": [
    {
     "name": "stdout",
     "output_type": "stream",
     "text": [
      "Encounter:\n",
      "--------------------\n",
      "--------------------\n",
      "Initiative Order:\n",
      "--------------------\n",
      "--------------------\n"
     ]
    }
   ],
   "source": [
    "from campaign_stats import add_damage, update_healing, update_damage_taken, update_times_killed, update_times_knocked_unconscious, add_enemy_damage, get_enemy_stats\n",
    "\n",
    "encounter = []\n",
    "order = []\n",
    "print('Encounter:')\n",
    "print('--------------------')\n",
    "for i in encounter:\n",
    "    print(i)\n",
    "print('--------------------')\n",
    "print('Initiative Order:')\n",
    "print('--------------------')\n",
    "for i in order:\n",
    "    print(i)\n",
    "print('--------------------')"
   ]
  },
  {
   "attachments": {},
   "cell_type": "markdown",
   "metadata": {},
   "source": [
    "##### <span style='font-family:palatino'> **Caedogeist of Zadash** ~ Episode 85\n",
    "* <span style='font-family:palatino'>**Fight MVP:"
   ]
  },
  {
   "cell_type": "code",
   "execution_count": 84,
   "metadata": {},
   "outputs": [
    {
     "name": "stdout",
     "output_type": "stream",
     "text": [
      "Encounter:\n",
      "--------------------\n",
      "--------------------\n",
      "Initiative Order:\n",
      "--------------------\n",
      "--------------------\n"
     ]
    }
   ],
   "source": [
    "from campaign_stats import add_damage, update_healing, update_damage_taken, update_times_killed, update_times_knocked_unconscious, add_enemy_damage, get_enemy_stats\n",
    "\n",
    "encounter = []\n",
    "order = []\n",
    "print('Encounter:')\n",
    "print('--------------------')\n",
    "for i in encounter:\n",
    "    print(i)\n",
    "print('--------------------')\n",
    "print('Initiative Order:')\n",
    "print('--------------------')\n",
    "for i in order:\n",
    "    print(i)\n",
    "print('--------------------')"
   ]
  },
  {
   "attachments": {},
   "cell_type": "markdown",
   "metadata": {},
   "source": [
    "##### <span style='font-family:palatino'> **Chantry of the Dawn, Sanctuary** ~ Episode 86\n",
    "* <span style='font-family:palatino'>**Fight MVP:"
   ]
  },
  {
   "cell_type": "code",
   "execution_count": 85,
   "metadata": {},
   "outputs": [
    {
     "name": "stdout",
     "output_type": "stream",
     "text": [
      "Encounter:\n",
      "--------------------\n",
      "--------------------\n",
      "Initiative Order:\n",
      "--------------------\n",
      "--------------------\n"
     ]
    }
   ],
   "source": [
    "from campaign_stats import add_damage, update_healing, update_damage_taken, update_times_killed, update_times_knocked_unconscious, add_enemy_damage, get_enemy_stats\n",
    "\n",
    "encounter = []\n",
    "order = []\n",
    "print('Encounter:')\n",
    "print('--------------------')\n",
    "for i in encounter:\n",
    "    print(i)\n",
    "print('--------------------')\n",
    "print('Initiative Order:')\n",
    "print('--------------------')\n",
    "for i in order:\n",
    "    print(i)\n",
    "print('--------------------')"
   ]
  },
  {
   "attachments": {},
   "cell_type": "markdown",
   "metadata": {},
   "source": [
    "##### <span style='font-family:palatino'> **Chantry of the Sanctuary, The Fane Below** ~ Episode 86\n",
    "* <span style='font-family:palatino'>**Fight MVP:"
   ]
  },
  {
   "cell_type": "code",
   "execution_count": 86,
   "metadata": {},
   "outputs": [
    {
     "name": "stdout",
     "output_type": "stream",
     "text": [
      "Encounter:\n",
      "--------------------\n",
      "--------------------\n",
      "Initiative Order:\n",
      "--------------------\n",
      "--------------------\n"
     ]
    }
   ],
   "source": [
    "from campaign_stats import add_damage, update_healing, update_damage_taken, update_times_killed, update_times_knocked_unconscious, add_enemy_damage, get_enemy_stats\n",
    "\n",
    "encounter = []\n",
    "order = []\n",
    "print('Encounter:')\n",
    "print('--------------------')\n",
    "for i in encounter:\n",
    "    print(i)\n",
    "print('--------------------')\n",
    "print('Initiative Order:')\n",
    "print('--------------------')\n",
    "for i in order:\n",
    "    print(i)\n",
    "print('--------------------')"
   ]
  },
  {
   "attachments": {},
   "cell_type": "markdown",
   "metadata": {},
   "source": [
    "##### <span style='font-family:palatino'> **Obann the Punished** ~ Episode 87\n",
    "* <span style='font-family:palatino'>**Fight MVP:"
   ]
  },
  {
   "cell_type": "code",
   "execution_count": 87,
   "metadata": {},
   "outputs": [
    {
     "name": "stdout",
     "output_type": "stream",
     "text": [
      "Encounter:\n",
      "--------------------\n",
      "--------------------\n",
      "Initiative Order:\n",
      "--------------------\n",
      "--------------------\n"
     ]
    }
   ],
   "source": [
    "from campaign_stats import add_damage, update_healing, update_damage_taken, update_times_killed, update_times_knocked_unconscious, add_enemy_damage, get_enemy_stats\n",
    "\n",
    "encounter = []\n",
    "order = []\n",
    "print('Encounter:')\n",
    "print('--------------------')\n",
    "for i in encounter:\n",
    "    print(i)\n",
    "print('--------------------')\n",
    "print('Initiative Order:')\n",
    "print('--------------------')\n",
    "for i in order:\n",
    "    print(i)\n",
    "print('--------------------')"
   ]
  },
  {
   "attachments": {},
   "cell_type": "markdown",
   "metadata": {},
   "source": [
    "##### <span style='font-family:palatino'> **Stone Coffin** ~ Episode 89\n",
    "* <span style='font-family:palatino'>**Fight MVP:"
   ]
  },
  {
   "cell_type": "code",
   "execution_count": 88,
   "metadata": {},
   "outputs": [
    {
     "name": "stdout",
     "output_type": "stream",
     "text": [
      "Encounter:\n",
      "--------------------\n",
      "--------------------\n",
      "Initiative Order:\n",
      "--------------------\n",
      "--------------------\n"
     ]
    }
   ],
   "source": [
    "from campaign_stats import add_damage, update_healing, update_damage_taken, update_times_killed, update_times_knocked_unconscious, add_enemy_damage, get_enemy_stats\n",
    "\n",
    "encounter = []\n",
    "order = []\n",
    "print('Encounter:')\n",
    "print('--------------------')\n",
    "for i in encounter:\n",
    "    print(i)\n",
    "print('--------------------')\n",
    "print('Initiative Order:')\n",
    "print('--------------------')\n",
    "for i in order:\n",
    "    print(i)\n",
    "print('--------------------')"
   ]
  },
  {
   "attachments": {},
   "cell_type": "markdown",
   "metadata": {},
   "source": [
    "##### <span style='font-family:palatino'> **Arc Four Non-Fighting Damages**"
   ]
  },
  {
   "cell_type": "code",
   "execution_count": 89,
   "metadata": {},
   "outputs": [],
   "source": [
    "from campaign_stats import add_damage, update_healing, update_damage_taken, update_times_killed, update_times_knocked_unconscious, add_enemy_damage, get_enemy_stats"
   ]
  },
  {
   "attachments": {},
   "cell_type": "markdown",
   "metadata": {},
   "source": [
    "***"
   ]
  },
  {
   "attachments": {},
   "cell_type": "markdown",
   "metadata": {},
   "source": [
    "### <span style='font-family:palatino'><span style='color:#89aee2'> **Total Stats for Arc Four: Swords and Angels**\n",
    "\n",
    "#### <span style='font-family:palatino'><span style='color:#89aee2'> **Total Enemies:**\n",
    "#### <span style='font-family:palatino'><span style='color:#89aee2'> **Total Bosses:**"
   ]
  },
  {
   "cell_type": "code",
   "execution_count": 90,
   "metadata": {},
   "outputs": [],
   "source": [
    "from campaign_stats import get_combined_stats, get_total_enemy_damage\n",
    "\n",
    "# get_combined_stats()\n",
    "# get_total_enemy_damage()"
   ]
  },
  {
   "attachments": {},
   "cell_type": "markdown",
   "metadata": {},
   "source": [
    "***"
   ]
  },
  {
   "attachments": {},
   "cell_type": "markdown",
   "metadata": {},
   "source": [
    "## <span style='font-family:palatino'><span style='color:#3A4079'>**Arc Five: Family Ties**\n",
    "\n",
    "#### <span style='font-family:palatino'>**Episodes 92 - 112**\n",
    "\n",
    "<span style='font-family:palatino'>Amidst a fragile truce, the Mighty Nein find brief moments to organize Traveler Con and reconnect with their families and old acquaintances. As peace seemingly settles, the party sets off for the highly anticipated Rumblecusp, where Jester and the Traveler have been diligently preparing for the event. However, upon arrival, they uncover unforeseen secrets, peculiarities, and dangers. These include the haunting possibility of losing their own memories and identities, as well as a foreboding omen that looms ominously on the horizon.\n",
    "\n",
    "***"
   ]
  },
  {
   "attachments": {},
   "cell_type": "markdown",
   "metadata": {},
   "source": [
    "##### <span style='font-family:palatino'> **The Gorefeather Harpies** ~ Episode 93\n",
    "* <span style='font-family:palatino'>**Fight MVP:"
   ]
  },
  {
   "cell_type": "code",
   "execution_count": 91,
   "metadata": {},
   "outputs": [
    {
     "name": "stdout",
     "output_type": "stream",
     "text": [
      "Encounter:\n",
      "--------------------\n",
      "--------------------\n",
      "Initiative Order:\n",
      "--------------------\n",
      "--------------------\n"
     ]
    }
   ],
   "source": [
    "from campaign_stats import add_damage, update_healing, update_damage_taken, update_times_killed, update_times_knocked_unconscious, add_enemy_damage, get_enemy_stats\n",
    "\n",
    "encounter = []\n",
    "order = []\n",
    "print('Encounter:')\n",
    "print('--------------------')\n",
    "for i in encounter:\n",
    "    print(i)\n",
    "print('--------------------')\n",
    "print('Initiative Order:')\n",
    "print('--------------------')\n",
    "for i in order:\n",
    "    print(i)\n",
    "print('--------------------')"
   ]
  },
  {
   "attachments": {},
   "cell_type": "markdown",
   "metadata": {},
   "source": [
    "##### <span style='font-family:palatino'> **Husk Zombies on Mt. Mentiri** ~ Episode 94\n",
    "* <span style='font-family:palatino'>**Fight MVP:"
   ]
  },
  {
   "cell_type": "code",
   "execution_count": 92,
   "metadata": {},
   "outputs": [
    {
     "name": "stdout",
     "output_type": "stream",
     "text": [
      "Encounter:\n",
      "--------------------\n",
      "--------------------\n",
      "Initiative Order:\n",
      "--------------------\n",
      "--------------------\n"
     ]
    }
   ],
   "source": [
    "from campaign_stats import add_damage, update_healing, update_damage_taken, update_times_killed, update_times_knocked_unconscious, add_enemy_damage, get_enemy_stats\n",
    "\n",
    "encounter = []\n",
    "order = []\n",
    "print('Encounter:')\n",
    "print('--------------------')\n",
    "for i in encounter:\n",
    "    print(i)\n",
    "print('--------------------')\n",
    "print('Initiative Order:')\n",
    "print('--------------------')\n",
    "for i in order:\n",
    "    print(i)\n",
    "print('--------------------')"
   ]
  },
  {
   "attachments": {},
   "cell_type": "markdown",
   "metadata": {},
   "source": [
    "##### <span style='font-family:palatino'> **Bladerakes** ~ Episode 95\n",
    "* <span style='font-family:palatino'>**Fight MVP:"
   ]
  },
  {
   "cell_type": "code",
   "execution_count": 93,
   "metadata": {},
   "outputs": [
    {
     "name": "stdout",
     "output_type": "stream",
     "text": [
      "Encounter:\n",
      "--------------------\n",
      "--------------------\n",
      "Initiative Order:\n",
      "--------------------\n",
      "--------------------\n"
     ]
    }
   ],
   "source": [
    "from campaign_stats import add_damage, update_healing, update_damage_taken, update_times_killed, update_times_knocked_unconscious, add_enemy_damage, get_enemy_stats\n",
    "\n",
    "encounter = []\n",
    "order = []\n",
    "print('Encounter:')\n",
    "print('--------------------')\n",
    "for i in encounter:\n",
    "    print(i)\n",
    "print('--------------------')\n",
    "print('Initiative Order:')\n",
    "print('--------------------')\n",
    "for i in order:\n",
    "    print(i)\n",
    "print('--------------------')"
   ]
  },
  {
   "attachments": {},
   "cell_type": "markdown",
   "metadata": {},
   "source": [
    "##### <span style='font-family:palatino'> **Gorgon** ~ Episode 96\n",
    "* <span style='font-family:palatino'>**Fight MVP:"
   ]
  },
  {
   "cell_type": "code",
   "execution_count": 94,
   "metadata": {},
   "outputs": [
    {
     "name": "stdout",
     "output_type": "stream",
     "text": [
      "Encounter:\n",
      "--------------------\n",
      "--------------------\n",
      "Initiative Order:\n",
      "--------------------\n",
      "--------------------\n"
     ]
    }
   ],
   "source": [
    "from campaign_stats import add_damage, update_healing, update_damage_taken, update_times_killed, update_times_knocked_unconscious, add_enemy_damage, get_enemy_stats\n",
    "\n",
    "encounter = []\n",
    "order = []\n",
    "print('Encounter:')\n",
    "print('--------------------')\n",
    "for i in encounter:\n",
    "    print(i)\n",
    "print('--------------------')\n",
    "print('Initiative Order:')\n",
    "print('--------------------')\n",
    "for i in order:\n",
    "    print(i)\n",
    "print('--------------------')"
   ]
  },
  {
   "attachments": {},
   "cell_type": "markdown",
   "metadata": {},
   "source": [
    "##### <span style='font-family:palatino'> **Deep Scion Warlocks** ~ Episode 98\n",
    "* <span style='font-family:palatino'>**Fight MVP:"
   ]
  },
  {
   "cell_type": "code",
   "execution_count": 95,
   "metadata": {},
   "outputs": [
    {
     "name": "stdout",
     "output_type": "stream",
     "text": [
      "Encounter:\n",
      "--------------------\n",
      "--------------------\n",
      "Initiative Order:\n",
      "--------------------\n",
      "--------------------\n"
     ]
    }
   ],
   "source": [
    "from campaign_stats import add_damage, update_healing, update_damage_taken, update_times_killed, update_times_knocked_unconscious, add_enemy_damage, get_enemy_stats\n",
    "\n",
    "encounter = []\n",
    "order = []\n",
    "print('Encounter:')\n",
    "print('--------------------')\n",
    "for i in encounter:\n",
    "    print(i)\n",
    "print('--------------------')\n",
    "print('Initiative Order:')\n",
    "print('--------------------')\n",
    "for i in order:\n",
    "    print(i)\n",
    "print('--------------------')"
   ]
  },
  {
   "attachments": {},
   "cell_type": "markdown",
   "metadata": {},
   "source": [
    "##### <span style='font-family:palatino'> **Dragon Turtle** ~ Episode 100\n",
    "* <span style='font-family:palatino'>**Fight MVP:"
   ]
  },
  {
   "cell_type": "code",
   "execution_count": 96,
   "metadata": {},
   "outputs": [
    {
     "name": "stdout",
     "output_type": "stream",
     "text": [
      "Encounter:\n",
      "--------------------\n",
      "--------------------\n",
      "Initiative Order:\n",
      "--------------------\n",
      "--------------------\n"
     ]
    }
   ],
   "source": [
    "from campaign_stats import add_damage, update_healing, update_damage_taken, update_times_killed, update_times_knocked_unconscious, add_enemy_damage, get_enemy_stats\n",
    "\n",
    "encounter = []\n",
    "order = []\n",
    "print('Encounter:')\n",
    "print('--------------------')\n",
    "for i in encounter:\n",
    "    print(i)\n",
    "print('--------------------')\n",
    "print('Initiative Order:')\n",
    "print('--------------------')\n",
    "for i in order:\n",
    "    print(i)\n",
    "print('--------------------')"
   ]
  },
  {
   "attachments": {},
   "cell_type": "markdown",
   "metadata": {},
   "source": [
    "##### <span style='font-family:palatino'> **Bodak and Will-o'-Wisps** ~ Episode 102\n",
    "* <span style='font-family:palatino'>**Fight MVP:"
   ]
  },
  {
   "cell_type": "code",
   "execution_count": 97,
   "metadata": {},
   "outputs": [
    {
     "name": "stdout",
     "output_type": "stream",
     "text": [
      "Encounter:\n",
      "--------------------\n",
      "--------------------\n",
      "Initiative Order:\n",
      "--------------------\n",
      "--------------------\n"
     ]
    }
   ],
   "source": [
    "from campaign_stats import add_damage, update_healing, update_damage_taken, update_times_killed, update_times_knocked_unconscious, add_enemy_damage, get_enemy_stats\n",
    "\n",
    "encounter = []\n",
    "order = []\n",
    "print('Encounter:')\n",
    "print('--------------------')\n",
    "for i in encounter:\n",
    "    print(i)\n",
    "print('--------------------')\n",
    "print('Initiative Order:')\n",
    "print('--------------------')\n",
    "for i in order:\n",
    "    print(i)\n",
    "print('--------------------')"
   ]
  },
  {
   "attachments": {},
   "cell_type": "markdown",
   "metadata": {},
   "source": [
    "##### <span style='font-family:palatino'> **Lord Cirio and Ghosts** ~ Episode 104\n",
    "* <span style='font-family:palatino'>**Fight MVP:"
   ]
  },
  {
   "cell_type": "code",
   "execution_count": 98,
   "metadata": {},
   "outputs": [
    {
     "name": "stdout",
     "output_type": "stream",
     "text": [
      "Encounter:\n",
      "--------------------\n",
      "--------------------\n",
      "Initiative Order:\n",
      "--------------------\n",
      "--------------------\n"
     ]
    }
   ],
   "source": [
    "from campaign_stats import add_damage, update_healing, update_damage_taken, update_times_killed, update_times_knocked_unconscious, add_enemy_damage, get_enemy_stats\n",
    "\n",
    "encounter = []\n",
    "order = []\n",
    "print('Encounter:')\n",
    "print('--------------------')\n",
    "for i in encounter:\n",
    "    print(i)\n",
    "print('--------------------')\n",
    "print('Initiative Order:')\n",
    "print('--------------------')\n",
    "for i in order:\n",
    "    print(i)\n",
    "print('--------------------')"
   ]
  },
  {
   "attachments": {},
   "cell_type": "markdown",
   "metadata": {},
   "source": [
    "##### <span style='font-family:palatino'> **Vokodo the Morkoth** ~ Episode 105\n",
    "* <span style='font-family:palatino'>**Fight MVP:"
   ]
  },
  {
   "cell_type": "code",
   "execution_count": 99,
   "metadata": {},
   "outputs": [
    {
     "name": "stdout",
     "output_type": "stream",
     "text": [
      "Encounter:\n",
      "--------------------\n",
      "--------------------\n",
      "Initiative Order:\n",
      "--------------------\n",
      "--------------------\n"
     ]
    }
   ],
   "source": [
    "from campaign_stats import add_damage, update_healing, update_damage_taken, update_times_killed, update_times_knocked_unconscious, add_enemy_damage, get_enemy_stats\n",
    "\n",
    "encounter = []\n",
    "order = []\n",
    "print('Encounter:')\n",
    "print('--------------------')\n",
    "for i in encounter:\n",
    "    print(i)\n",
    "print('--------------------')\n",
    "print('Initiative Order:')\n",
    "print('--------------------')\n",
    "for i in order:\n",
    "    print(i)\n",
    "print('--------------------')"
   ]
  },
  {
   "attachments": {},
   "cell_type": "markdown",
   "metadata": {},
   "source": [
    "##### <span style='font-family:palatino'> **Fire Sea Snake** ~ Episode 106\n",
    "* <span style='font-family:palatino'>**Fight MVP:"
   ]
  },
  {
   "cell_type": "code",
   "execution_count": 100,
   "metadata": {},
   "outputs": [
    {
     "name": "stdout",
     "output_type": "stream",
     "text": [
      "Encounter:\n",
      "--------------------\n",
      "--------------------\n",
      "Initiative Order:\n",
      "--------------------\n",
      "--------------------\n"
     ]
    }
   ],
   "source": [
    "from campaign_stats import add_damage, update_healing, update_damage_taken, update_times_killed, update_times_knocked_unconscious, add_enemy_damage, get_enemy_stats\n",
    "\n",
    "encounter = []\n",
    "order = []\n",
    "print('Encounter:')\n",
    "print('--------------------')\n",
    "for i in encounter:\n",
    "    print(i)\n",
    "print('--------------------')\n",
    "print('Initiative Order:')\n",
    "print('--------------------')\n",
    "for i in order:\n",
    "    print(i)\n",
    "print('--------------------')"
   ]
  },
  {
   "attachments": {},
   "cell_type": "markdown",
   "metadata": {},
   "source": [
    "##### <span style='font-family:palatino'> **Albino Tyrannosaurus Rex** ~ Episode 107\n",
    "* <span style='font-family:palatino'>**Fight MVP:"
   ]
  },
  {
   "cell_type": "code",
   "execution_count": 101,
   "metadata": {},
   "outputs": [
    {
     "name": "stdout",
     "output_type": "stream",
     "text": [
      "Encounter:\n",
      "--------------------\n",
      "--------------------\n",
      "Initiative Order:\n",
      "--------------------\n",
      "--------------------\n"
     ]
    }
   ],
   "source": [
    "from campaign_stats import add_damage, update_healing, update_damage_taken, update_times_killed, update_times_knocked_unconscious, add_enemy_damage, get_enemy_stats\n",
    "\n",
    "encounter = []\n",
    "order = []\n",
    "print('Encounter:')\n",
    "print('--------------------')\n",
    "for i in encounter:\n",
    "    print(i)\n",
    "print('--------------------')\n",
    "print('Initiative Order:')\n",
    "print('--------------------')\n",
    "for i in order:\n",
    "    print(i)\n",
    "print('--------------------')"
   ]
  },
  {
   "attachments": {},
   "cell_type": "markdown",
   "metadata": {},
   "source": [
    "##### <span style='font-family:palatino'> **Arc Five Non-Fighting Damages**"
   ]
  },
  {
   "cell_type": "code",
   "execution_count": 102,
   "metadata": {},
   "outputs": [],
   "source": [
    "from campaign_stats import add_damage, update_healing, update_damage_taken, update_times_killed, update_times_knocked_unconscious, add_enemy_damage, get_enemy_stats"
   ]
  },
  {
   "attachments": {},
   "cell_type": "markdown",
   "metadata": {},
   "source": [
    "***"
   ]
  },
  {
   "attachments": {},
   "cell_type": "markdown",
   "metadata": {},
   "source": [
    "### <span style='font-family:palatino'><span style='color:#89aee2'> **Total Stats for Arc Five: Family Ties**\n",
    "\n",
    "#### <span style='font-family:palatino'><span style='color:#89aee2'> **Total Enemies:**\n",
    "#### <span style='font-family:palatino'><span style='color:#89aee2'> **Total Bosses:**"
   ]
  },
  {
   "cell_type": "code",
   "execution_count": 103,
   "metadata": {},
   "outputs": [],
   "source": [
    "from campaign_stats import get_combined_stats, get_total_enemy_damage\n",
    "\n",
    "# get_combined_stats()\n",
    "# get_total_enemy_damage()"
   ]
  },
  {
   "attachments": {},
   "cell_type": "markdown",
   "metadata": {},
   "source": [
    "***"
   ]
  },
  {
   "attachments": {},
   "cell_type": "markdown",
   "metadata": {},
   "source": [
    "## <span style='font-family:palatino'><span style='color:#3A4079'>**Arc Six: Weird Magic**\n",
    "\n",
    "#### <span style='font-family:palatino'>**Episodes 113 - 141**\n",
    "\n",
    "<span style='font-family:palatino'>Driven by their pursuit of a familiar individual, the Mighty Nein venture north to Eiselcross, heading towards the ruins of Aeor, an ancient magocracy. However, the frigid environment brings about unforeseen challenges. They discover alarming information about a looming danger from the distant past known as the Somnovem. With this newfound knowledge, the Mighty Nein strengthen their alliances and objectives, embarking on a journey across various lands and even planes. Engaged in a desperate race against time, they strive to determine the destiny of their home and the well-being of their loved ones.\n",
    "\n",
    "***"
   ]
  },
  {
   "attachments": {},
   "cell_type": "markdown",
   "metadata": {},
   "source": [
    "##### <span style='font-family:palatino'> **Undead Avantika** ~ Episode 113\n",
    "* <span style='font-family:palatino'>**Fight MVP:"
   ]
  },
  {
   "cell_type": "code",
   "execution_count": 104,
   "metadata": {},
   "outputs": [
    {
     "name": "stdout",
     "output_type": "stream",
     "text": [
      "Encounter:\n",
      "--------------------\n",
      "--------------------\n",
      "Initiative Order:\n",
      "--------------------\n",
      "--------------------\n"
     ]
    }
   ],
   "source": [
    "from campaign_stats import add_damage, update_healing, update_damage_taken, update_times_killed, update_times_knocked_unconscious, add_enemy_damage, get_enemy_stats\n",
    "\n",
    "encounter = []\n",
    "order = []\n",
    "print('Encounter:')\n",
    "print('--------------------')\n",
    "for i in encounter:\n",
    "    print(i)\n",
    "print('--------------------')\n",
    "print('Initiative Order:')\n",
    "print('--------------------')\n",
    "for i in order:\n",
    "    print(i)\n",
    "print('--------------------')"
   ]
  },
  {
   "attachments": {},
   "cell_type": "markdown",
   "metadata": {},
   "source": [
    "##### <span style='font-family:palatino'> **Allowak Yetis** ~ Episode 115\n",
    "* <span style='font-family:palatino'>**Fight MVP:"
   ]
  },
  {
   "cell_type": "code",
   "execution_count": 105,
   "metadata": {},
   "outputs": [
    {
     "name": "stdout",
     "output_type": "stream",
     "text": [
      "Encounter:\n",
      "--------------------\n",
      "--------------------\n",
      "Initiative Order:\n",
      "--------------------\n",
      "--------------------\n"
     ]
    }
   ],
   "source": [
    "from campaign_stats import add_damage, update_healing, update_damage_taken, update_times_killed, update_times_knocked_unconscious, add_enemy_damage, get_enemy_stats\n",
    "\n",
    "encounter = []\n",
    "order = []\n",
    "print('Encounter:')\n",
    "print('--------------------')\n",
    "for i in encounter:\n",
    "    print(i)\n",
    "print('--------------------')\n",
    "print('Initiative Order:')\n",
    "print('--------------------')\n",
    "for i in order:\n",
    "    print(i)\n",
    "print('--------------------')"
   ]
  },
  {
   "attachments": {},
   "cell_type": "markdown",
   "metadata": {},
   "source": [
    "##### <span style='font-family:palatino'> **Ice Crystals** ~ Episode 116\n",
    "* <span style='font-family:palatino'>**Fight MVP:"
   ]
  },
  {
   "cell_type": "code",
   "execution_count": 106,
   "metadata": {},
   "outputs": [
    {
     "name": "stdout",
     "output_type": "stream",
     "text": [
      "Encounter:\n",
      "--------------------\n",
      "--------------------\n",
      "Initiative Order:\n",
      "--------------------\n",
      "--------------------\n"
     ]
    }
   ],
   "source": [
    "from campaign_stats import add_damage, update_healing, update_damage_taken, update_times_killed, update_times_knocked_unconscious, add_enemy_damage, get_enemy_stats\n",
    "\n",
    "encounter = []\n",
    "order = []\n",
    "print('Encounter:')\n",
    "print('--------------------')\n",
    "for i in encounter:\n",
    "    print(i)\n",
    "print('--------------------')\n",
    "print('Initiative Order:')\n",
    "print('--------------------')\n",
    "for i in order:\n",
    "    print(i)\n",
    "print('--------------------')"
   ]
  },
  {
   "attachments": {},
   "cell_type": "markdown",
   "metadata": {},
   "source": [
    "##### <span style='font-family:palatino'> **Black Pudding of Aeor** ~ Episode 116\n",
    "* <span style='font-family:palatino'>**Fight MVP:"
   ]
  },
  {
   "cell_type": "code",
   "execution_count": 107,
   "metadata": {},
   "outputs": [
    {
     "name": "stdout",
     "output_type": "stream",
     "text": [
      "Encounter:\n",
      "--------------------\n",
      "--------------------\n",
      "Initiative Order:\n",
      "--------------------\n",
      "--------------------\n"
     ]
    }
   ],
   "source": [
    "from campaign_stats import add_damage, update_healing, update_damage_taken, update_times_killed, update_times_knocked_unconscious, add_enemy_damage, get_enemy_stats\n",
    "\n",
    "encounter = []\n",
    "order = []\n",
    "print('Encounter:')\n",
    "print('--------------------')\n",
    "for i in encounter:\n",
    "    print(i)\n",
    "print('--------------------')\n",
    "print('Initiative Order:')\n",
    "print('--------------------')\n",
    "for i in order:\n",
    "    print(i)\n",
    "print('--------------------')"
   ]
  },
  {
   "attachments": {},
   "cell_type": "markdown",
   "metadata": {},
   "source": [
    "##### <span style='font-family:palatino'> **Forst Worm of Eiselcross** ~ Episode 117\n",
    "* <span style='font-family:palatino'>**Fight MVP:"
   ]
  },
  {
   "cell_type": "code",
   "execution_count": 108,
   "metadata": {},
   "outputs": [
    {
     "name": "stdout",
     "output_type": "stream",
     "text": [
      "Encounter:\n",
      "--------------------\n",
      "--------------------\n",
      "Initiative Order:\n",
      "--------------------\n",
      "--------------------\n"
     ]
    }
   ],
   "source": [
    "from campaign_stats import add_damage, update_healing, update_damage_taken, update_times_killed, update_times_knocked_unconscious, add_enemy_damage, get_enemy_stats\n",
    "\n",
    "encounter = []\n",
    "order = []\n",
    "print('Encounter:')\n",
    "print('--------------------')\n",
    "for i in encounter:\n",
    "    print(i)\n",
    "print('--------------------')\n",
    "print('Initiative Order:')\n",
    "print('--------------------')\n",
    "for i in order:\n",
    "    print(i)\n",
    "print('--------------------')"
   ]
  },
  {
   "attachments": {},
   "cell_type": "markdown",
   "metadata": {},
   "source": [
    "##### <span style='font-family:palatino'> **Aeorian Abomination** ~ Episode 119\n",
    "* <span style='font-family:palatino'>**Fight MVP:"
   ]
  },
  {
   "cell_type": "code",
   "execution_count": 109,
   "metadata": {},
   "outputs": [
    {
     "name": "stdout",
     "output_type": "stream",
     "text": [
      "Encounter:\n",
      "--------------------\n",
      "--------------------\n",
      "Initiative Order:\n",
      "--------------------\n",
      "--------------------\n"
     ]
    }
   ],
   "source": [
    "from campaign_stats import add_damage, update_healing, update_damage_taken, update_times_killed, update_times_knocked_unconscious, add_enemy_damage, get_enemy_stats\n",
    "\n",
    "encounter = []\n",
    "order = []\n",
    "print('Encounter:')\n",
    "print('--------------------')\n",
    "for i in encounter:\n",
    "    print(i)\n",
    "print('--------------------')\n",
    "print('Initiative Order:')\n",
    "print('--------------------')\n",
    "for i in order:\n",
    "    print(i)\n",
    "print('--------------------')"
   ]
  },
  {
   "attachments": {},
   "cell_type": "markdown",
   "metadata": {},
   "source": [
    "##### <span style='font-family:palatino'> **Centurion Automaton** ~ Episode 120\n",
    "* <span style='font-family:palatino'>**Fight MVP:"
   ]
  },
  {
   "cell_type": "code",
   "execution_count": 110,
   "metadata": {},
   "outputs": [
    {
     "name": "stdout",
     "output_type": "stream",
     "text": [
      "Encounter:\n",
      "--------------------\n",
      "--------------------\n",
      "Initiative Order:\n",
      "--------------------\n",
      "--------------------\n"
     ]
    }
   ],
   "source": [
    "from campaign_stats import add_damage, update_healing, update_damage_taken, update_times_killed, update_times_knocked_unconscious, add_enemy_damage, get_enemy_stats\n",
    "\n",
    "encounter = []\n",
    "order = []\n",
    "print('Encounter:')\n",
    "print('--------------------')\n",
    "for i in encounter:\n",
    "    print(i)\n",
    "print('--------------------')\n",
    "print('Initiative Order:')\n",
    "print('--------------------')\n",
    "for i in order:\n",
    "    print(i)\n",
    "print('--------------------')"
   ]
  },
  {
   "attachments": {},
   "cell_type": "markdown",
   "metadata": {},
   "source": [
    "##### <span style='font-family:palatino'> **Fire Elementals of the River Inferno** ~ Episode 121\n",
    "* <span style='font-family:palatino'>**Fight MVP:"
   ]
  },
  {
   "cell_type": "code",
   "execution_count": 111,
   "metadata": {},
   "outputs": [
    {
     "name": "stdout",
     "output_type": "stream",
     "text": [
      "Encounter:\n",
      "--------------------\n",
      "--------------------\n",
      "Initiative Order:\n",
      "--------------------\n",
      "--------------------\n"
     ]
    }
   ],
   "source": [
    "from campaign_stats import add_damage, update_healing, update_damage_taken, update_times_killed, update_times_knocked_unconscious, add_enemy_damage, get_enemy_stats\n",
    "\n",
    "encounter = []\n",
    "order = []\n",
    "print('Encounter:')\n",
    "print('--------------------')\n",
    "for i in encounter:\n",
    "    print(i)\n",
    "print('--------------------')\n",
    "print('Initiative Order:')\n",
    "print('--------------------')\n",
    "for i in order:\n",
    "    print(i)\n",
    "print('--------------------')"
   ]
  },
  {
   "attachments": {},
   "cell_type": "markdown",
   "metadata": {},
   "source": [
    "##### <span style='font-family:palatino'> **Gelidon in Eiselcross** ~ Episode 123\n",
    "* <span style='font-family:palatino'>**Fight MVP:"
   ]
  },
  {
   "cell_type": "code",
   "execution_count": 112,
   "metadata": {},
   "outputs": [
    {
     "name": "stdout",
     "output_type": "stream",
     "text": [
      "Encounter:\n",
      "--------------------\n",
      "--------------------\n",
      "Initiative Order:\n",
      "--------------------\n",
      "--------------------\n"
     ]
    }
   ],
   "source": [
    "from campaign_stats import add_damage, update_healing, update_damage_taken, update_times_killed, update_times_knocked_unconscious, add_enemy_damage, get_enemy_stats\n",
    "\n",
    "encounter = []\n",
    "order = []\n",
    "print('Encounter:')\n",
    "print('--------------------')\n",
    "for i in encounter:\n",
    "    print(i)\n",
    "print('--------------------')\n",
    "print('Initiative Order:')\n",
    "print('--------------------')\n",
    "for i in order:\n",
    "    print(i)\n",
    "print('--------------------')"
   ]
  },
  {
   "attachments": {},
   "cell_type": "markdown",
   "metadata": {},
   "source": [
    "##### <span style='font-family:palatino'> **Tomb Takers** ~ Episode 123"
   ]
  },
  {
   "cell_type": "code",
   "execution_count": 113,
   "metadata": {},
   "outputs": [
    {
     "name": "stdout",
     "output_type": "stream",
     "text": [
      "Encounter:\n",
      "--------------------\n",
      "--------------------\n",
      "Initiative Order:\n",
      "--------------------\n",
      "--------------------\n"
     ]
    }
   ],
   "source": [
    "from campaign_stats import add_damage, update_healing, update_damage_taken, update_times_killed, update_times_knocked_unconscious, add_enemy_damage, get_enemy_stats\n",
    "\n",
    "encounter = []\n",
    "order = []\n",
    "print('Encounter:')\n",
    "print('--------------------')\n",
    "for i in encounter:\n",
    "    print(i)\n",
    "print('--------------------')\n",
    "print('Initiative Order:')\n",
    "print('--------------------')\n",
    "for i in order:\n",
    "    print(i)\n",
    "print('--------------------')"
   ]
  },
  {
   "attachments": {},
   "cell_type": "markdown",
   "metadata": {},
   "source": [
    "##### <span style='font-family:palatino'> **Flame Guardian of the Sanctum** ~ Episode 129\n",
    "* <span style='font-family:palatino'>**Fight MVP:"
   ]
  },
  {
   "cell_type": "code",
   "execution_count": 114,
   "metadata": {},
   "outputs": [
    {
     "name": "stdout",
     "output_type": "stream",
     "text": [
      "Encounter:\n",
      "--------------------\n",
      "--------------------\n",
      "Initiative Order:\n",
      "--------------------\n",
      "--------------------\n"
     ]
    }
   ],
   "source": [
    "from campaign_stats import add_damage, update_healing, update_damage_taken, update_times_killed, update_times_knocked_unconscious, add_enemy_damage, get_enemy_stats\n",
    "\n",
    "encounter = []\n",
    "order = []\n",
    "print('Encounter:')\n",
    "print('--------------------')\n",
    "for i in encounter:\n",
    "    print(i)\n",
    "print('--------------------')\n",
    "print('Initiative Order:')\n",
    "print('--------------------')\n",
    "for i in order:\n",
    "    print(i)\n",
    "print('--------------------')"
   ]
  },
  {
   "attachments": {},
   "cell_type": "markdown",
   "metadata": {},
   "source": [
    "##### <span style='font-family:palatino'> **Storm and Lightning Spirits** ~ Episode 131\n",
    "* <span style='font-family:palatino'>**Fight MVP:"
   ]
  },
  {
   "cell_type": "code",
   "execution_count": 115,
   "metadata": {},
   "outputs": [
    {
     "name": "stdout",
     "output_type": "stream",
     "text": [
      "Encounter:\n",
      "--------------------\n",
      "--------------------\n",
      "Initiative Order:\n",
      "--------------------\n",
      "--------------------\n"
     ]
    }
   ],
   "source": [
    "from campaign_stats import add_damage, update_healing, update_damage_taken, update_times_killed, update_times_knocked_unconscious, add_enemy_damage, get_enemy_stats\n",
    "\n",
    "encounter = []\n",
    "order = []\n",
    "print('Encounter:')\n",
    "print('--------------------')\n",
    "for i in encounter:\n",
    "    print(i)\n",
    "print('--------------------')\n",
    "print('Initiative Order:')\n",
    "print('--------------------')\n",
    "for i in order:\n",
    "    print(i)\n",
    "print('--------------------')"
   ]
  },
  {
   "attachments": {},
   "cell_type": "markdown",
   "metadata": {},
   "source": [
    "##### <span style='font-family:palatino'> **Frost Giant Zombies** ~ Episodes 132\n",
    "* <span style='font-family:palatino'>**Fight MVP:"
   ]
  },
  {
   "cell_type": "code",
   "execution_count": 116,
   "metadata": {},
   "outputs": [
    {
     "name": "stdout",
     "output_type": "stream",
     "text": [
      "Encounter:\n",
      "--------------------\n",
      "--------------------\n",
      "Initiative Order:\n",
      "--------------------\n",
      "--------------------\n"
     ]
    }
   ],
   "source": [
    "from campaign_stats import add_damage, update_healing, update_damage_taken, update_times_killed, update_times_knocked_unconscious, add_enemy_damage, get_enemy_stats\n",
    "\n",
    "encounter = []\n",
    "order = []\n",
    "print('Encounter:')\n",
    "print('--------------------')\n",
    "for i in encounter:\n",
    "    print(i)\n",
    "print('--------------------')\n",
    "print('Initiative Order:')\n",
    "print('--------------------')\n",
    "for i in order:\n",
    "    print(i)\n",
    "print('--------------------')"
   ]
  },
  {
   "attachments": {},
   "cell_type": "markdown",
   "metadata": {},
   "source": [
    "##### <span style='font-family:palatino'> **Frost Salamanders** ~ Episode 133\n",
    "* <span style='font-family:palatino'>**Fight MVP:"
   ]
  },
  {
   "cell_type": "code",
   "execution_count": 117,
   "metadata": {},
   "outputs": [
    {
     "name": "stdout",
     "output_type": "stream",
     "text": [
      "Encounter:\n",
      "--------------------\n",
      "--------------------\n",
      "Initiative Order:\n",
      "--------------------\n",
      "--------------------\n"
     ]
    }
   ],
   "source": [
    "from campaign_stats import add_damage, update_healing, update_damage_taken, update_times_killed, update_times_knocked_unconscious, add_enemy_damage, get_enemy_stats\n",
    "\n",
    "encounter = []\n",
    "order = []\n",
    "print('Encounter:')\n",
    "print('--------------------')\n",
    "for i in encounter:\n",
    "    print(i)\n",
    "print('--------------------')\n",
    "print('Initiative Order:')\n",
    "print('--------------------')\n",
    "for i in order:\n",
    "    print(i)\n",
    "print('--------------------')"
   ]
  },
  {
   "attachments": {},
   "cell_type": "markdown",
   "metadata": {},
   "source": [
    "##### <span style='font-family:palatino'> **Aeorian Absorbers and Reversers** ~ Episode 134\n",
    "* <span style='font-family:palatino'>**Fight MVP:"
   ]
  },
  {
   "cell_type": "code",
   "execution_count": 118,
   "metadata": {},
   "outputs": [
    {
     "name": "stdout",
     "output_type": "stream",
     "text": [
      "Encounter:\n",
      "--------------------\n",
      "--------------------\n",
      "Initiative Order:\n",
      "--------------------\n",
      "--------------------\n"
     ]
    }
   ],
   "source": [
    "from campaign_stats import add_damage, update_healing, update_damage_taken, update_times_killed, update_times_knocked_unconscious, add_enemy_damage, get_enemy_stats\n",
    "\n",
    "encounter = []\n",
    "order = []\n",
    "print('Encounter:')\n",
    "print('--------------------')\n",
    "for i in encounter:\n",
    "    print(i)\n",
    "print('--------------------')\n",
    "print('Initiative Order:')\n",
    "print('--------------------')\n",
    "for i in order:\n",
    "    print(i)\n",
    "print('--------------------')"
   ]
  },
  {
   "attachments": {},
   "cell_type": "markdown",
   "metadata": {},
   "source": [
    "##### <span style='font-family:palatino'> **Aeroian Nullifier and Canoloth** ~ Episode 135\n",
    "* <span style='font-family:palatino'>**Fight MVP:"
   ]
  },
  {
   "cell_type": "code",
   "execution_count": 119,
   "metadata": {},
   "outputs": [
    {
     "name": "stdout",
     "output_type": "stream",
     "text": [
      "Encounter:\n",
      "--------------------\n",
      "--------------------\n",
      "Initiative Order:\n",
      "--------------------\n",
      "--------------------\n"
     ]
    }
   ],
   "source": [
    "from campaign_stats import add_damage, update_healing, update_damage_taken, update_times_killed, update_times_knocked_unconscious, add_enemy_damage, get_enemy_stats\n",
    "\n",
    "encounter = []\n",
    "order = []\n",
    "print('Encounter:')\n",
    "print('--------------------')\n",
    "for i in encounter:\n",
    "    print(i)\n",
    "print('--------------------')\n",
    "print('Initiative Order:')\n",
    "print('--------------------')\n",
    "for i in order:\n",
    "    print(i)\n",
    "print('--------------------')"
   ]
  },
  {
   "attachments": {},
   "cell_type": "markdown",
   "metadata": {},
   "source": [
    "##### <span style='font-family:palatino'> **Lucien's Ticket Taker, Water Elemental Guardian** ~ Episode 136\n",
    "* <span style='font-family:palatino'>**Fight MVP:"
   ]
  },
  {
   "cell_type": "code",
   "execution_count": 120,
   "metadata": {},
   "outputs": [
    {
     "name": "stdout",
     "output_type": "stream",
     "text": [
      "Encounter:\n",
      "--------------------\n",
      "--------------------\n",
      "Initiative Order:\n",
      "--------------------\n",
      "--------------------\n"
     ]
    }
   ],
   "source": [
    "from campaign_stats import add_damage, update_healing, update_damage_taken, update_times_killed, update_times_knocked_unconscious, add_enemy_damage, get_enemy_stats\n",
    "\n",
    "encounter = []\n",
    "order = []\n",
    "print('Encounter:')\n",
    "print('--------------------')\n",
    "for i in encounter:\n",
    "    print(i)\n",
    "print('--------------------')\n",
    "print('Initiative Order:')\n",
    "print('--------------------')\n",
    "for i in order:\n",
    "    print(i)\n",
    "print('--------------------')"
   ]
  },
  {
   "attachments": {},
   "cell_type": "markdown",
   "metadata": {},
   "source": [
    "##### <span style='font-family:palatino'> **Cognouza Flesh Horrors** ~ Episode 137\n",
    "* <span style='font-family:palatino'>**Fight MVP:"
   ]
  },
  {
   "cell_type": "code",
   "execution_count": 121,
   "metadata": {},
   "outputs": [
    {
     "name": "stdout",
     "output_type": "stream",
     "text": [
      "Encounter:\n",
      "--------------------\n",
      "--------------------\n",
      "Initiative Order:\n",
      "--------------------\n",
      "--------------------\n"
     ]
    }
   ],
   "source": [
    "from campaign_stats import add_damage, update_healing, update_damage_taken, update_times_killed, update_times_knocked_unconscious, add_enemy_damage, get_enemy_stats\n",
    "\n",
    "encounter = []\n",
    "order = []\n",
    "print('Encounter:')\n",
    "print('--------------------')\n",
    "for i in encounter:\n",
    "    print(i)\n",
    "print('--------------------')\n",
    "print('Initiative Order:')\n",
    "print('--------------------')\n",
    "for i in order:\n",
    "    print(i)\n",
    "print('--------------------')"
   ]
  },
  {
   "attachments": {},
   "cell_type": "markdown",
   "metadata": {},
   "source": [
    "##### <span style='font-family:palatino'> **Cree Deeproots** ~ Episode 138\n",
    "* <span style='font-family:palatino'>**Fight MVP:"
   ]
  },
  {
   "cell_type": "code",
   "execution_count": 122,
   "metadata": {},
   "outputs": [
    {
     "name": "stdout",
     "output_type": "stream",
     "text": [
      "Encounter:\n",
      "--------------------\n",
      "--------------------\n",
      "Initiative Order:\n",
      "--------------------\n",
      "--------------------\n"
     ]
    }
   ],
   "source": [
    "from campaign_stats import add_damage, update_healing, update_damage_taken, update_times_killed, update_times_knocked_unconscious, add_enemy_damage, get_enemy_stats\n",
    "\n",
    "encounter = []\n",
    "order = []\n",
    "print('Encounter:')\n",
    "print('--------------------')\n",
    "for i in encounter:\n",
    "    print(i)\n",
    "print('--------------------')\n",
    "print('Initiative Order:')\n",
    "print('--------------------')\n",
    "for i in order:\n",
    "    print(i)\n",
    "print('--------------------')"
   ]
  },
  {
   "attachments": {},
   "cell_type": "markdown",
   "metadata": {},
   "source": [
    "##### <span style='font-family:palatino'> **Lucien the Neo-Somnovem** ~ Episode 139\n",
    "* <span style='font-family:palatino'>**Fight MVP:"
   ]
  },
  {
   "cell_type": "code",
   "execution_count": 123,
   "metadata": {},
   "outputs": [
    {
     "name": "stdout",
     "output_type": "stream",
     "text": [
      "Encounter:\n",
      "--------------------\n",
      "--------------------\n",
      "Initiative Order:\n",
      "--------------------\n",
      "--------------------\n"
     ]
    }
   ],
   "source": [
    "from campaign_stats import add_damage, update_healing, update_damage_taken, update_times_killed, update_times_knocked_unconscious, add_enemy_damage, get_enemy_stats\n",
    "\n",
    "encounter = []\n",
    "order = []\n",
    "print('Encounter:')\n",
    "print('--------------------')\n",
    "for i in encounter:\n",
    "    print(i)\n",
    "print('--------------------')\n",
    "print('Initiative Order:')\n",
    "print('--------------------')\n",
    "for i in order:\n",
    "    print(i)\n",
    "print('--------------------')"
   ]
  },
  {
   "attachments": {},
   "cell_type": "markdown",
   "metadata": {},
   "source": [
    "##### <span style='font-family:palatino'> **Lucien and the Aether Crux of Cognouza** ~ Episode 140 \n",
    "* <span style='font-family:palatino'>**Fight MVP:"
   ]
  },
  {
   "cell_type": "code",
   "execution_count": 124,
   "metadata": {},
   "outputs": [
    {
     "name": "stdout",
     "output_type": "stream",
     "text": [
      "Encounter:\n",
      "--------------------\n",
      "--------------------\n",
      "Initiative Order:\n",
      "--------------------\n",
      "--------------------\n"
     ]
    }
   ],
   "source": [
    "from campaign_stats import add_damage, update_healing, update_damage_taken, update_times_killed, update_times_knocked_unconscious, add_enemy_damage, get_enemy_stats\n",
    "\n",
    "encounter = []\n",
    "order = []\n",
    "print('Encounter:')\n",
    "print('--------------------')\n",
    "for i in encounter:\n",
    "    print(i)\n",
    "print('--------------------')\n",
    "print('Initiative Order:')\n",
    "print('--------------------')\n",
    "for i in order:\n",
    "    print(i)\n",
    "print('--------------------')"
   ]
  },
  {
   "attachments": {},
   "cell_type": "markdown",
   "metadata": {},
   "source": [
    "##### <span style='font-family:palatino'> **Trent Ikithon, Astrid Beck, and Eadwulf Grieve** ~ Episode 141\n",
    "* <span style='font-family:palatino'>**Fight MVP:"
   ]
  },
  {
   "cell_type": "code",
   "execution_count": 125,
   "metadata": {},
   "outputs": [
    {
     "name": "stdout",
     "output_type": "stream",
     "text": [
      "Encounter:\n",
      "--------------------\n",
      "--------------------\n",
      "Initiative Order:\n",
      "--------------------\n",
      "--------------------\n"
     ]
    }
   ],
   "source": [
    "from campaign_stats import add_damage, update_healing, update_damage_taken, update_times_killed, update_times_knocked_unconscious, add_enemy_damage, get_enemy_stats\n",
    "\n",
    "encounter = []\n",
    "order = []\n",
    "print('Encounter:')\n",
    "print('--------------------')\n",
    "for i in encounter:\n",
    "    print(i)\n",
    "print('--------------------')\n",
    "print('Initiative Order:')\n",
    "print('--------------------')\n",
    "for i in order:\n",
    "    print(i)\n",
    "print('--------------------')"
   ]
  },
  {
   "attachments": {},
   "cell_type": "markdown",
   "metadata": {},
   "source": [
    "##### <span style='font-family:palatino'> **Arc Six Non-Fighting Damages**"
   ]
  },
  {
   "cell_type": "code",
   "execution_count": 126,
   "metadata": {},
   "outputs": [],
   "source": [
    "from campaign_stats import add_damage, update_healing, update_damage_taken, update_times_killed, update_times_knocked_unconscious, add_enemy_damage, get_enemy_stats"
   ]
  },
  {
   "attachments": {},
   "cell_type": "markdown",
   "metadata": {},
   "source": [
    "***"
   ]
  },
  {
   "attachments": {},
   "cell_type": "markdown",
   "metadata": {},
   "source": [
    "### <span style='font-family:palatino'><span style='color:#89aee2'> **Total Stats for Arc Six: Weird Magic**\n",
    "\n",
    "#### <span style='font-family:palatino'><span style='color:#89aee2'> **Total Enemies:**\n",
    "#### <span style='font-family:palatino'><span style='color:#89aee2'> **Total Bosses:**"
   ]
  },
  {
   "cell_type": "code",
   "execution_count": 127,
   "metadata": {},
   "outputs": [],
   "source": [
    "from campaign_stats import get_combined_stats, get_total_enemy_damage\n",
    "\n",
    "# get_combined_stats()\n",
    "# get_total_enemy_damage()"
   ]
  },
  {
   "attachments": {},
   "cell_type": "markdown",
   "metadata": {},
   "source": [
    "***\n",
    "## <span style='font-family:palatino'><span style='color:#76CA84'>**Stat Totals for Individual Main Characters**\n",
    "***"
   ]
  },
  {
   "attachments": {},
   "cell_type": "markdown",
   "metadata": {},
   "source": [
    "### <span style='font-family:palatino'><span style='color:#76CA84'>**Total Stats for Beau**"
   ]
  },
  {
   "cell_type": "code",
   "execution_count": 128,
   "metadata": {},
   "outputs": [
    {
     "name": "stdout",
     "output_type": "stream",
     "text": [
      "Character: Beau\n",
      "Damage:\n",
      "Bludgeoning: 82\n",
      "Healing: 0\n",
      "Damage Taken: 15\n",
      "Times Knocked Unconscious: 0\n",
      "Times Killed: 0\n",
      "Amount of kills: 3\n",
      "---------------\n"
     ]
    }
   ],
   "source": [
    "from campaign_stats import get_character_stats\n",
    "get_character_stats('Beau')"
   ]
  },
  {
   "attachments": {},
   "cell_type": "markdown",
   "metadata": {},
   "source": [
    "### <span style='font-family:palatino'><span style='color:#76CA84'>**Total Stats for Caduceus**"
   ]
  },
  {
   "cell_type": "code",
   "execution_count": 129,
   "metadata": {},
   "outputs": [
    {
     "name": "stdout",
     "output_type": "stream",
     "text": [
      "Character does not exist!\n"
     ]
    }
   ],
   "source": [
    "from campaign_stats import get_character_stats\n",
    "get_character_stats('Cad')"
   ]
  },
  {
   "attachments": {},
   "cell_type": "markdown",
   "metadata": {},
   "source": [
    "### <span style='font-family:palatino'><span style='color:#76CA84'>**Total Stats for Caleb**"
   ]
  },
  {
   "cell_type": "code",
   "execution_count": 130,
   "metadata": {},
   "outputs": [
    {
     "name": "stdout",
     "output_type": "stream",
     "text": [
      "Character: Caleb\n",
      "Damage:\n",
      "Cold: 18\n",
      "Fire: 4\n",
      "Healing: 0\n",
      "Damage Taken: 16\n",
      "Times Knocked Unconscious: 1\n",
      "Times Killed: 0\n",
      "Amount of kills: 0\n",
      "---------------\n"
     ]
    }
   ],
   "source": [
    "from campaign_stats import get_character_stats\n",
    "get_character_stats('Caleb')"
   ]
  },
  {
   "attachments": {},
   "cell_type": "markdown",
   "metadata": {},
   "source": [
    "### <span style='font-family:palatino'><span style='color:#76CA84'>**Total Stats for Fjord**"
   ]
  },
  {
   "cell_type": "code",
   "execution_count": 131,
   "metadata": {},
   "outputs": [
    {
     "name": "stdout",
     "output_type": "stream",
     "text": [
      "Character: Fjord\n",
      "Damage:\n",
      "Slashing: 60\n",
      "Necrotic: 5\n",
      "Force: 42\n",
      "Psychic: 6\n",
      "Healing: 0\n",
      "Damage Taken: 21\n",
      "Times Knocked Unconscious: 1\n",
      "Times Killed: 0\n",
      "Amount of kills: 1\n",
      "---------------\n"
     ]
    }
   ],
   "source": [
    "from campaign_stats import get_character_stats\n",
    "get_character_stats('Fjord')"
   ]
  },
  {
   "attachments": {},
   "cell_type": "markdown",
   "metadata": {},
   "source": [
    "### <span style='font-family:palatino'><span style='color:#76CA84'> **Total Stats for Jester**"
   ]
  },
  {
   "cell_type": "code",
   "execution_count": 132,
   "metadata": {},
   "outputs": [
    {
     "name": "stdout",
     "output_type": "stream",
     "text": [
      "Character: Jester\n",
      "Damage:\n",
      "Radiant: 24\n",
      "Necrotic: 3\n",
      "Healing: 31\n",
      "Damage Taken: 12\n",
      "Times Knocked Unconscious: 0\n",
      "Times Killed: 0\n",
      "Amount of kills: 1\n",
      "---------------\n"
     ]
    }
   ],
   "source": [
    "from campaign_stats import get_character_stats\n",
    "get_character_stats('Jester')"
   ]
  },
  {
   "attachments": {},
   "cell_type": "markdown",
   "metadata": {},
   "source": [
    "### <span style='font-family:palatino'><span style='color:#76CA84'>**Total Stats for Molly**"
   ]
  },
  {
   "cell_type": "code",
   "execution_count": 133,
   "metadata": {},
   "outputs": [
    {
     "name": "stdout",
     "output_type": "stream",
     "text": [
      "Character: Molly\n",
      "Damage:\n",
      "Slashing: 63\n",
      "Cold: 5\n",
      "Psychic: 4\n",
      "Healing: 0\n",
      "Damage Taken: 25\n",
      "Times Knocked Unconscious: 1\n",
      "Times Killed: 0\n",
      "Amount of kills: 2\n",
      "---------------\n"
     ]
    }
   ],
   "source": [
    "from campaign_stats import get_character_stats\n",
    "get_character_stats('Molly')"
   ]
  },
  {
   "attachments": {},
   "cell_type": "markdown",
   "metadata": {},
   "source": [
    "### <span style='font-family:palatino'><span style='color:#76CA84'> **Total Stats for Veth**"
   ]
  },
  {
   "cell_type": "code",
   "execution_count": 134,
   "metadata": {},
   "outputs": [
    {
     "name": "stdout",
     "output_type": "stream",
     "text": [
      "Character: Veth\n",
      "Damage:\n",
      "Piercing: 47\n",
      "Healing: 0\n",
      "Damage Taken: 0\n",
      "Times Knocked Unconscious: 0\n",
      "Times Killed: 0\n",
      "Amount of kills: 1\n",
      "---------------\n"
     ]
    }
   ],
   "source": [
    "from campaign_stats import get_character_stats\n",
    "get_character_stats('Veth')"
   ]
  },
  {
   "attachments": {},
   "cell_type": "markdown",
   "metadata": {},
   "source": [
    "### <span style='font-family:palatino'><span style='color:#76CA84'>**Total Stats for Yasha**"
   ]
  },
  {
   "cell_type": "code",
   "execution_count": 135,
   "metadata": {},
   "outputs": [
    {
     "name": "stdout",
     "output_type": "stream",
     "text": [
      "Character: Yasha\n",
      "Damage:\n",
      "Slashing: 13\n",
      "Healing: 0\n",
      "Damage Taken: 0\n",
      "Times Knocked Unconscious: 0\n",
      "Times Killed: 0\n",
      "Amount of kills: 1\n",
      "---------------\n"
     ]
    }
   ],
   "source": [
    "from campaign_stats import get_character_stats\n",
    "get_character_stats('Yasha')"
   ]
  },
  {
   "attachments": {},
   "cell_type": "markdown",
   "metadata": {},
   "source": [
    "***\n",
    "## <span style='font-family:palatino'><span style='color:#A782D7'>**Stat Totals for Individual Side Characters**\n",
    "***"
   ]
  },
  {
   "attachments": {},
   "cell_type": "markdown",
   "metadata": {},
   "source": [
    "### <span style='font-family:palatino'><span style='color:#A782D7'>**Total Stats for NPCs**"
   ]
  },
  {
   "cell_type": "code",
   "execution_count": 136,
   "metadata": {},
   "outputs": [
    {
     "name": "stdout",
     "output_type": "stream",
     "text": [
      "Character: NPCs\n",
      "Damage:\n",
      "Healing: 0\n",
      "Damage Taken: 0\n",
      "Times Knocked Unconscious: 0\n",
      "Times Killed: 0\n",
      "Amount of kills: 0\n",
      "---------------\n"
     ]
    }
   ],
   "source": [
    "from campaign_stats import get_character_stats\n",
    "get_character_stats('NPCs')"
   ]
  },
  {
   "attachments": {},
   "cell_type": "markdown",
   "metadata": {},
   "source": [
    "### <span style='font-family:palatino'><span style='color:#A782D7'>**Shakäste**"
   ]
  },
  {
   "cell_type": "code",
   "execution_count": null,
   "metadata": {},
   "outputs": [],
   "source": [
    "from campaign_stats import get_character_stats\n",
    "get_character_stats('Shakäste')"
   ]
  },
  {
   "attachments": {},
   "cell_type": "markdown",
   "metadata": {},
   "source": [
    "***\n",
    "## <span style='font-family:palatino'><span style='color:#E86555'>**Stat Totals for Individual Enemies**\n",
    "***"
   ]
  },
  {
   "attachments": {},
   "cell_type": "markdown",
   "metadata": {},
   "source": [
    "### <span style='font-family:palatino'><span style='color:#E86555'>**Total Stats for the Carnival Husks**"
   ]
  },
  {
   "cell_type": "code",
   "execution_count": 137,
   "metadata": {},
   "outputs": [
    {
     "name": "stdout",
     "output_type": "stream",
     "text": [
      "Damage statistics for Carnival Husk is:\n",
      "Bludgeoning: 56\n"
     ]
    }
   ],
   "source": [
    "from campaign_stats import get_enemy_stats\n",
    "\n",
    "get_enemy_stats('Carnival Husk')"
   ]
  }
 ],
 "metadata": {
  "kernelspec": {
   "display_name": "Python 3",
   "language": "python",
   "name": "python3"
  },
  "language_info": {
   "codemirror_mode": {
    "name": "ipython",
    "version": 3
   },
   "file_extension": ".py",
   "mimetype": "text/x-python",
   "name": "python",
   "nbconvert_exporter": "python",
   "pygments_lexer": "ipython3",
   "version": "3.11.1"
  },
  "orig_nbformat": 4
 },
 "nbformat": 4,
 "nbformat_minor": 2
}
